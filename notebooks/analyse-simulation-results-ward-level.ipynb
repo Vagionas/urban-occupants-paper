{
 "cells": [
  {
   "cell_type": "code",
   "execution_count": null,
   "metadata": {
    "collapsed": false
   },
   "outputs": [],
   "source": [
    "from pathlib import Path\n",
    "from datetime import datetime, timedelta\n",
    "import tempfile\n",
    "import zipfile\n",
    "import io\n",
    "\n",
    "import pandas as pd\n",
    "import sqlalchemy\n",
    "import requests_cache\n",
    "import requests\n",
    "import geopandas as gpd\n",
    "\n",
    "import matplotlib.pyplot as plt\n",
    "import seaborn as sns\n",
    "sns.set_context(\"notebook\", font_scale=1.25, rc={\"lines.linewidth\": 2.5})\n",
    "%matplotlib inline"
   ]
  },
  {
   "cell_type": "code",
   "execution_count": null,
   "metadata": {
    "collapsed": false
   },
   "outputs": [],
   "source": [
    "PATH_TO_RESULT_FILE = Path('./build/haringey-scenario-results.db').absolute()\n",
    "\n",
    "LONDON_BOUNDARY_FILE_URL = 'https://files.datapress.com/london/dataset/statistical-gis-boundary-files-london/2016-10-03T13:52:28/statistical-gis-boundaries-london.zip'\n",
    "WARD_SHAPE_FILE_PATH = Path('./statistical-gis-boundaries-london/ESRI/London_Ward.shp')\n",
    "BUILD_FOLDER = Path('./build')\n",
    "BUILD_FOLDER.mkdir(parents=True, exist_ok=True)"
   ]
  },
  {
   "cell_type": "code",
   "execution_count": null,
   "metadata": {
    "collapsed": false
   },
   "outputs": [],
   "source": [
    "disk_engine = sqlalchemy.create_engine('sqlite:///{}'.format(PATH_TO_RESULT_FILE))\n",
    "requests_cache.install_cache((BUILD_FOLDER / 'cache').as_posix())"
   ]
  },
  {
   "cell_type": "code",
   "execution_count": null,
   "metadata": {
    "collapsed": false
   },
   "outputs": [],
   "source": [
    "def timedelta_from_iso_string(timedelta_as_string):\n",
    "    t = datetime.strptime(timedelta_as_string,\"PT%MM%SS\")\n",
    "    return timedelta(hours=t.hour, minutes=t.minute, seconds=t.second)\n",
    "\n",
    "assert timedelta_from_iso_string('PT19M43S') == timedelta(minutes=19) + timedelta(seconds=43)"
   ]
  },
  {
   "cell_type": "markdown",
   "metadata": {},
   "source": [
    "## Read Metadata"
   ]
  },
  {
   "cell_type": "code",
   "execution_count": null,
   "metadata": {
    "collapsed": false
   },
   "outputs": [],
   "source": [
    "metadata = pd.read_sql_query('SELECT * FROM metadata', disk_engine, index_col='key', parse_dates=True)"
   ]
  },
  {
   "cell_type": "code",
   "execution_count": null,
   "metadata": {
    "collapsed": false
   },
   "outputs": [],
   "source": [
    "metadata"
   ]
  },
  {
   "cell_type": "code",
   "execution_count": null,
   "metadata": {
    "collapsed": false
   },
   "outputs": [],
   "source": [
    "metadata = dict(zip(metadata.index, [value[0] for value in metadata.values]))"
   ]
  },
  {
   "cell_type": "code",
   "execution_count": null,
   "metadata": {
    "collapsed": false
   },
   "outputs": [],
   "source": [
    "simulation_duration = timedelta_from_iso_string(metadata['durationOfSimulation'])"
   ]
  },
  {
   "cell_type": "markdown",
   "metadata": {},
   "source": [
    "## People Activity"
   ]
  },
  {
   "cell_type": "code",
   "execution_count": null,
   "metadata": {
    "collapsed": false
   },
   "outputs": [],
   "source": [
    "activity = pd.read_sql_query('SELECT * FROM activity', disk_engine, index_col='timestamp', parse_dates=True)\n",
    "activity.index = pd.to_datetime(activity.index * 1000 * 1000)\n",
    "activity.index.name = 'datetime'\n",
    "activity.head()"
   ]
  },
  {
   "cell_type": "code",
   "execution_count": null,
   "metadata": {
    "collapsed": false
   },
   "outputs": [],
   "source": [
    "sns.heatmap(pd.crosstab(activity.index, activity.value))\n",
    "_ = plt.yticks([0, 144*0.25, 144*0.5, 144*0.75, 144], [\"24:00\", \"18:00\", \"12:00\", \"06:00\", \"00:00\"])\n",
    "_ = plt.ylabel('time of day')\n",
    "_ = plt.xlabel('activity')\n",
    "_ = plt.title(\"Heatmap of people activity during the course of a day\")"
   ]
  },
  {
   "cell_type": "markdown",
   "metadata": {},
   "source": [
    "## Dwellings"
   ]
  },
  {
   "cell_type": "code",
   "execution_count": null,
   "metadata": {
    "collapsed": false
   },
   "outputs": [],
   "source": [
    "dwellings = pd.read_sql_query('SELECT * FROM dwellings', disk_engine, index_col='index')"
   ]
  },
  {
   "cell_type": "code",
   "execution_count": null,
   "metadata": {
    "collapsed": false
   },
   "outputs": [],
   "source": [
    "dwellings.head()"
   ]
  },
  {
   "cell_type": "markdown",
   "metadata": {},
   "source": [
    "## Dwelling Temperature"
   ]
  },
  {
   "cell_type": "code",
   "execution_count": null,
   "metadata": {
    "collapsed": false
   },
   "outputs": [],
   "source": [
    "dwelling_temperature = pd.read_sql_query('SELECT * FROM temperature', disk_engine, index_col='timestamp', parse_dates=True)\n",
    "dwelling_temperature.index = pd.to_datetime(dwelling_temperature.index * 1000 * 1000)\n",
    "dwelling_temperature.index.name = 'datetime'\n",
    "dwelling_temperature = dwelling_temperature.pivot(columns='id')\n",
    "dwelling_temperature.head()"
   ]
  },
  {
   "cell_type": "code",
   "execution_count": null,
   "metadata": {
    "collapsed": false
   },
   "outputs": [],
   "source": [
    "_ = sns.violinplot(dwelling_temperature.mean(), orient='vertical')\n",
    "_ = plt.title('Average temperature of dwellings')\n",
    "_ = plt.ylabel('Average temperature [˚C]')"
   ]
  },
  {
   "cell_type": "markdown",
   "metadata": {
    "collapsed": false
   },
   "source": [
    "## Thermal Power"
   ]
  },
  {
   "cell_type": "code",
   "execution_count": null,
   "metadata": {
    "collapsed": false
   },
   "outputs": [],
   "source": [
    "thermal_power = pd.read_sql_query('SELECT * FROM thermalPower', disk_engine, index_col='timestamp', parse_dates=True)\n",
    "thermal_power.index = pd.to_datetime(thermal_power.index * 1000 * 1000)\n",
    "thermal_power.index.name = 'datetime'\n",
    "thermal_power = thermal_power.pivot(columns='id')"
   ]
  },
  {
   "cell_type": "code",
   "execution_count": null,
   "metadata": {
    "collapsed": false
   },
   "outputs": [],
   "source": [
    "thermal_power.sum(axis=1).plot()"
   ]
  },
  {
   "cell_type": "code",
   "execution_count": null,
   "metadata": {
    "collapsed": false
   },
   "outputs": [],
   "source": [
    "dwelling_temperature.groupby(axis=1, by=lambda id: dwellings.loc[int(id[1]), 'ward']).mean().plot(figsize=(14, 7))"
   ]
  },
  {
   "cell_type": "code",
   "execution_count": null,
   "metadata": {
    "collapsed": false
   },
   "outputs": [],
   "source": [
    "ax = thermal_power\\\n",
    "    .groupby(axis=1, by=lambda id: dwellings.loc[int(id[1]), 'ward'])\\\n",
    "    .mean()\\\n",
    "    .plot(figsize=(14, 7), legend=None)\n",
    "_ = plt.ylabel('average thermal power per household [W]')\n",
    "_ = plt.title('Average of thermal power per household in different wards')\n",
    "fig = ax.get_figure()\n",
    "fig.savefig((BUILD_FOLDER / 'thermal_power_per_ward.png').as_posix())"
   ]
  },
  {
   "cell_type": "code",
   "execution_count": null,
   "metadata": {
    "collapsed": false
   },
   "outputs": [],
   "source": [
    "avg_power = thermal_power.groupby(axis=1, by=lambda id: dwellings.loc[int(id[1]), 'ward']).mean().mean()"
   ]
  },
  {
   "cell_type": "code",
   "execution_count": null,
   "metadata": {
    "collapsed": false
   },
   "outputs": [],
   "source": [
    "avg_power.name = 'average thermal power'"
   ]
  },
  {
   "cell_type": "code",
   "execution_count": null,
   "metadata": {
    "collapsed": false
   },
   "outputs": [],
   "source": [
    "r = requests.get(LONDON_BOUNDARY_FILE_URL)\n",
    "z = zipfile.ZipFile(io.BytesIO(r.content))\n",
    "with tempfile.TemporaryDirectory(prefix='london-boundary-files') as tmpdir:\n",
    "    z.extractall(path=tmpdir)\n",
    "    ward_file = Path(tmpdir) / WARD_SHAPE_FILE_PATH\n",
    "    ward_data = gpd.read_file(ward_file.as_posix())\n",
    "ward_data = ward_data[ward_data.BOROUGH == 'Haringey']"
   ]
  },
  {
   "cell_type": "code",
   "execution_count": null,
   "metadata": {
    "collapsed": false
   },
   "outputs": [],
   "source": [
    "import geopandasplotting as gpdplt # using not yet released geopandas code"
   ]
  },
  {
   "cell_type": "code",
   "execution_count": null,
   "metadata": {
    "collapsed": false,
    "scrolled": false
   },
   "outputs": [],
   "source": [
    "axes = gpdplt.plot_dataframe(ward_data.join(avg_power, on='NAME'), \n",
    "                             column='average thermal power',\n",
    "                             categorical=False, \n",
    "                             linewidth=0.1, \n",
    "                             legend=True,\n",
    "                             figsize=(10, 10))\n",
    "legend = axes.get_legend()"
   ]
  },
  {
   "cell_type": "code",
   "execution_count": null,
   "metadata": {
    "collapsed": false
   },
   "outputs": [],
   "source": []
  }
 ],
 "metadata": {
  "anaconda-cloud": {},
  "kernelspec": {
   "display_name": "Python [conda env:ktp-paper]",
   "language": "python",
   "name": "conda-env-ktp-paper-py"
  },
  "language_info": {
   "codemirror_mode": {
    "name": "ipython",
    "version": 3
   },
   "file_extension": ".py",
   "mimetype": "text/x-python",
   "name": "python",
   "nbconvert_exporter": "python",
   "pygments_lexer": "ipython3",
   "version": "3.6.0"
  }
 },
 "nbformat": 4,
 "nbformat_minor": 2
}
