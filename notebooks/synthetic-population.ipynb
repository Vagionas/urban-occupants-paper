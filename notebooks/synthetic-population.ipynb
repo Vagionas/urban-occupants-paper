{
 "cells": [
  {
   "cell_type": "markdown",
   "metadata": {},
   "source": [
    "# Synthetic Population"
   ]
  },
  {
   "cell_type": "code",
   "execution_count": null,
   "metadata": {
    "collapsed": false
   },
   "outputs": [],
   "source": [
    "import pandas as pd\n",
    "import numpy as np"
   ]
  },
  {
   "cell_type": "markdown",
   "metadata": {},
   "source": [
    "## Example not considering households\n",
    "\n",
    "Two attributes with two categories each:\n",
    "\n",
    "* age: 0-50yrs, 50-100yrs\n",
    "* sex: m, f"
   ]
  },
  {
   "cell_type": "code",
   "execution_count": null,
   "metadata": {
    "collapsed": false
   },
   "outputs": [],
   "source": [
    "from enum import Enum\n",
    "\n",
    "class OrderedEnum(Enum):\n",
    "    def __ge__(self, other):\n",
    "        if self.__class__ is other.__class__:\n",
    "            return self.value >= other.value\n",
    "        return NotImplemented\n",
    "    def __gt__(self, other):\n",
    "        if self.__class__ is other.__class__:\n",
    "            return self.value > other.value\n",
    "        return NotImplemented\n",
    "    def __le__(self, other):\n",
    "        if self.__class__ is other.__class__:\n",
    "            return self.value <= other.value\n",
    "        return NotImplemented\n",
    "    def __lt__(self, other):\n",
    "        if self.__class__ is other.__class__:\n",
    "            return self.value < other.value\n",
    "        return NotImplemented\n",
    "\n",
    "class Age(OrderedEnum):\n",
    "    AGE0_50 = 1\n",
    "    AGE50_100 = 2\n",
    "    \n",
    "class Sex(OrderedEnum):\n",
    "    MALE = 1\n",
    "    FEMALE = 2\n",
    "        "
   ]
  },
  {
   "cell_type": "markdown",
   "metadata": {},
   "source": [
    "Let's create some microdata, the seed for the algorithm."
   ]
  },
  {
   "cell_type": "code",
   "execution_count": null,
   "metadata": {
    "collapsed": false
   },
   "outputs": [],
   "source": [
    "p1 = (Age.AGE0_50, Sex.MALE)\n",
    "p2 = (Age.AGE0_50, Sex.MALE)\n",
    "p3 = (Age.AGE50_100, Sex.MALE)\n",
    "p4 = (Age.AGE0_50, Sex.FEMALE)\n",
    "p5 = (Age.AGE50_100, Sex.FEMALE)"
   ]
  },
  {
   "cell_type": "markdown",
   "metadata": {},
   "source": [
    "Let's make up some statistics about the entire population."
   ]
  },
  {
   "cell_type": "code",
   "execution_count": null,
   "metadata": {
    "collapsed": false
   },
   "outputs": [],
   "source": [
    "averages = {\n",
    "    Age.AGE0_50: 75,\n",
    "    Age.AGE50_100: 25,\n",
    "    Sex.MALE: 65,\n",
    "    Sex.FEMALE: 35\n",
    "}"
   ]
  },
  {
   "cell_type": "markdown",
   "metadata": {},
   "source": [
    "## Iterative Proportional Fitting"
   ]
  },
  {
   "cell_type": "code",
   "execution_count": null,
   "metadata": {
    "collapsed": false
   },
   "outputs": [],
   "source": [
    "df_in = pd.DataFrame(\n",
    "        {\n",
    "            'sex': [Sex.MALE, Sex.MALE, Sex.FEMALE, Sex.FEMALE],\n",
    "            'age': [Age.AGE0_50, Age.AGE50_100, Age.AGE0_50, Age.AGE50_100],\n",
    "            'total': [2, 1, 1, 1]\n",
    "        }\n",
    "    )\n",
    "df_in"
   ]
  },
  {
   "cell_type": "code",
   "execution_count": null,
   "metadata": {
    "collapsed": false
   },
   "outputs": [],
   "source": [
    "xip = df_in.groupby('sex')['total'].sum()\n",
    "xpj = df_in.groupby('age')['total'].sum()\n",
    "\n",
    "xip.ix[Sex.MALE] = averages[Sex.MALE]\n",
    "xip.ix[Sex.FEMALE] = averages[Sex.FEMALE]\n",
    "\n",
    "xpj.ix[Age.AGE0_50] = averages[Age.AGE0_50]\n",
    "xpj.ix[Age.AGE50_100] = averages[Age.AGE50_100]\n",
    "\n",
    "aggregates = [xip, xpj]\n",
    "dimensions = [['sex'], ['age']]"
   ]
  },
  {
   "cell_type": "code",
   "execution_count": null,
   "metadata": {
    "collapsed": false
   },
   "outputs": [],
   "source": [
    "from ipfn import *\n",
    "\n",
    "IPF = ipfn.ipfn(\n",
    "    df_in,\n",
    "    aggregates, \n",
    "    dimensions\n",
    ")\n",
    "df_out = IPF.iteration()\n",
    "df_out"
   ]
  },
  {
   "cell_type": "code",
   "execution_count": null,
   "metadata": {
    "collapsed": false
   },
   "outputs": [],
   "source": [
    "df_out.groupby('sex').sum()"
   ]
  },
  {
   "cell_type": "code",
   "execution_count": null,
   "metadata": {
    "collapsed": false
   },
   "outputs": [],
   "source": [
    "df_out.groupby('age').sum()"
   ]
  },
  {
   "cell_type": "markdown",
   "metadata": {},
   "source": [
    "These numbers correctly mimic the population statistics.\n",
    "\n",
    "Next, based on these numbers let's create a synthetic population. Assuming the result can be understood as a joint probability mass function, we can run 100 monte carlo draws to draw 100 individuals from this function."
   ]
  },
  {
   "cell_type": "code",
   "execution_count": null,
   "metadata": {
    "collapsed": false
   },
   "outputs": [],
   "source": [
    "import random\n",
    "\n",
    "def create_individual(df):\n",
    "    random_number = random.uniform(0, 100)\n",
    "    summed_probability = 0\n",
    "    for i in df.index:\n",
    "        if random_number < df.ix[i, 'total'] + summed_probability:\n",
    "            return df.ix[i, ['sex', 'age']].values\n",
    "        else:\n",
    "            summed_probability += df.ix[i, 'total']\n",
    "    raise ValueError('doh!')"
   ]
  },
  {
   "cell_type": "code",
   "execution_count": null,
   "metadata": {
    "collapsed": false
   },
   "outputs": [],
   "source": [
    "create_individual(df_out)"
   ]
  },
  {
   "cell_type": "code",
   "execution_count": null,
   "metadata": {
    "collapsed": false
   },
   "outputs": [],
   "source": [
    "random.seed('syntheticpopulation')\n",
    "\n",
    "synthetic_population = pd.DataFrame(\n",
    "    data=[create_individual(df_out) for i in range(100)], \n",
    "    columns=['age', 'sex']\n",
    ")"
   ]
  },
  {
   "cell_type": "code",
   "execution_count": null,
   "metadata": {
    "collapsed": false
   },
   "outputs": [],
   "source": [
    "synthetic_population"
   ]
  },
  {
   "cell_type": "code",
   "execution_count": null,
   "metadata": {
    "collapsed": false
   },
   "outputs": [],
   "source": [
    "synthetic_population.describe()"
   ]
  },
  {
   "cell_type": "markdown",
   "metadata": {},
   "source": [
    "That's the synthetic population!\n",
    "\n",
    "These numbers diverge slightly from the given population statistics but that's due to the nondeterministic drawing."
   ]
  },
  {
   "cell_type": "code",
   "execution_count": null,
   "metadata": {
    "collapsed": false
   },
   "outputs": [],
   "source": []
  }
 ],
 "metadata": {
  "anaconda-cloud": {},
  "kernelspec": {
   "display_name": "Python [conda env:dev]",
   "language": "python",
   "name": "conda-env-dev-py"
  },
  "language_info": {
   "codemirror_mode": {
    "name": "ipython",
    "version": 3
   },
   "file_extension": ".py",
   "mimetype": "text/x-python",
   "name": "python",
   "nbconvert_exporter": "python",
   "pygments_lexer": "ipython3",
   "version": "3.5.2"
  }
 },
 "nbformat": 4,
 "nbformat_minor": 2
}
