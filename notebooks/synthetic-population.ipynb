{
 "cells": [
  {
   "cell_type": "markdown",
   "metadata": {},
   "source": [
    "# Synthetic Population"
   ]
  },
  {
   "cell_type": "code",
   "execution_count": null,
   "metadata": {
    "collapsed": false
   },
   "outputs": [],
   "source": [
    "from pathlib import Path\n",
    "import pandas as pd\n",
    "import numpy as np"
   ]
  },
  {
   "cell_type": "code",
   "execution_count": null,
   "metadata": {
    "collapsed": false
   },
   "outputs": [],
   "source": [
    "LONDON_BOUNDARY_FILE_URL = 'https://files.datapress.com/london/dataset/statistical-gis-boundary-files-london/2016-10-03T13:52:28/statistical-gis-boundaries-london.zip'\n",
    "LONDON_CENSUS_LABOUR_URL = 'https://files.datapress.com/london/dataset/2011-census-labour-and-qualifications/visualisation-data-labour.zip'\n",
    "LONDON_CENSUS_QUALIFICATION_URL = 'https://files.datapress.com/london/dataset/2011-census-labour-and-qualifications/visualisation-data-qualifications.zip'\n",
    "LONDON_CENSUS_WARD_POPULATION_URL = 'https://files.datapress.com/london/dataset/2011-census-demography/ward-pop-ONS-GLA-Census.xls'\n",
    "LONDON_CENSUS_BOROUGH_POPULATION_URL = 'https://files.datapress.com/london/dataset/2011-census-demography/london-unrounded-data.xls'\n",
    "\n",
    "LABOUR_FILE_PATH = Path('./LABOUR.xlsx')\n",
    "QUALIFICATION_FILE_PATH = Path('./QUALIFICATIONS.xlsx')"
   ]
  },
  {
   "cell_type": "markdown",
   "metadata": {},
   "source": [
    "## Helper Functions"
   ]
  },
  {
   "cell_type": "code",
   "execution_count": null,
   "metadata": {
    "collapsed": false
   },
   "outputs": [],
   "source": [
    "import io\n",
    "import zipfile\n",
    "import tempfile\n",
    "import requests\n",
    "import requests_cache\n",
    "\n",
    "requests_cache.install_cache('../build/cache')\n",
    "\n",
    "def read_census_file(url, filename):\n",
    "    \"\"\"Reads census 2011 data from the London data store.\n",
    "    \n",
    "    The dataset is reduced to Haringey and ward resolution. All other data is discarded.\n",
    "    \"\"\"\n",
    "    r = requests.get(url)\n",
    "    z = zipfile.ZipFile(io.BytesIO(r.content))\n",
    "    with tempfile.TemporaryDirectory(prefix='london-census-files') as tmpdir:\n",
    "        z.extractall(path=tmpdir)\n",
    "        path_to_temp_file = Path(tmpdir) / filename\n",
    "        df = pd.read_excel(\n",
    "            path_to_temp_file, \n",
    "            sheetname='2011 Data',\n",
    "            skiprows=[0],\n",
    "            header=[0]\n",
    "        )\n",
    "    df.rename(columns={'Unnamed: 1': 'area_type'}, inplace=True)\n",
    "    df['area_type'] = df['area_type'].ffill()\n",
    "    df = df[(df.DISTLABEL == 'Haringey') & (df.area_type == 'ward')]\n",
    "    del df['DISTLABEL']\n",
    "    del df['area_type']\n",
    "    del df['ZONEID']\n",
    "    del df['Unnamed: 2']\n",
    "    df.set_index('ZONELABEL', inplace=True)\n",
    "    df.index.rename('ward', inplace=True)\n",
    "    return df"
   ]
  },
  {
   "cell_type": "code",
   "execution_count": null,
   "metadata": {
    "collapsed": false
   },
   "outputs": [],
   "source": [
    "def reduce_census_data_to_tottenham(census_data):\n",
    "    return census_data[census_data.index.map(lambda label: 'Tottenham' in label)].sum()"
   ]
  },
  {
   "cell_type": "markdown",
   "metadata": {},
   "source": [
    "## Example not considering households\n",
    "\n",
    "Two attributes with two categories each:\n",
    "\n",
    "* age: 0-50yrs, 50-100yrs\n",
    "* sex: m, f"
   ]
  },
  {
   "cell_type": "code",
   "execution_count": null,
   "metadata": {
    "collapsed": false
   },
   "outputs": [],
   "source": [
    "from enum import Enum\n",
    "\n",
    "class OrderedEnum(Enum):\n",
    "    def __ge__(self, other):\n",
    "        if self.__class__ is other.__class__:\n",
    "            return self.value >= other.value\n",
    "        return NotImplemented\n",
    "    def __gt__(self, other):\n",
    "        if self.__class__ is other.__class__:\n",
    "            return self.value > other.value\n",
    "        return NotImplemented\n",
    "    def __le__(self, other):\n",
    "        if self.__class__ is other.__class__:\n",
    "            return self.value <= other.value\n",
    "        return NotImplemented\n",
    "    def __lt__(self, other):\n",
    "        if self.__class__ is other.__class__:\n",
    "            return self.value < other.value\n",
    "        return NotImplemented\n",
    "\n",
    "class Age(OrderedEnum):\n",
    "    AGE0_50 = 1\n",
    "    AGE50_100 = 2\n",
    "    \n",
    "class Sex(OrderedEnum):\n",
    "    MALE = 1\n",
    "    FEMALE = 2\n",
    "        "
   ]
  },
  {
   "cell_type": "markdown",
   "metadata": {},
   "source": [
    "Let's create some microdata, the seed for the algorithm."
   ]
  },
  {
   "cell_type": "code",
   "execution_count": null,
   "metadata": {
    "collapsed": false
   },
   "outputs": [],
   "source": [
    "p1 = (Age.AGE0_50, Sex.MALE)\n",
    "p2 = (Age.AGE0_50, Sex.MALE)\n",
    "p3 = (Age.AGE50_100, Sex.MALE)\n",
    "p4 = (Age.AGE0_50, Sex.FEMALE)\n",
    "p5 = (Age.AGE50_100, Sex.FEMALE)"
   ]
  },
  {
   "cell_type": "markdown",
   "metadata": {},
   "source": [
    "Let's make up some statistics about the entire population."
   ]
  },
  {
   "cell_type": "code",
   "execution_count": null,
   "metadata": {
    "collapsed": false
   },
   "outputs": [],
   "source": [
    "averages = {\n",
    "    Age.AGE0_50: 75,\n",
    "    Age.AGE50_100: 25,\n",
    "    Sex.MALE: 65,\n",
    "    Sex.FEMALE: 35\n",
    "}"
   ]
  },
  {
   "cell_type": "markdown",
   "metadata": {},
   "source": [
    "## Iterative Proportional Fitting"
   ]
  },
  {
   "cell_type": "code",
   "execution_count": null,
   "metadata": {
    "collapsed": false
   },
   "outputs": [],
   "source": [
    "df_in = pd.DataFrame(\n",
    "        {\n",
    "            'sex': [Sex.MALE, Sex.MALE, Sex.FEMALE, Sex.FEMALE],\n",
    "            'age': [Age.AGE0_50, Age.AGE50_100, Age.AGE0_50, Age.AGE50_100],\n",
    "            'total': [2, 1, 1, 1]\n",
    "        }\n",
    "    )\n",
    "df_in"
   ]
  },
  {
   "cell_type": "code",
   "execution_count": null,
   "metadata": {
    "collapsed": false
   },
   "outputs": [],
   "source": [
    "xip = df_in.groupby('sex')['total'].sum()\n",
    "xpj = df_in.groupby('age')['total'].sum()\n",
    "\n",
    "xip.ix[Sex.MALE] = averages[Sex.MALE]\n",
    "xip.ix[Sex.FEMALE] = averages[Sex.FEMALE]\n",
    "\n",
    "xpj.ix[Age.AGE0_50] = averages[Age.AGE0_50]\n",
    "xpj.ix[Age.AGE50_100] = averages[Age.AGE50_100]\n",
    "\n",
    "aggregates = [xip, xpj]\n",
    "dimensions = [['sex'], ['age']]"
   ]
  },
  {
   "cell_type": "code",
   "execution_count": null,
   "metadata": {
    "collapsed": false
   },
   "outputs": [],
   "source": [
    "from ipfn import *\n",
    "\n",
    "IPF = ipfn.ipfn(\n",
    "    df_in,\n",
    "    aggregates, \n",
    "    dimensions\n",
    ")\n",
    "df_out = IPF.iteration()\n",
    "df_out"
   ]
  },
  {
   "cell_type": "code",
   "execution_count": null,
   "metadata": {
    "collapsed": false
   },
   "outputs": [],
   "source": [
    "df_out.groupby('sex').sum()"
   ]
  },
  {
   "cell_type": "code",
   "execution_count": null,
   "metadata": {
    "collapsed": false
   },
   "outputs": [],
   "source": [
    "df_out.groupby('age').sum()"
   ]
  },
  {
   "cell_type": "markdown",
   "metadata": {},
   "source": [
    "These numbers correctly mimic the population statistics.\n",
    "\n",
    "Next, based on these numbers let's create a synthetic population. Assuming the result can be understood as a joint probability mass function, we can run 100 monte carlo draws to draw 100 individuals from this function."
   ]
  },
  {
   "cell_type": "code",
   "execution_count": null,
   "metadata": {
    "collapsed": false
   },
   "outputs": [],
   "source": [
    "import random\n",
    "\n",
    "def create_individual(df):\n",
    "    random_number = random.uniform(0, 100)\n",
    "    summed_probability = 0\n",
    "    for i in df.index:\n",
    "        if random_number < df.ix[i, 'total'] + summed_probability:\n",
    "            return df.ix[i, ['sex', 'age']].values\n",
    "        else:\n",
    "            summed_probability += df.ix[i, 'total']\n",
    "    raise ValueError('doh!')"
   ]
  },
  {
   "cell_type": "code",
   "execution_count": null,
   "metadata": {
    "collapsed": false
   },
   "outputs": [],
   "source": [
    "create_individual(df_out)"
   ]
  },
  {
   "cell_type": "code",
   "execution_count": null,
   "metadata": {
    "collapsed": false
   },
   "outputs": [],
   "source": [
    "random.seed('syntheticpopulation')\n",
    "\n",
    "synthetic_population = pd.DataFrame(\n",
    "    data=[create_individual(df_out) for i in range(100)], \n",
    "    columns=['age', 'sex']\n",
    ")"
   ]
  },
  {
   "cell_type": "code",
   "execution_count": null,
   "metadata": {
    "collapsed": false
   },
   "outputs": [],
   "source": [
    "synthetic_population"
   ]
  },
  {
   "cell_type": "code",
   "execution_count": null,
   "metadata": {
    "collapsed": false
   },
   "outputs": [],
   "source": [
    "synthetic_population.describe()"
   ]
  },
  {
   "cell_type": "markdown",
   "metadata": {},
   "source": [
    "That's the synthetic population!\n",
    "\n",
    "These numbers diverge slightly from the given population statistics but that's due to the nondeterministic drawing."
   ]
  },
  {
   "cell_type": "code",
   "execution_count": null,
   "metadata": {
    "collapsed": false
   },
   "outputs": [],
   "source": [
    "# TODO: consider zones\n",
    "# TODO: consider households"
   ]
  },
  {
   "cell_type": "markdown",
   "metadata": {},
   "source": [
    "## Demographic Data"
   ]
  },
  {
   "cell_type": "markdown",
   "metadata": {},
   "source": [
    "### Read Usual Resident Data"
   ]
  },
  {
   "cell_type": "code",
   "execution_count": null,
   "metadata": {
    "collapsed": false
   },
   "outputs": [],
   "source": [
    "def read_ward_population_data(url):\n",
    "    \"\"\"Reads census 2011 demographic data on ward level from the London data store.\n",
    "    \n",
    "    The dataset is reduced to Haringey and ward resolution. All other data is discarded.\n",
    "    \"\"\"\n",
    "    r = requests.get(url)\n",
    "    df = pd.read_excel(\n",
    "        io.BytesIO(r.content), \n",
    "        sheetname='2011 Census',\n",
    "        skiprows=[0],\n",
    "        header=[0]\n",
    "    )\n",
    "    df = df.ix[:, :23] # only totals, cut sex specifics\n",
    "    df = df[df.Borough == 'Haringey']\n",
    "    del df['Borough']\n",
    "    del df['Persons: All Ages'] # cut totals\n",
    "    del df['Ward Code']\n",
    "    df.set_index('Ward Name', inplace=True)\n",
    "    return df"
   ]
  },
  {
   "cell_type": "code",
   "execution_count": null,
   "metadata": {
    "collapsed": false
   },
   "outputs": [],
   "source": [
    "usual_residents = read_ward_population_data(LONDON_CENSUS_WARD_POPULATION_URL)\n",
    "usual_residents.columns"
   ]
  },
  {
   "cell_type": "code",
   "execution_count": null,
   "metadata": {
    "collapsed": false
   },
   "outputs": [],
   "source": [
    "assert usual_residents.sum().sum() == 254926"
   ]
  },
  {
   "cell_type": "markdown",
   "metadata": {},
   "source": [
    "### Read total number of fifteen year old\n",
    "\n",
    "The number of fifteen year old is important as it is used to divide adults from youth in the census (see lateron). The ward population data set cuts based on 5 years and hence does not cut between youth and adults. For reference, the total number of fifteen year old is read in here."
   ]
  },
  {
   "cell_type": "code",
   "execution_count": null,
   "metadata": {
    "collapsed": false
   },
   "outputs": [],
   "source": [
    "def read_borough_population_data(url):\n",
    "    \"\"\"Reads census 2011 demographic data on borough level from the London data store.\"\"\"\n",
    "    r = requests.get(url)\n",
    "    df = pd.read_excel(\n",
    "        io.BytesIO(r.content), \n",
    "        sheetname='Persons',\n",
    "        skiprows=[0],\n",
    "        header=[0]\n",
    "    )\n",
    "    df.drop(df.columns[[0, 2]], axis=1, inplace=True)\n",
    "    df.drop([0, 34, 35, 36, 37, 38], axis=0, inplace=True)\n",
    "    df.rename(columns={'Unnamed: 1': 'ward'}, inplace=True)\n",
    "    df.set_index('ward', inplace=True)\n",
    "    df = df.astype(np.int16)\n",
    "    return df"
   ]
  },
  {
   "cell_type": "code",
   "execution_count": null,
   "metadata": {
    "collapsed": false
   },
   "outputs": [],
   "source": [
    "total_fifteen_haringey = read_borough_population_data(LONDON_CENSUS_BOROUGH_POPULATION_URL).ix['Haringey', 15]\n",
    "total_fifteen_haringey"
   ]
  },
  {
   "cell_type": "markdown",
   "metadata": {},
   "source": [
    "### Read Economic Data"
   ]
  },
  {
   "cell_type": "code",
   "execution_count": null,
   "metadata": {
    "collapsed": false
   },
   "outputs": [],
   "source": [
    "qualification_data = read_census_file(LONDON_CENSUS_QUALIFICATION_URL, QUALIFICATION_FILE_PATH)"
   ]
  },
  {
   "cell_type": "code",
   "execution_count": null,
   "metadata": {
    "collapsed": false
   },
   "outputs": [],
   "source": [
    "qualification_data.columns"
   ]
  },
  {
   "cell_type": "code",
   "execution_count": null,
   "metadata": {
    "collapsed": false
   },
   "outputs": [],
   "source": [
    "assert qualification_data.sum().sum() == usual_residents.ix[:, '15 to 19':].sum().sum() - total_fifteen_haringey"
   ]
  },
  {
   "cell_type": "markdown",
   "metadata": {},
   "source": [
    "Qualification data is available for every usual resident starting from age 16. Unfortunately there is no data available on how many residents are older or younger than 16 (only 15) in the ward population data set. But obviously, we can infer the number of residents below 16 from the qualification data."
   ]
  },
  {
   "cell_type": "code",
   "execution_count": null,
   "metadata": {
    "collapsed": false
   },
   "outputs": [],
   "source": [
    "younger_than_sixteen = usual_residents.sum(axis=1) - qualification_data.sum(axis=1)\n",
    "younger_than_sixteen.name = 'usual residents below 16'\n",
    "younger_than_sixteen.sum()"
   ]
  },
  {
   "cell_type": "code",
   "execution_count": null,
   "metadata": {
    "collapsed": false
   },
   "outputs": [],
   "source": [
    "usual_residents_age_fifteen = younger_than_sixteen - usual_residents.ix[:, :'10 to 14'].sum(axis=1)\n",
    "usual_residents_age_fifteen.name = 'usual residents age 16'\n",
    "assert usual_residents_age_fifteen.sum() == total_fifteen_haringey"
   ]
  },
  {
   "cell_type": "code",
   "execution_count": null,
   "metadata": {
    "collapsed": false
   },
   "outputs": [],
   "source": [
    "labour_data = read_census_file(LONDON_CENSUS_LABOUR_URL, LABOUR_FILE_PATH)\n",
    "labour_data.drop(labour_data.columns[10:], axis=1, inplace=True)\n",
    "labour_data.columns"
   ]
  },
  {
   "cell_type": "code",
   "execution_count": null,
   "metadata": {
    "collapsed": false
   },
   "outputs": [],
   "source": [
    "assert labour_data.sum().sum() == usual_residents.ix[:, '15 to 19':'70 to 74'].sum().sum() - total_fifteen_haringey"
   ]
  },
  {
   "cell_type": "markdown",
   "metadata": {},
   "source": [
    "Labour data is available for every usual resident between age 16 and 74."
   ]
  },
  {
   "cell_type": "code",
   "execution_count": null,
   "metadata": {
    "collapsed": false
   },
   "outputs": [],
   "source": []
  }
 ],
 "metadata": {
  "anaconda-cloud": {},
  "kernelspec": {
   "display_name": "Python [conda env:dev]",
   "language": "python",
   "name": "conda-env-dev-py"
  },
  "language_info": {
   "codemirror_mode": {
    "name": "ipython",
    "version": 3
   },
   "file_extension": ".py",
   "mimetype": "text/x-python",
   "name": "python",
   "nbconvert_exporter": "python",
   "pygments_lexer": "ipython3",
   "version": "3.6.0"
  }
 },
 "nbformat": 4,
 "nbformat_minor": 2
}
