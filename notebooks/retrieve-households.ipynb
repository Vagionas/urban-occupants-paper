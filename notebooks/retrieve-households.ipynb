{
 "cells": [
  {
   "cell_type": "markdown",
   "metadata": {},
   "source": [
    "# Retrieve Households"
   ]
  },
  {
   "cell_type": "code",
   "execution_count": null,
   "metadata": {
    "collapsed": false
   },
   "outputs": [],
   "source": [
    "from pathlib import Path\n",
    "import zipfile\n",
    "import io\n",
    "import tempfile\n",
    "import os\n",
    "\n",
    "import geopandas as gpd\n",
    "import shapely\n",
    "import fiona\n",
    "import numpy as np\n",
    "import pandas as pd\n",
    "import folium\n",
    "import requests\n",
    "import requests_cache\n",
    "\n",
    "%matplotlib inline"
   ]
  },
  {
   "cell_type": "code",
   "execution_count": null,
   "metadata": {
    "collapsed": false
   },
   "outputs": [],
   "source": [
    "UKBUILDINGS_POINTS_FOLDER_PATH = Path('./data/ukbuildings/POINTS/')\n",
    "UKBUILDINGS_POLYGONS_FOLDER_PATH = Path('./data/ukbuildings/POLYGONS/')\n",
    "LONDON_BOUNDARY_FILE_URL = 'https://files.datapress.com/london/dataset/statistical-gis-boundary-files-london/2016-10-03T13:52:28/statistical-gis-boundaries-london.zip'\n",
    "LONDON_HOUSING_SURVEY_URL = 'https://files.datapress.com/london/dataset/2011-census-housing/visualisation-data-housing.zip'\n",
    "\n",
    "BOROUGH_SHAPE_FILE_PATH = Path('./statistical-gis-boundaries-london/ESRI/London_Borough_Excluding_MHW.shp')\n",
    "WARD_SHAPE_FILE_PATH = Path('./statistical-gis-boundaries-london/ESRI/London_Ward.shp')\n",
    "HOUSING_FILE_PATH = Path('./HOUSING.xlsx')\n",
    "BUILD_FOLDER = Path('./build')\n",
    "BUILD_FOLDER.mkdir(parents=True, exist_ok=True)"
   ]
  },
  {
   "cell_type": "code",
   "execution_count": null,
   "metadata": {
    "collapsed": false
   },
   "outputs": [],
   "source": [
    "requests_cache.install_cache((BUILD_FOLDER / 'cache').as_posix())\n",
    "RBCT_KML_FILE_PATH = Path((BUILD_FOLDER / 'rbct.kml').as_posix())"
   ]
  },
  {
   "cell_type": "markdown",
   "metadata": {},
   "source": [
    "## Helper Functions"
   ]
  },
  {
   "cell_type": "code",
   "execution_count": null,
   "metadata": {
    "collapsed": false
   },
   "outputs": [],
   "source": [
    "HB_MIN_X = 500000\n",
    "HB_MAX_X = 600000\n",
    "HB_MIN_Y = 100000\n",
    "HB_MAX_Y = 200000\n",
    "\n",
    "\n",
    "def production_blocks(minx, miny, maxx, maxy):\n",
    "    \"\"\"Generator of GeoInformationGroup production blocks.\n",
    "    \n",
    "    Based on a rectangular bounding box defined in OS national grid, \n",
    "    this generator will yield all GeoInformationGroup production blocks \n",
    "    that are touched by the box.\n",
    "    \n",
    "    Supports only bounding boxes entirely in the HB production block\n",
    "    reference.\n",
    "    \n",
    "    Parameters:\n",
    "        * minx, miny, maxx, maxy: the parameters of the bounding box \n",
    "                                  defined in OS national grid\n",
    "    \n",
    "    Yields:\n",
    "        The string name of each bounding box.\n",
    "    \"\"\"\n",
    "    assert minx >= HB_MIN_X # supports only HB\n",
    "    assert miny >= HB_MIN_Y # supports only HB\n",
    "    assert maxx <= HB_MAX_X # supports only HB\n",
    "    assert maxy <= HB_MAX_Y # supports only HB\n",
    "    start_x = (int(minx) - HB_MIN_X) // 5000 + 1\n",
    "    end_x = (int(maxx) - HB_MIN_X) // 5000 + 1\n",
    "    start_y = (int(miny) - HB_MIN_Y) // 5000 + 1\n",
    "    end_y = (int(maxy) - HB_MIN_Y) // 5000 + 1\n",
    "    for x in range(start_x, end_x + 1):\n",
    "        for y in range(start_y, end_y + 1):\n",
    "            yield 'HB{:0>2}{:0>2}'.format(x, y)\n",
    "\n",
    "assert set(production_blocks(500000, 100000, 500001, 100001)) == set(['HB0101'])\n",
    "assert set(production_blocks(500000, 100000, 500000.1, 100000.1)) == set(['HB0101'])\n",
    "assert set(production_blocks(505000, 100000, 505001, 100001)) == set(['HB0201'])\n",
    "assert set(production_blocks(500000, 105000, 500001, 105001)) == set(['HB0102'])\n",
    "assert set(production_blocks(500000, 100000, 505000, 100001)) == set(['HB0101', 'HB0201'])\n",
    "assert set(production_blocks(500000, 100000, 500001, 105000)) == set(['HB0101', 'HB0102'])\n",
    "assert set(production_blocks(504999, 100000, 505001, 100001)) == set(['HB0101', 'HB0201'])\n",
    "assert set(production_blocks(504999.9, 100000, 505001, 100001)) == set(['HB0101', 'HB0201'])"
   ]
  },
  {
   "cell_type": "code",
   "execution_count": null,
   "metadata": {
    "collapsed": false
   },
   "outputs": [],
   "source": [
    "def ukbuildings_polygon_file(production_blocks):\n",
    "    \"\"\"Generator of file paths of UKBuilding production blocks.\n",
    "    \n",
    "    Parameters:\n",
    "        * an iterable of production block names\n",
    "        \n",
    "    Yields:\n",
    "        * file path of the file containing the production block\n",
    "    \"\"\"\n",
    "    for production_block in production_blocks:\n",
    "        yield list(UKBUILDINGS_POLYGONS_FOLDER_PATH.glob('{}*.shp'.format(production_block)))[0]"
   ]
  },
  {
   "cell_type": "code",
   "execution_count": null,
   "metadata": {
    "collapsed": false
   },
   "outputs": [],
   "source": [
    "_SOMEWHERE_IN_HARINGEY = [51.585978320592275, -0.00]\n",
    "\n",
    "\n",
    "def aerial_base_map(location):\n",
    "    \"\"\"Creates an interactive aerial map at the given location.\n",
    "    \n",
    "    If there is no mapbox access token, an OpenStreetMap will be returned. \n",
    "    \"\"\"\n",
    "    try:\n",
    "        mapbox_access_token = os.environ['MAPBOX_ACCESS_TOKEN']\n",
    "    except KeyError:\n",
    "        mapbox_access_token = None\n",
    "    if mapbox_access_token is not None:\n",
    "        base_map = folium.Map(\n",
    "            location=location, \n",
    "            zoom_start=18, \n",
    "            tiles='https://api.mapbox.com/styles/v1/mapbox/satellite-streets-v10/tiles/256/{{z}}/{{x}}/{{y}}?access_token={}'.format(mapbox_access_token),\n",
    "            attr=\"© Mapbox, © OpenStreetMap\",\n",
    "            API_key='not necessary' # folium expects it here, but Mapbox expects it in the tiles url\n",
    "        )\n",
    "    else:\n",
    "        base_map = default_base_map(location)\n",
    "    return base_map\n",
    "\n",
    "\n",
    "def default_base_map(location):\n",
    "    \"\"\"Creates an interactive OpenStreetMap at the given location.\"\"\"\n",
    "    return folium.Map(\n",
    "            location=location,\n",
    "            zoom_start=18,\n",
    "            tiles='OpenStreetMap'\n",
    "        )\n",
    "            \n",
    "def map_buildings(buildings, aerial=False):\n",
    "    buildings = buildings.to_crs({'init': 'epsg:4258'})\n",
    "    if aerial:\n",
    "        base_map = aerial_base_map(_SOMEWHERE_IN_HARINGEY)\n",
    "    else:\n",
    "        base_map = default_base_map(_SOMEWHERE_IN_HARINGEY)\n",
    "    bounds = [list(buildings.dissolve(by=lambda x: 1).geometry.iloc[0].envelope.boundary.coords)[i] for i in [0, 2]]\n",
    "    bounds = [(lat, long) for long, lat in bounds]\n",
    "    base_map.fit_bounds(bounds)\n",
    "    with tempfile.TemporaryDirectory(prefix='geojson-') as geojson_dir:\n",
    "        file_name = os.path.join(geojson_dir, 'temp.json')\n",
    "        buildings.geometry.to_file(file_name, driver='GeoJSON')\n",
    "        with open(file_name, 'r') as geojson:\n",
    "            folium.GeoJson(geojson, name='geojson').add_to(base_map)\n",
    "    return base_map"
   ]
  },
  {
   "cell_type": "code",
   "execution_count": null,
   "metadata": {
    "collapsed": false
   },
   "outputs": [],
   "source": [
    "def dissolve(df, by):\n",
    "    \"\"\"Dissolve retaining CRS.\n",
    "    \n",
    "    See https://github.com/geopandas/geopandas/pull/389.\n",
    "    \"\"\"\n",
    "    crs = df.crs\n",
    "    new_df = df.dissolve(by=by)\n",
    "    new_df.crs = crs\n",
    "    return new_df"
   ]
  },
  {
   "cell_type": "markdown",
   "metadata": {},
   "source": [
    "## Read in Haringey Buildings"
   ]
  },
  {
   "cell_type": "markdown",
   "metadata": {},
   "source": [
    "### Read in Haringey shape"
   ]
  },
  {
   "cell_type": "code",
   "execution_count": null,
   "metadata": {
    "collapsed": false
   },
   "outputs": [],
   "source": [
    "r = requests.get(LONDON_BOUNDARY_FILE_URL)\n",
    "z = zipfile.ZipFile(io.BytesIO(r.content))\n",
    "with tempfile.TemporaryDirectory(prefix='london-boundary-files') as tmpdir:\n",
    "    z.extractall(path=tmpdir)\n",
    "    borough_file = Path(tmpdir) / BOROUGH_SHAPE_FILE_PATH\n",
    "    borough_data = gpd.read_file(borough_file.as_posix())\n",
    "borough_data.plot()"
   ]
  },
  {
   "cell_type": "code",
   "execution_count": null,
   "metadata": {
    "collapsed": false
   },
   "outputs": [],
   "source": [
    "haringey = borough_data[borough_data.NAME == 'Haringey'].geometry.iloc[0]"
   ]
  },
  {
   "cell_type": "code",
   "execution_count": null,
   "metadata": {
    "collapsed": false
   },
   "outputs": [],
   "source": [
    "haringey.boundary"
   ]
  },
  {
   "cell_type": "markdown",
   "metadata": {},
   "source": [
    "### Read all UKBuilding files that include Haringey buildings\n",
    "\n",
    "Theoretically we could read all UKBuilding files, but the reading and especially the merging takes too long. So in a smarter way, let's filter all files not including Haringey buildings."
   ]
  },
  {
   "cell_type": "code",
   "execution_count": null,
   "metadata": {
    "collapsed": false
   },
   "outputs": [],
   "source": [
    "raw_ukb_data = None\n",
    "for shape_file_path in ukbuildings_polygon_file(production_blocks(*haringey.bounds)):\n",
    "    print('Reading {}'.format(shape_file_path))\n",
    "    shape_file_data = gpd.read_file(shape_file_path.as_posix())\n",
    "    if raw_ukb_data is None:\n",
    "        raw_ukb_data = shape_file_data\n",
    "    else:\n",
    "        raw_ukb_data = raw_ukb_data.append(shape_file_data)"
   ]
  },
  {
   "cell_type": "code",
   "execution_count": null,
   "metadata": {
    "collapsed": false
   },
   "outputs": [],
   "source": [
    "crs = raw_ukb_data.crs"
   ]
  },
  {
   "cell_type": "code",
   "execution_count": null,
   "metadata": {
    "collapsed": false
   },
   "outputs": [],
   "source": [
    "col_types = {\n",
    "    'BASE': np.bool8,\n",
    "    'BEC': np.int8,\n",
    "    'BUNG': np.bool8,\n",
    "    'DOR': np.int16,\n",
    "    'DPS': np.int16,\n",
    "    'GET': 'category',\n",
    "    'MBN': 'category',\n",
    "    'NAB': 'category',\n",
    "    'RBCA': 'category',\n",
    "    'RBCAT': 'category',\n",
    "    'RBCC': 'category',\n",
    "    'RBCS': 'category',\n",
    "    'RBCT': 'category',\n",
    "    'RBCTT': 'category',\n",
    "    'RBN': np.int8,\n",
    "    # TODO RBQ ??\n",
    "    # TODO KBD ??\n",
    "    'RDT': 'category',\n",
    "    'RDTT': 'category',\n",
    "    'RNR': 'category',\n",
    "    'RRN': np.int8,\n",
    "    'RRT': 'category',\n",
    "    'RRTT': 'category',\n",
    "    'RWN': np.int8,\n",
    "    'RWT': 'category',\n",
    "    'RWTT': 'category',\n",
    "    'SBC': 'category'\n",
    "}"
   ]
  },
  {
   "cell_type": "code",
   "execution_count": null,
   "metadata": {
    "collapsed": false
   },
   "outputs": [],
   "source": [
    "raw_ukb_data = raw_ukb_data.astype(col_types)\n",
    "raw_ukb_data = gpd.GeoDataFrame(raw_ukb_data)"
   ]
  },
  {
   "cell_type": "code",
   "execution_count": null,
   "metadata": {
    "collapsed": false
   },
   "outputs": [],
   "source": [
    "raw_ukb_data.crs = crs"
   ]
  },
  {
   "cell_type": "markdown",
   "metadata": {},
   "source": [
    "### Cut out Haringey\n",
    "\n",
    "The read in files contain all buildings from all GeoInformationGroup production block files in which Haringey buildings are present. Let's filter for only Haringey buildings."
   ]
  },
  {
   "cell_type": "code",
   "execution_count": null,
   "metadata": {
    "collapsed": false
   },
   "outputs": [],
   "source": [
    "from shapely.prepared import prep\n",
    "haringey_prep = prep(haringey) # improves performace for the next step\n",
    "in_haringey_mask = raw_ukb_data.geometry.map(haringey_prep.contains)"
   ]
  },
  {
   "cell_type": "code",
   "execution_count": null,
   "metadata": {
    "collapsed": false
   },
   "outputs": [],
   "source": [
    "raw_ukb_data = raw_ukb_data[in_haringey_mask]"
   ]
  },
  {
   "cell_type": "markdown",
   "metadata": {},
   "source": [
    "### Tests"
   ]
  },
  {
   "cell_type": "code",
   "execution_count": null,
   "metadata": {
    "collapsed": false
   },
   "outputs": [],
   "source": [
    "ukb_poly = shapely.geometry.MultiPolygon([polygon for polygon in raw_ukb_data.geometry])"
   ]
  },
  {
   "cell_type": "code",
   "execution_count": null,
   "metadata": {
    "collapsed": false
   },
   "outputs": [],
   "source": [
    "assert ukb_poly.convex_hull.difference(haringey.convex_hull).area / 1000000 < 2\n",
    "assert haringey.convex_hull.difference(ukb_poly.convex_hull).area / 1000000 < 2"
   ]
  },
  {
   "cell_type": "markdown",
   "metadata": {},
   "source": [
    "The difference between the convex hull of all Haringey buildings in the UKBuildings dataset and the convex hull of the borough boundary is smaller than 2 * 2km<sup>2</sup>. _(Arbitrarily chosen to be small enough.)_"
   ]
  },
  {
   "cell_type": "code",
   "execution_count": null,
   "metadata": {
    "collapsed": false
   },
   "outputs": [],
   "source": [
    "len(raw_ukb_data)"
   ]
  },
  {
   "cell_type": "markdown",
   "metadata": {},
   "source": [
    "## Reduce to Tottenham\n",
    "\n",
    "As for the moment, let's look at Tottenham only."
   ]
  },
  {
   "cell_type": "code",
   "execution_count": null,
   "metadata": {
    "collapsed": false
   },
   "outputs": [],
   "source": [
    "r = requests.get(LONDON_BOUNDARY_FILE_URL)\n",
    "z = zipfile.ZipFile(io.BytesIO(r.content))\n",
    "with tempfile.TemporaryDirectory(prefix='london-boundary-files') as tmpdir:\n",
    "    z.extractall(path=tmpdir)\n",
    "    ward_file = Path(tmpdir) / WARD_SHAPE_FILE_PATH\n",
    "    ward_data = gpd.read_file(ward_file.as_posix())\n",
    "ward_data.plot()"
   ]
  },
  {
   "cell_type": "code",
   "execution_count": null,
   "metadata": {
    "collapsed": false
   },
   "outputs": [],
   "source": [
    "tottenham = ward_data[(ward_data.BOROUGH == 'Haringey') & ward_data.NAME.map(lambda name: 'Tottenham' in name)]\n",
    "tottenham = tottenham.dissolve(by=lambda x: 1).iloc[0].geometry\n",
    "tottenham"
   ]
  },
  {
   "cell_type": "code",
   "execution_count": null,
   "metadata": {
    "collapsed": false
   },
   "outputs": [],
   "source": [
    "type(raw_ukb_data.dissolve(by='UBN'))"
   ]
  },
  {
   "cell_type": "code",
   "execution_count": null,
   "metadata": {
    "collapsed": false
   },
   "outputs": [],
   "source": [
    "tottenham_prep = prep(tottenham) # improves performace for the next step\n",
    "in_tottenham_mask = raw_ukb_data.geometry.map(tottenham_prep.contains)\n",
    "raw_ukb_data = raw_ukb_data[in_tottenham_mask]\n",
    "\n",
    "map_buildings(dissolve(raw_ukb_data, by='UBN'), aerial=False)"
   ]
  },
  {
   "cell_type": "code",
   "execution_count": null,
   "metadata": {
    "collapsed": false
   },
   "outputs": [],
   "source": [
    "len(raw_ukb_data)"
   ]
  },
  {
   "cell_type": "markdown",
   "metadata": {},
   "source": [
    "## Reference Number of Housholds\n",
    "\n",
    "Retrieve the number of households in the area, based on the [2011 survey data](https://data.london.gov.uk/dataset/2011-census-housing)."
   ]
  },
  {
   "cell_type": "code",
   "execution_count": null,
   "metadata": {
    "collapsed": false
   },
   "outputs": [],
   "source": [
    "r = requests.get(LONDON_HOUSING_SURVEY_URL)\n",
    "z = zipfile.ZipFile(io.BytesIO(r.content))\n",
    "with tempfile.TemporaryDirectory(prefix='london-housing-files') as tmpdir:\n",
    "    z.extractall(path=tmpdir)\n",
    "    housing_file = Path(tmpdir) / HOUSING_FILE_PATH\n",
    "    housing_data = pd.read_excel(\n",
    "        housing_file, \n",
    "        sheetname='2011 Data',\n",
    "        skiprows=[0],\n",
    "        header=[0]\n",
    "    )\n",
    "housing_data.rename(columns={'Unnamed: 1': 'area_type'}, inplace=True)\n",
    "housing_data['area_type'] = housing_data['area_type'].ffill()"
   ]
  },
  {
   "cell_type": "code",
   "execution_count": null,
   "metadata": {
    "collapsed": false
   },
   "outputs": [],
   "source": [
    "tottenham_housing_data = housing_data[(housing_data.DISTLABEL == 'Haringey') & \n",
    "                                      (housing_data.area_type == 'ward') & \n",
    "                                       housing_data.ZONELABEL.map(lambda label: 'Tottenham' in label)].sum()"
   ]
  },
  {
   "cell_type": "code",
   "execution_count": null,
   "metadata": {
    "collapsed": false
   },
   "outputs": [],
   "source": [
    "tottenham_housing_data.index"
   ]
  },
  {
   "cell_type": "code",
   "execution_count": null,
   "metadata": {
    "collapsed": false
   },
   "outputs": [],
   "source": [
    "cars_total = (\n",
    "    tottenham_housing_data['No cars or vans in household'] +\n",
    "    tottenham_housing_data['1 car or van in household'] +\n",
    "    tottenham_housing_data['2 cars or vans in household'] +\n",
    "    tottenham_housing_data['3 cars or vans in household'] +\n",
    "    tottenham_housing_data['4 or more cars or vans in household']\n",
    ")\n",
    "ownership_total = (\n",
    "    tottenham_housing_data['Owned: Total'] +\n",
    "    tottenham_housing_data['Shared ownership (part owned and part rented)'] +\n",
    "    tottenham_housing_data['Social rented: Total'] +\n",
    "    tottenham_housing_data['Private rented: Total'] +\n",
    "    tottenham_housing_data['Living rent free']\n",
    ")\n",
    "share_total = (\n",
    "    tottenham_housing_data['Unshared dwelling: Total'] +\n",
    "    tottenham_housing_data['Shared dwelling']\n",
    ")\n",
    "heating_total = (\n",
    "    tottenham_housing_data['No central heating'] +\n",
    "    tottenham_housing_data['Gas central heating'] +\n",
    "    tottenham_housing_data['Electric (including storage heaters) central heating'] +\n",
    "    tottenham_housing_data['Oil central heating'] +\n",
    "    tottenham_housing_data['Solid fuel (for example wood, coal) central heating'] +\n",
    "    tottenham_housing_data['Other central heating'] + \n",
    "    tottenham_housing_data['Two or more types of central heating']\n",
    "    \n",
    ")\n",
    "assert cars_total == heating_total\n",
    "assert cars_total == share_total\n",
    "assert cars_total == ownership_total\n",
    "cars_total"
   ]
  },
  {
   "cell_type": "markdown",
   "metadata": {},
   "source": [
    "There are 11309 households in Tottenham."
   ]
  },
  {
   "cell_type": "markdown",
   "metadata": {},
   "source": [
    "## Dataset exploration"
   ]
  },
  {
   "cell_type": "code",
   "execution_count": null,
   "metadata": {
    "collapsed": false
   },
   "outputs": [],
   "source": [
    "raw_ukb_data.groupby('RDTT').UPN.count()"
   ]
  },
  {
   "cell_type": "code",
   "execution_count": null,
   "metadata": {
    "collapsed": false
   },
   "outputs": [],
   "source": [
    "raw_ukb_data.groupby('RDTT').UBN.apply(lambda values: len(set(values)))"
   ]
  },
  {
   "cell_type": "code",
   "execution_count": null,
   "metadata": {
    "collapsed": false
   },
   "outputs": [],
   "source": [
    "semi_detached_mask = (raw_ukb_data[raw_ukb_data.RDT == 3].groupby('UBN').UPN.count() > 2)"
   ]
  },
  {
   "cell_type": "code",
   "execution_count": null,
   "metadata": {
    "collapsed": false
   },
   "outputs": [],
   "source": [
    "semi_detached_mask[semi_detached_mask == True]"
   ]
  },
  {
   "cell_type": "markdown",
   "metadata": {},
   "source": [
    "14 out of the 137 semi detached buildings have more than 2 distinct properties."
   ]
  },
  {
   "cell_type": "code",
   "execution_count": null,
   "metadata": {
    "collapsed": false
   },
   "outputs": [],
   "source": [
    "detached_mask = (raw_ukb_data[raw_ukb_data.RDT == 4].groupby('UBN').UPN.count() > 1)"
   ]
  },
  {
   "cell_type": "code",
   "execution_count": null,
   "metadata": {
    "collapsed": false
   },
   "outputs": [],
   "source": [
    "detached_mask.describe()"
   ]
  },
  {
   "cell_type": "code",
   "execution_count": null,
   "metadata": {
    "collapsed": false
   },
   "outputs": [],
   "source": [
    "detached_mask.describe()"
   ]
  },
  {
   "cell_type": "markdown",
   "metadata": {},
   "source": [
    "19 of 53 detached buildings have more than one property. They seem wrongly identified."
   ]
  },
  {
   "cell_type": "code",
   "execution_count": null,
   "metadata": {
    "collapsed": false
   },
   "outputs": [],
   "source": [
    "print('Detached buildings with more than one property:')\n",
    "map_buildings(raw_ukb_data[raw_ukb_data.UBN.map(lambda ubn: ubn in detached_mask[detached_mask == True].index)], aerial=True)"
   ]
  },
  {
   "cell_type": "code",
   "execution_count": null,
   "metadata": {
    "collapsed": false
   },
   "outputs": [],
   "source": [
    "def export_rbct_data_as_kml(df, path_to_file):\n",
    "    \"\"\"Exports RBCT data to KML to be used in Google Earth e.g.\"\"\"\n",
    "    fiona.drvsupport.supported_drivers['kml'] = 'rw' # enable KML support which is disabled by default\n",
    "    export_data = df.copy()\n",
    "    export_data.geometry = df.geometry.apply(lambda polygon: polygon.centroid)\n",
    "    export_data = export_data[['RBCT', 'RBCTT', 'geometry']]\n",
    "    export_data = export_data.astype({'RBCT': np.int8, 'RBCTT': np.str})\n",
    "    export_data = gpd.GeoDataFrame(export_data)\n",
    "    export_data.crs = df.crs\n",
    "    export_data.to_file(path_to_file.as_posix(), driver='kml')"
   ]
  },
  {
   "cell_type": "code",
   "execution_count": null,
   "metadata": {
    "collapsed": false
   },
   "outputs": [],
   "source": [
    "export_rbct_data_as_kml(raw_ukb_data, RBCT_KML_FILE_PATH)"
   ]
  },
  {
   "cell_type": "markdown",
   "metadata": {
    "collapsed": false
   },
   "source": [
    "## From UKBuildings to Households"
   ]
  },
  {
   "cell_type": "markdown",
   "metadata": {},
   "source": [
    "### Algorithm for inferring households\n",
    "\n",
    "1. Group buildings by residential building type (RDT).\n",
    "2. Assume 1 household per property in every house: Terraced (2), Semi-Detached (3), and Detached (4).\n",
    "3. Assume several households for every flat type.\n",
    "4. Assume households do not span upon storeys in flats.\n",
    "5. Assume same household size for every household in a flat.\n",
    "6. Find flat householf size for which the reference number of households from 2011 survey is reached (this will lead to households having different sizes)."
   ]
  },
  {
   "cell_type": "code",
   "execution_count": null,
   "metadata": {
    "collapsed": false
   },
   "outputs": [],
   "source": [
    "# TODO improve using Census 2011 data. The data has more details on how many flat households, \n",
    "# households in detached building etc"
   ]
  },
  {
   "cell_type": "code",
   "execution_count": null,
   "metadata": {
    "collapsed": false
   },
   "outputs": [],
   "source": [
    "ukb_data = raw_ukb_data.copy()"
   ]
  },
  {
   "cell_type": "markdown",
   "metadata": {},
   "source": [
    "### Filter Non-Residential Buildings"
   ]
  },
  {
   "cell_type": "code",
   "execution_count": null,
   "metadata": {
    "collapsed": false
   },
   "outputs": [],
   "source": [
    "ukb_data.groupby(by='RNR').UPN.count()"
   ]
  },
  {
   "cell_type": "code",
   "execution_count": null,
   "metadata": {
    "collapsed": false
   },
   "outputs": [],
   "source": [
    "ukb_data = ukb_data[ukb_data.RNR != 2]"
   ]
  },
  {
   "cell_type": "code",
   "execution_count": null,
   "metadata": {
    "collapsed": false
   },
   "outputs": [],
   "source": [
    "len(ukb_data.UBN.unique())"
   ]
  },
  {
   "cell_type": "code",
   "execution_count": null,
   "metadata": {
    "collapsed": false
   },
   "outputs": [],
   "source": [
    "len(ukb_data.UPN.unique())"
   ]
  },
  {
   "cell_type": "code",
   "execution_count": null,
   "metadata": {
    "collapsed": false
   },
   "outputs": [],
   "source": [
    "11309 / 6679"
   ]
  },
  {
   "cell_type": "markdown",
   "metadata": {},
   "source": [
    "There are 6679 residential properties in the UKBuildings data set, spread over 965 buildings. From the survey data we know that there are 11309 households in Tottenham, so we have in average 1.69 households per property."
   ]
  },
  {
   "cell_type": "markdown",
   "metadata": {},
   "source": [
    "### Handle NaN in RDT"
   ]
  },
  {
   "cell_type": "code",
   "execution_count": null,
   "metadata": {
    "collapsed": false
   },
   "outputs": [],
   "source": [
    "assert not any(ukb_data.RDT.isnull())"
   ]
  },
  {
   "cell_type": "code",
   "execution_count": null,
   "metadata": {
    "collapsed": false
   },
   "outputs": [],
   "source": [
    "ukb_data.RDT[ukb_data.RDT == 0].count()"
   ]
  },
  {
   "cell_type": "markdown",
   "metadata": {},
   "source": [
    "No NaN's, but 262 values are 0 and hence missing."
   ]
  },
  {
   "cell_type": "code",
   "execution_count": null,
   "metadata": {
    "collapsed": false
   },
   "outputs": [],
   "source": [
    "missing_value_mask = ukb_data.RDT == 0\n",
    "ukb_data.RDT[missing_value_mask] = np.nan\n",
    "ukb_data.RDTT[missing_value_mask] = np.nan"
   ]
  },
  {
   "cell_type": "code",
   "execution_count": null,
   "metadata": {
    "collapsed": false
   },
   "outputs": [],
   "source": [
    "assert (ukb_data.RDT.isnull()[ukb_data.RDT.isnull() == True]).count() == 262\n",
    "assert (ukb_data.RDTT.isnull()[ukb_data.RDTT.isnull() == True]).count() == 262"
   ]
  },
  {
   "cell_type": "code",
   "execution_count": null,
   "metadata": {
    "collapsed": false
   },
   "outputs": [],
   "source": [
    "ukb_data.RDT[ukb_data.RDT == 0].count()"
   ]
  },
  {
   "cell_type": "code",
   "execution_count": null,
   "metadata": {
    "collapsed": false
   },
   "outputs": [],
   "source": [
    "ukb_data[missing_value_mask].RBCT.unique()"
   ]
  },
  {
   "cell_type": "code",
   "execution_count": null,
   "metadata": {
    "collapsed": false
   },
   "outputs": [],
   "source": [
    "ukb_data.RDT.fillna(method='ffill', inplace=True) # FIXME certainly not a good idea\n",
    "ukb_data.RDTT.fillna(method='ffill', inplace=True) # FIXME certainly not a good idea"
   ]
  },
  {
   "cell_type": "code",
   "execution_count": null,
   "metadata": {
    "collapsed": false
   },
   "outputs": [],
   "source": [
    "assert not any(ukb_data.RDT.isnull())\n",
    "assert not any(ukb_data.RDTT.isnull())"
   ]
  },
  {
   "cell_type": "markdown",
   "metadata": {},
   "source": [
    "### Handle NaN in Height"
   ]
  },
  {
   "cell_type": "code",
   "execution_count": null,
   "metadata": {
    "collapsed": false
   },
   "outputs": [],
   "source": [
    "assert not any(ukb_data.HGT.isnull())"
   ]
  },
  {
   "cell_type": "code",
   "execution_count": null,
   "metadata": {
    "collapsed": false
   },
   "outputs": [],
   "source": [
    "ukb_data.HGT.min()"
   ]
  },
  {
   "cell_type": "code",
   "execution_count": null,
   "metadata": {
    "collapsed": false
   },
   "outputs": [],
   "source": [
    "missing_value_mask = ukb_data.HGT == 0\n",
    "ukb_data.HGT[missing_value_mask] = np.nan"
   ]
  },
  {
   "cell_type": "code",
   "execution_count": null,
   "metadata": {
    "collapsed": false
   },
   "outputs": [],
   "source": [
    "average_building_height = ukb_data[~missing_value_mask].groupby('RDT').HGT.mean()\n",
    "average_building_height"
   ]
  },
  {
   "cell_type": "code",
   "execution_count": null,
   "metadata": {
    "collapsed": false
   },
   "outputs": [],
   "source": [
    "for dwelling_type in ukb_data.RDT.unique():\n",
    "    ukb_data.HGT[missing_value_mask & ukb_data.RDT == dwelling_type] = average_building_height[dwelling_type]"
   ]
  },
  {
   "cell_type": "code",
   "execution_count": null,
   "metadata": {
    "collapsed": false
   },
   "outputs": [],
   "source": [
    "assert not any(ukb_data.HGT.isnull())"
   ]
  },
  {
   "cell_type": "code",
   "execution_count": null,
   "metadata": {
    "collapsed": false
   },
   "outputs": [],
   "source": [
    "assert ukb_data.HGT.min() > 2, 'There is a building smaller than 2m.'"
   ]
  },
  {
   "cell_type": "markdown",
   "metadata": {},
   "source": [
    "### Infer number of storeys"
   ]
  },
  {
   "cell_type": "code",
   "execution_count": null,
   "metadata": {
    "collapsed": false
   },
   "outputs": [],
   "source": [
    "# TODO UKBuilding is supposed to have that as a feature. Use it! (Current data set does not contain it though.)"
   ]
  },
  {
   "cell_type": "code",
   "execution_count": null,
   "metadata": {
    "collapsed": false
   },
   "outputs": [],
   "source": [
    "ASSUMED_STOREY_HEIGHT = 3.5\n",
    "\n",
    "def simplistic_storey_number_detection(building_height):\n",
    "    return round(building_height / ASSUMED_STOREY_HEIGHT)\n",
    "\n",
    "assert simplistic_storey_number_detection(3.5) == 1\n",
    "assert simplistic_storey_number_detection(7.0) == 2\n",
    "assert simplistic_storey_number_detection(35) == 10\n",
    "assert simplistic_storey_number_detection(3.6) == 1\n",
    "assert simplistic_storey_number_detection(6.9) == 2\n",
    "assert simplistic_storey_number_detection(3.5 + 3.5/2 - 0.001) == 1 \n",
    "assert simplistic_storey_number_detection(3.5 + 3.5/2) == 2 "
   ]
  },
  {
   "cell_type": "code",
   "execution_count": null,
   "metadata": {
    "collapsed": false,
    "scrolled": false
   },
   "outputs": [],
   "source": [
    "ukb_data['number_storeys'] = ukb_data.HGT.map(simplistic_storey_number_detection) # FIXME No! Don't do that!"
   ]
  },
  {
   "cell_type": "code",
   "execution_count": null,
   "metadata": {
    "collapsed": false,
    "scrolled": false
   },
   "outputs": [],
   "source": [
    "ukb_data.number_storeys.describe()"
   ]
  },
  {
   "cell_type": "markdown",
   "metadata": {},
   "source": [
    "### Determine number of households"
   ]
  },
  {
   "cell_type": "code",
   "execution_count": null,
   "metadata": {
    "collapsed": false
   },
   "outputs": [],
   "source": [
    "ukb_data['number_households'] = pd.Series(index=ukb_data.index, dtype=np.int8)"
   ]
  },
  {
   "cell_type": "code",
   "execution_count": null,
   "metadata": {
    "collapsed": false
   },
   "outputs": [],
   "source": [
    "ukb_data.ix[(ukb_data.RDT == 2) | (ukb_data.RDT == 3) | (ukb_data.RDT == 4), 'number_households'] = 1"
   ]
  },
  {
   "cell_type": "code",
   "execution_count": null,
   "metadata": {
    "collapsed": false
   },
   "outputs": [],
   "source": [
    "households_in_flats = 11309 - 5985\n",
    "households_in_flats"
   ]
  },
  {
   "cell_type": "markdown",
   "metadata": {},
   "source": [
    "There must be 5324 households in flats."
   ]
  },
  {
   "cell_type": "code",
   "execution_count": null,
   "metadata": {
    "collapsed": false
   },
   "outputs": [],
   "source": [
    "# TODO handle mixed residential buildings. Their non-residential floor area should be subtracted.\n",
    "\n",
    "def building_stock_difference(building_areas, building_storeys, target_household_number):\n",
    "    assert len(building_areas) == len(building_storeys)\n",
    "    def total_household_difference(target_household_size):\n",
    "        total_number = 0\n",
    "        for building_area, building_storey in zip(building_areas, building_storeys):\n",
    "            total_number += number_households_in_building(building_area, building_storey, target_household_size[0])\n",
    "        return abs(target_household_number - total_number)\n",
    "    return total_household_difference\n",
    "\n",
    "\n",
    "def number_households_in_building(building_area, building_storey, target_household_size):\n",
    "    return round(building_area / target_household_size) * building_storey\n",
    "\n",
    "\n",
    "assert number_households_in_building(10, 1, 10) == 1\n",
    "assert number_households_in_building(10, 5, 10) == 5\n",
    "assert number_households_in_building(20, 1, 10) == 2\n",
    "assert number_households_in_building(14.9, 1, 10) == 1\n",
    "assert number_households_in_building(15, 1, 10) == 2"
   ]
  },
  {
   "cell_type": "code",
   "execution_count": null,
   "metadata": {
    "collapsed": false
   },
   "outputs": [],
   "source": [
    "from scipy.optimize import fmin\n",
    "optimal_flat_size = fmin(\n",
    "    func=building_stock_difference(\n",
    "        building_areas=[poly.area for poly in ukb_data[ukb_data.RDT == 1].geometry], \n",
    "        building_storeys=list(ukb_data[ukb_data.RDT == 1].number_storeys),\n",
    "        target_household_number=households_in_flats\n",
    "    ),\n",
    "    x0=50\n",
    ")[0]\n",
    "optimal_flat_size"
   ]
  },
  {
   "cell_type": "code",
   "execution_count": null,
   "metadata": {
    "collapsed": false
   },
   "outputs": [],
   "source": [
    "def number_households(optimal_flat_size):\n",
    "    def number_households(building):\n",
    "        if building.RDT == 1:\n",
    "            return number_households_in_building(building.geometry.area, building.number_storeys, optimal_flat_size)\n",
    "        else:\n",
    "            return building.number_households\n",
    "    return number_households"
   ]
  },
  {
   "cell_type": "code",
   "execution_count": null,
   "metadata": {
    "collapsed": false
   },
   "outputs": [],
   "source": [
    "ukb_data['number_households'] = ukb_data.apply(\n",
    "    number_households(optimal_flat_size),\n",
    "    axis=1\n",
    ")"
   ]
  },
  {
   "cell_type": "code",
   "execution_count": null,
   "metadata": {
    "collapsed": false
   },
   "outputs": [],
   "source": [
    "assert ukb_data.number_households.sum() == 11309"
   ]
  },
  {
   "cell_type": "code",
   "execution_count": null,
   "metadata": {
    "collapsed": false
   },
   "outputs": [],
   "source": [
    "ukb_data.number_households.describe()"
   ]
  },
  {
   "cell_type": "code",
   "execution_count": null,
   "metadata": {
    "collapsed": false
   },
   "outputs": [],
   "source": [
    "map_buildings(ukb_data[ukb_data.number_households > 100], aerial=False)"
   ]
  },
  {
   "cell_type": "code",
   "execution_count": null,
   "metadata": {
    "collapsed": false
   },
   "outputs": [],
   "source": []
  }
 ],
 "metadata": {
  "anaconda-cloud": {},
  "kernelspec": {
   "display_name": "Python [conda env:geo]",
   "language": "python",
   "name": "conda-env-geo-py"
  },
  "language_info": {
   "codemirror_mode": {
    "name": "ipython",
    "version": 3
   },
   "file_extension": ".py",
   "mimetype": "text/x-python",
   "name": "python",
   "nbconvert_exporter": "python",
   "pygments_lexer": "ipython3",
   "version": "3.5.2"
  }
 },
 "nbformat": 4,
 "nbformat_minor": 1
}
