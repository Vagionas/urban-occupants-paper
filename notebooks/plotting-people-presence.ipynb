{
 "cells": [
  {
   "cell_type": "markdown",
   "metadata": {},
   "source": [
    "# Retrieve Activities\n",
    "\n",
    "This Jupyter notebook processes the [UK Time Use study data from 2000](https://discover.ukdataservice.ac.uk/catalogue?sn=4504) and brings it into a format readible by [people](https://github.com/timtroendle/people)."
   ]
  },
  {
   "cell_type": "code",
   "execution_count": null,
   "metadata": {
    "collapsed": false
   },
   "outputs": [],
   "source": [
    "from enum import Enum\n",
    "from pathlib import Path\n",
    "\n",
    "import pandas as pd\n",
    "import numpy as np\n",
    "import matplotlib.pyplot as plt\n",
    "\n",
    "from pytus2000 import read_diary_file, diary, read_individual_file, individual\n",
    "import people as ppl\n",
    "%matplotlib inline"
   ]
  },
  {
   "cell_type": "code",
   "execution_count": null,
   "metadata": {
    "collapsed": false
   },
   "outputs": [],
   "source": [
    "DATA_FOLDER_PATH = Path('./data/UKDA-4504-tab/')\n",
    "BUILD_FOLDER_PATH = Path('./build/')"
   ]
  },
  {
   "cell_type": "markdown",
   "metadata": {},
   "source": [
    "## Read Data"
   ]
  },
  {
   "cell_type": "code",
   "execution_count": null,
   "metadata": {
    "collapsed": false
   },
   "outputs": [],
   "source": [
    "diary_cache = BUILD_FOLDER_PATH / 'pickled_diary_data'\n",
    "try:\n",
    "    diary_data = pd.read_pickle(diary_cache.as_posix())\n",
    "except:\n",
    "    diary_data = read_diary_file(DATA_FOLDER_PATH / 'tab' / 'diary_data_8.tab')\n",
    "    diary_data.to_pickle(diary_cache.as_posix())\n",
    "diary_data.ACT1_001.head()"
   ]
  },
  {
   "cell_type": "code",
   "execution_count": null,
   "metadata": {
    "collapsed": false
   },
   "outputs": [],
   "source": [
    "individual_cache = BUILD_FOLDER_PATH / 'pickled_individual_data'\n",
    "try:\n",
    "    individual_data = pd.read_pickle(individual_cache.as_posix())\n",
    "except:\n",
    "    individual_data = read_individual_file(DATA_FOLDER_PATH / 'tab' / 'individual_data_5.tab')\n",
    "    individual_data.to_pickle(individual_cache.as_posix())\n",
    "individual_data.Q1A.head()"
   ]
  },
  {
   "cell_type": "markdown",
   "metadata": {},
   "source": [
    "## Helper Functions"
   ]
  },
  {
   "cell_type": "code",
   "execution_count": null,
   "metadata": {
    "collapsed": false
   },
   "outputs": [],
   "source": [
    "def print_full(x):\n",
    "    pd.set_option('display.max_rows', len(x))\n",
    "    print(x)\n",
    "    pd.reset_option('display.max_rows')"
   ]
  },
  {
   "cell_type": "code",
   "execution_count": null,
   "metadata": {
    "collapsed": false
   },
   "outputs": [],
   "source": [
    "from datetime import datetime, timedelta, time\n",
    "\n",
    "def time_mapper(time_interval):\n",
    "    \"\"\"Maps the time interval as given in the study to hour and minute.\n",
    "    \n",
    "    e.g. '001' -> (4, 00)\n",
    "    e.g. '144' -> (3, 50)\n",
    "    e.g. 1     -> (4, 00)\n",
    "    \"\"\"\n",
    "    time_interval = int(time_interval)\n",
    "    if time_interval < 1 or time_interval > 144:\n",
    "        raise ValueError('Invalid time invertal {}. Must be between 1 and 144.'.format(time_interval))\n",
    "    time_since_four = timedelta(minutes=(int(time_interval) - 1) * 10)\n",
    "    four = datetime(2000, 6, 10, 4, 0) # date does not matter\n",
    "    time_step = four + time_since_four\n",
    "    return time_step.time()\n",
    "\n",
    "assert time_mapper('001') == time(4, 0)\n",
    "assert time_mapper('007') == time(5, 0)\n",
    "assert time_mapper('144') == time(3, 50)\n",
    "assert time_mapper(1) == time(4, 0)\n",
    "assert time_mapper(7) == time(5, 0)\n",
    "assert time_mapper(144) == time(3, 50)"
   ]
  },
  {
   "cell_type": "markdown",
   "metadata": {},
   "source": [
    "## Transforming Activities and Locations into TimeSeries"
   ]
  },
  {
   "cell_type": "code",
   "execution_count": null,
   "metadata": {
    "collapsed": false
   },
   "outputs": [],
   "source": [
    "ac_loc = pd.DataFrame(\n",
    "    {\n",
    "        'activity': diary_data['ACT1_001'],\n",
    "        'location': diary_data['WHER_001'],\n",
    "        'secondary_activity': diary_data['ACT2_001'],\n",
    "        'time_of_day': pd.Series([time(4, 0)] * len(diary_data), index=diary_data.index)\n",
    "    },\n",
    "    dtype='category'\n",
    ")\n",
    "ac_loc.info()"
   ]
  },
  {
   "cell_type": "code",
   "execution_count": null,
   "metadata": {
    "collapsed": false
   },
   "outputs": [],
   "source": [
    "ac_loc.head()"
   ]
  },
  {
   "cell_type": "code",
   "execution_count": null,
   "metadata": {
    "collapsed": false
   },
   "outputs": [],
   "source": [
    "for i in range(1, 144):\n",
    "    time_of_day = time_mapper(i + 1)\n",
    "    next_frame = pd.DataFrame(\n",
    "        {\n",
    "            'activity' : diary_data['ACT1_{:0>3}'.format(i + 1)],\n",
    "            'location' : diary_data['WHER_{:0>3}'.format(i + 1)],\n",
    "            'secondary_activity' : diary_data['ACT2_{:0>3}'.format(i + 1)],\n",
    "            'time_of_day' : pd.Series([time_of_day] * len(diary_data), index=diary_data.index),\n",
    "        },\n",
    "        dtype='category'\n",
    "    )\n",
    "    ac_loc = ac_loc.append(next_frame, ignore_index=False)\n",
    "ac_loc.info()"
   ]
  },
  {
   "cell_type": "code",
   "execution_count": null,
   "metadata": {
    "collapsed": false,
    "scrolled": false
   },
   "outputs": [],
   "source": [
    "ac_loc['activity'] = ac_loc['activity'].astype('category', categories=[ac for ac in diary.ACT1_001])\n",
    "ac_loc['secondary_activity'] = ac_loc['secondary_activity'].astype('category', categories=[ac for ac in diary.ACT2_001])\n",
    "ac_loc['location'] = ac_loc['location'].astype('category', categories=[loc for loc in diary.WHER_001])\n",
    "ac_loc['time_of_day'] = ac_loc['time_of_day'].astype('category')\n",
    "ac_loc.info()"
   ]
  },
  {
   "cell_type": "code",
   "execution_count": null,
   "metadata": {
    "collapsed": false
   },
   "outputs": [],
   "source": [
    "ac_loc = ac_loc.set_index(['time_of_day'], drop=True, append=True)\n",
    "ac_loc.info()"
   ]
  },
  {
   "cell_type": "code",
   "execution_count": null,
   "metadata": {
    "collapsed": false
   },
   "outputs": [],
   "source": [
    "ac_loc = ac_loc.sort_index()"
   ]
  },
  {
   "cell_type": "code",
   "execution_count": null,
   "metadata": {
    "collapsed": false
   },
   "outputs": [],
   "source": [
    "ac_loc.head(15)"
   ]
  },
  {
   "cell_type": "markdown",
   "metadata": {},
   "source": [
    "### Slicing Example: Choose only adults"
   ]
  },
  {
   "cell_type": "code",
   "execution_count": null,
   "metadata": {
    "collapsed": false
   },
   "outputs": [],
   "source": [
    "mask = diary_data.DTYPE == diary.DTYPE.ADULT_DIARY\n",
    "mask.head()"
   ]
  },
  {
   "cell_type": "code",
   "execution_count": null,
   "metadata": {
    "collapsed": false
   },
   "outputs": [],
   "source": [
    "ac_loc_mask = mask.reindex(ac_loc.index, method='ffill')\n",
    "ac_loc_mask.head()"
   ]
  },
  {
   "cell_type": "code",
   "execution_count": null,
   "metadata": {
    "collapsed": false
   },
   "outputs": [],
   "source": [
    "ac_loc[ac_loc_mask].head()"
   ]
  },
  {
   "cell_type": "code",
   "execution_count": null,
   "metadata": {
    "collapsed": false
   },
   "outputs": [],
   "source": [
    "assert len(diary_data[mask]) * 144 == len(ac_loc[ac_loc_mask])"
   ]
  },
  {
   "cell_type": "markdown",
   "metadata": {},
   "source": [
    "## Analysing Activities and Locations"
   ]
  },
  {
   "cell_type": "markdown",
   "metadata": {},
   "source": [
    "How important is an activity in the data set? Let's have a look at the average time spent per day on certain activities."
   ]
  },
  {
   "cell_type": "code",
   "execution_count": null,
   "metadata": {
    "collapsed": false
   },
   "outputs": [],
   "source": [
    "print_full(ac_loc.groupby('activity').location.count().sort_values())"
   ]
  },
  {
   "cell_type": "code",
   "execution_count": null,
   "metadata": {
    "collapsed": false
   },
   "outputs": [],
   "source": [
    "print_full(ac_loc.groupby('location').activity.count().sort_values())"
   ]
  },
  {
   "cell_type": "markdown",
   "metadata": {},
   "source": [
    "## Defining and Mapping Locations"
   ]
  },
  {
   "cell_type": "markdown",
   "metadata": {},
   "source": [
    "What we are actually interested in is not so much activities, but mostly locations of people. So let's look at locations first."
   ]
  },
  {
   "cell_type": "code",
   "execution_count": null,
   "metadata": {
    "collapsed": false
   },
   "outputs": [],
   "source": [
    "class Location(Enum):\n",
    "    \"\"\"Simplified locations.\"\"\"\n",
    "    HOME = 1\n",
    "    OTHER_HOME = 2\n",
    "    WORK_OR_SCHOOL = 3\n",
    "    RESTO = 4\n",
    "    SPORTS_FACILITY = 5\n",
    "    ARTS_OR_CULTURAL_CENTRE = 6\n",
    "    OUTSIDE = 7\n",
    "    TRAVELLING = 8\n",
    "    UNKNOWN = 9\n",
    "    IMPLICIT = 10"
   ]
  },
  {
   "cell_type": "code",
   "execution_count": null,
   "metadata": {
    "collapsed": false
   },
   "outputs": [],
   "source": [
    "location_map = {\n",
    "    diary.WHER_001.MAIN_ACTVTY_EQUAL_SLEEPWORKSTUDY___NO_CODE_REQUIRED : Location.IMPLICIT,\n",
    "    diary.WHER_001._MISSING : Location.UNKNOWN,\n",
    "    diary.WHER_001._UNSPECIFIED_LOCATION : Location.UNKNOWN,\n",
    "    diary.WHER_001._UNSPECIFIED_LOCATION_NOT_TRAVELLING : Location.UNKNOWN,\n",
    "    diary.WHER_001._HOME : Location.HOME,\n",
    "    diary.WHER_001._SECOND_HOME_OR_WEEKEND_HOUSE : Location.OTHER_HOME,\n",
    "    diary.WHER_001._WORKING_PLACE_OR_SCHOOL : Location.WORK_OR_SCHOOL,\n",
    "    diary.WHER_001._OTHER_PEOPLE_S_HOME : Location.OTHER_HOME,\n",
    "    diary.WHER_001._RESTAURANT__CAFÉ_OR_PUB : Location.RESTO,\n",
    "    diary.WHER_001._SPORTS_FACILITY : Location.SPORTS_FACILITY,\n",
    "    diary.WHER_001._WHER_001__ARTS_OR_CULTURAL_CENTRE : Location.ARTS_OR_CULTURAL_CENTRE,\n",
    "    diary.WHER_001._THE_COUNTRY_COUNTRYSIDE__SEASIDE__BEACH_OR_COAST : Location.OUTSIDE,\n",
    "    diary.WHER_001._OTHER_SPECIFIED_LOCATION_NOT_TRAVELLING : Location.UNKNOWN,\n",
    "    diary.WHER_001._UNSPECIFIED_PRIVATE_TRANSPORT_MODE : Location.TRAVELLING,\n",
    "    diary.WHER_001._TRAVELLING_ON_FOOT : Location.TRAVELLING,\n",
    "    diary.WHER_001._TRAVELLING_BY_BICYCLE : Location.TRAVELLING,\n",
    "    diary.WHER_001._TRAVELLING_BY_MOPED__MOTORCYCLE_OR_MOTORBOAT : Location.TRAVELLING,\n",
    "    diary.WHER_001._TRAVELLING_BY_PASSENGER_CAR_AS_THE_DRIVER : Location.TRAVELLING,\n",
    "    diary.WHER_001._TRAVELLING_BY_PASSENGER_CAR_AS_A_PASSENGER : Location.TRAVELLING,\n",
    "    diary.WHER_001._TRAVELLING_BY_PASSENGER_CAR_DRIVER_STATUS_UNSPECIFIED : Location.TRAVELLING,\n",
    "    diary.WHER_001._TRAVELLING_BY_LORRY__OR_TRACTOR : Location.TRAVELLING,\n",
    "    diary.WHER_001._TRAVELLING_BY_VAN : Location.TRAVELLING,\n",
    "    diary.WHER_001._OTHER_SPECIFIED_PRIVATE_TRAVELLING_MODE : Location.TRAVELLING,\n",
    "    diary.WHER_001._UNSPECIFIED_PUBLIC_TRANSPORT_MODE : Location.TRAVELLING,\n",
    "    diary.WHER_001._TRAVELLING_BY_TAXI : Location.TRAVELLING,\n",
    "    diary.WHER_001._TRAVELLING_BY_BUS : Location.TRAVELLING,\n",
    "    diary.WHER_001._TRAVELLING_BY_TRAM_OR_UNDERGROUND : Location.TRAVELLING,\n",
    "    diary.WHER_001._TRAVELLING_BY_TRAIN : Location.TRAVELLING,\n",
    "    diary.WHER_001._TRAVELLING_BY_AEROPLANE : Location.TRAVELLING,\n",
    "    diary.WHER_001._TRAVELLING_BY_BOAT_OR_SHIP : Location.TRAVELLING,\n",
    "    diary.WHER_001._WHER_001__TRAVELLING_BY_COACH : Location.TRAVELLING,\n",
    "    diary.WHER_001._WAITING_FOR_PUBLIC_TRANSPORT : Location.TRAVELLING,\n",
    "    diary.WHER_001._OTHER_SPECIFIED_PUBLIC_TRANSPORT_MODE : Location.TRAVELLING,\n",
    "    diary.WHER_001._UNSPECIFIED_TRANSPORT_MODE : Location.TRAVELLING,\n",
    "    diary.WHER_001._ILLEGIBLE_LOCATION_OR_TRANSPORT_MODE : Location.UNKNOWN\n",
    "}"
   ]
  },
  {
   "cell_type": "markdown",
   "metadata": {},
   "source": [
    "Estimate the distribution of locations for a certain activity. How big is the share of the most common location of a certain activity?"
   ]
  },
  {
   "cell_type": "code",
   "execution_count": null,
   "metadata": {
    "collapsed": false
   },
   "outputs": [],
   "source": [
    "def share_of_activity_time_at_most_common_location(group):\n",
    "    locations = group.groupby('location').activity.count()\n",
    "    most_common_location = locations.max()\n",
    "    return most_common_location / locations.sum()"
   ]
  },
  {
   "cell_type": "code",
   "execution_count": null,
   "metadata": {
    "collapsed": false
   },
   "outputs": [],
   "source": [
    "def number_of_locations(group):\n",
    "    return len(group.location.unique())"
   ]
  },
  {
   "cell_type": "code",
   "execution_count": null,
   "metadata": {
    "collapsed": false,
    "scrolled": false
   },
   "outputs": [],
   "source": [
    "ac_loc.groupby('activity').apply(share_of_activity_time_at_most_common_location).hist()\n",
    "_ = plt.xlabel('Share of most common location for activity.')"
   ]
  },
  {
   "cell_type": "code",
   "execution_count": null,
   "metadata": {
    "collapsed": false
   },
   "outputs": [],
   "source": [
    "ac_loc.groupby('activity').apply(number_of_locations).hist()\n",
    "_ = plt.xlabel('Number of locations per activity.')"
   ]
  },
  {
   "cell_type": "markdown",
   "metadata": {},
   "source": [
    "Half of all activities are performed by 87% at the most common location. In average, an activity is performed to 78% at the most common location.\n",
    "\n",
    "Half of all activities are performed at 5 different locations or less. In average, there are 6.8 different locations per activity."
   ]
  },
  {
   "cell_type": "code",
   "execution_count": null,
   "metadata": {
    "collapsed": false
   },
   "outputs": [],
   "source": [
    "ac_simpleloc = ac_loc.applymap(lambda val: location_map[val] if isinstance(val, diary.WHER_001) else val)\n",
    "ac_simpleloc['activity'] = ac_simpleloc['activity'].astype('category', categories=[ac for ac in diary.ACT1_001])\n",
    "ac_simpleloc['location'] = ac_simpleloc['location'].astype('category', categories=[loc for loc in Location])"
   ]
  },
  {
   "cell_type": "code",
   "execution_count": null,
   "metadata": {
    "collapsed": false
   },
   "outputs": [],
   "source": [
    "ac_simpleloc.groupby('activity').apply(share_of_activity_time_at_most_common_location).hist()\n",
    "_ = plt.xlabel('Share of most common location for activity.')"
   ]
  },
  {
   "cell_type": "code",
   "execution_count": null,
   "metadata": {
    "collapsed": false
   },
   "outputs": [],
   "source": [
    "ac_simpleloc.groupby('activity').apply(number_of_locations).hist(bins=len(Location)-1)\n",
    "_ = plt.xlabel('Number of locations per activity.')"
   ]
  },
  {
   "cell_type": "markdown",
   "metadata": {},
   "source": [
    "With reduced locations, half of all activities are performed by 93% at the most common location. In average, an activity is performed to 85% at the most common location.\n",
    "\n",
    "Half of all activities are performed at 3 different locations or less. In average, there are 3.9 different locations per activity."
   ]
  },
  {
   "cell_type": "code",
   "execution_count": null,
   "metadata": {
    "collapsed": false
   },
   "outputs": [],
   "source": [
    "ac_simpleloc.groupby('location').activity.count().sort_values()"
   ]
  },
  {
   "cell_type": "markdown",
   "metadata": {},
   "source": [
    "## Defining and Mapping Activities"
   ]
  },
  {
   "cell_type": "code",
   "execution_count": null,
   "metadata": {
    "collapsed": false
   },
   "outputs": [],
   "source": [
    "class Activity(Enum):\n",
    "    SLEEP = 1\n",
    "    WORK_OR_STUDY = 2\n",
    "    OTHER = 3\n",
    "    UNKNOWN = 4"
   ]
  },
  {
   "cell_type": "code",
   "execution_count": null,
   "metadata": {
    "collapsed": false
   },
   "outputs": [],
   "source": [
    "activity_map = {\n",
    "    diary.ACT1_001.UNSPECIFIED_PERSONAL_CARE: Activity.OTHER,\n",
    "    diary.ACT1_001.UNSPECIFIED_SLEEP: Activity.SLEEP,\n",
    "    diary.ACT1_001.SLEEP: Activity.SLEEP,\n",
    "    diary.ACT1_001.SICK_IN_BED: Activity.SLEEP,\n",
    "    diary.ACT1_001.EATING: Activity.OTHER,\n",
    "    diary.ACT1_001.UNSPECIFIED_OTHER_PERSONAL_CARE: Activity.OTHER,\n",
    "    diary.ACT1_001.WASH_AND_DRESS: Activity.OTHER,\n",
    "    diary.ACT1_001.OTHER_SPECIFIED_PERSONAL_CARE: Activity.OTHER,\n",
    "    diary.ACT1_001.UNSPECIFIED_EMPLOYMENT: Activity.WORK_OR_STUDY,\n",
    "    diary.ACT1_001.WORKING_TIME_IN_MAIN_JOB: Activity.WORK_OR_STUDY,\n",
    "    diary.ACT1_001.COFFEE_AND_OTHER_BREAKS_IN_MAIN_JOB: Activity.OTHER,\n",
    "    diary.ACT1_001.WORKING_TIME_IN_SECOND_JOB: Activity.WORK_OR_STUDY,\n",
    "    diary.ACT1_001.COFFEE_AND_OTHER_BREAKS_IN_SECOND_JOB: Activity.OTHER,\n",
    "    diary.ACT1_001.UNSPECIFIED_ACTIVITIES_RELATED_TO_EMPLOYMENT: Activity.WORK_OR_STUDY,\n",
    "    diary.ACT1_001.LUNCH_BREAK: Activity.OTHER,\n",
    "    diary.ACT1_001.OTHER_SPECIFIED_ACTIVITIES_RELATED_TO_EMPLOYMENT: Activity.WORK_OR_STUDY,\n",
    "    diary.ACT1_001.ACTIVITIES_RELATED_TO_JOB_SEEKING: Activity.OTHER,\n",
    "    diary.ACT1_001.OTHER_SPECIFIED_ACTIVITIES_RELATED_TO_EMPLOYMENT2: Activity.WORK_OR_STUDY,\n",
    "    diary.ACT1_001.UNSPECIFIED_STUDY: Activity.WORK_OR_STUDY,\n",
    "    diary.ACT1_001.UNSPECIFIED_ACTIVITIES_RELATED_TO_SCHOOL_OR_UNIVERSITY: Activity.WORK_OR_STUDY,\n",
    "    diary.ACT1_001.CLASSES_AND_LECTURES: Activity.WORK_OR_STUDY,\n",
    "    diary.ACT1_001.HOMEWORK: Activity.OTHER,\n",
    "    diary.ACT1_001.OTHER_SPECIFIED_ACTIVITIES_RELATED_TO_SCHOOL_OR_UNIVERSITY: Activity.WORK_OR_STUDY,\n",
    "    diary.ACT1_001.FREE_TIME_STUDY: Activity.OTHER,\n",
    "    diary.ACT1_001.UNSPECIFIED_HOUSEHOLD_AND_FAMILY_CARE: Activity.OTHER,\n",
    "    diary.ACT1_001.UNSPECIFIED_FOOD_MANAGEMENT: Activity.OTHER,\n",
    "    diary.ACT1_001.FOOD_PREPARATION: Activity.OTHER,\n",
    "    diary.ACT1_001.BAKING: Activity.OTHER,\n",
    "    diary.ACT1_001.DISH_WASHING: Activity.OTHER,\n",
    "    diary.ACT1_001.PRESERVING: Activity.OTHER,\n",
    "    diary.ACT1_001.OTHER_SPECIFIED_FOOD_MANAGEMENT: Activity.OTHER,\n",
    "    diary.ACT1_001.UNSPECIFIED_HOUSEHOLD_UPKEEP: Activity.OTHER,\n",
    "    diary.ACT1_001.CLEANING_DWELLING: Activity.OTHER,\n",
    "    diary.ACT1_001.CLEANING_YARD: Activity.OTHER,\n",
    "    diary.ACT1_001.HEATING_AND_WATER: Activity.OTHER,\n",
    "    diary.ACT1_001.VARIOUS_ARRANGEMENTS: Activity.OTHER,\n",
    "    diary.ACT1_001.DISPOSAL_OF_WASTE: Activity.OTHER,\n",
    "    diary.ACT1_001.OTHER_SPECIFIED_HOUSEHOLD_UPKEEP: Activity.OTHER,\n",
    "    diary.ACT1_001.UNSPECIFIED_MAKING_AND_CARE_FOR_TEXTILES: Activity.OTHER,\n",
    "    diary.ACT1_001.LAUNDRY: Activity.OTHER,\n",
    "    diary.ACT1_001.IRONING: Activity.OTHER,\n",
    "    diary.ACT1_001.HANDICRAFT_AND_PRODUCING_TEXTILES: Activity.OTHER,\n",
    "    diary.ACT1_001.OTHER_SPECIFIED_MAKING_AND_CARE_FOR_TEXTILES: Activity.OTHER,\n",
    "    diary.ACT1_001.UNSPECIFIED_GARDENING_AND_PET_CARE: Activity.OTHER,\n",
    "    diary.ACT1_001.GARDENING: Activity.OTHER,\n",
    "    diary.ACT1_001.TENDING_DOMESTIC_ANIMALS: Activity.OTHER,\n",
    "    diary.ACT1_001.CARING_FOR_PETS: Activity.OTHER,\n",
    "    diary.ACT1_001.WALKING_THE_DOG: Activity.OTHER,\n",
    "    diary.ACT1_001.OTHER_SPECIFIED_GARDENING_AND_PET_CARE: Activity.OTHER,\n",
    "    diary.ACT1_001.UNSPECIFIED_CONSTRUCTION_AND_REPAIRS: Activity.OTHER,\n",
    "    diary.ACT1_001.HOUSE_CONSTRUCTION_AND_RENOVATION: Activity.OTHER,\n",
    "    diary.ACT1_001.REPAIRS_OF_DWELLING: Activity.OTHER,\n",
    "    diary.ACT1_001.UNSPECIFIED_MAKING__REPAIRING_AND_MAINTAINING_EQUIPMENT: Activity.OTHER,\n",
    "    diary.ACT1_001.WOODCRAFT__METAL_CRAFT__SCULPTURE_AND_POTTERY: Activity.OTHER,\n",
    "    diary.ACT1_001.OTHER_SPECIFIED_MAKING__REPAIRING_AND_MAINTAINING_EQUIPMENT: Activity.OTHER,\n",
    "    diary.ACT1_001.VEHICLE_MAINTENANCE: Activity.OTHER,\n",
    "    diary.ACT1_001.OTHER_SPECIFIED_CONSTRUCTION_AND_REPAIRS: Activity.OTHER,\n",
    "    diary.ACT1_001.UNSPECIFIED_SHOPPING_AND_SERVICES: Activity.OTHER,\n",
    "    diary.ACT1_001.UNSPECIFIED_SHOPPING: Activity.OTHER,\n",
    "    diary.ACT1_001.SHOPPING_MAINLY_FOR_FOOD: Activity.OTHER,\n",
    "    diary.ACT1_001.SHOPPING_MAINLY_FOR_CLOTHING: Activity.OTHER,\n",
    "    diary.ACT1_001.SHOPPING_MAINLY_RELATED_TO_ACCOMMODATION: Activity.OTHER,\n",
    "    diary.ACT1_001.SHOPPING_OR_BROWSING_AT_CAR_BOOT_SALES_OR_ANTIQUE_FAIRS: Activity.OTHER,\n",
    "    diary.ACT1_001.WINDOW_SHOPPING_OR_OTHER_SHOPPING_AS_LEISURE: Activity.OTHER,\n",
    "    diary.ACT1_001.OTHER_SPECIFIED_SHOPPING: Activity.OTHER,\n",
    "    diary.ACT1_001.COMMERCIAL_AND_ADMINISTRATIVE_SERVICES: Activity.OTHER,\n",
    "    diary.ACT1_001.PERSONAL_SERVICES: Activity.OTHER,\n",
    "    diary.ACT1_001.OTHER_SPECIFIED_SHOPPING_AND_SERVICES: Activity.OTHER,\n",
    "    diary.ACT1_001.HOUSEHOLD_MANAGEMENT_NOT_USING_THE_INTERNET: Activity.OTHER,\n",
    "    diary.ACT1_001.UNSPECIFIED_HOUSEHOLD_MANAGEMENT_USING_THE_INTERNET: Activity.OTHER,\n",
    "    diary.ACT1_001.SHPING_FORANDORDRING_UNSPEC_GDSANDSRVS_VIA_INTERNET: Activity.OTHER,\n",
    "    diary.ACT1_001.SHPING_FORANDORDRING_FOOD_VIA_THE_INTERNET: Activity.OTHER,\n",
    "    diary.ACT1_001.SHPING_FORANDORDRING_CLOTHING_VIA_THE_INTERNET: Activity.OTHER,\n",
    "    diary.ACT1_001.SHPING_FORANDORDRING_GDSANDSRV_RELATED_TO_ACC_VIA_INTERNET: Activity.OTHER,\n",
    "    diary.ACT1_001.SHPING_FORANDORDRING_MASS_MEDIA_VIA_THE_INTERNET: Activity.OTHER,\n",
    "    diary.ACT1_001.SHPING_FORANDORDRING_ENTERTAINMENT_VIA_THE_INTERNET: Activity.OTHER,\n",
    "    diary.ACT1_001.BANKING_AND_BILL_PAYING_VIA_THE_INTERNET: Activity.OTHER,\n",
    "    diary.ACT1_001.OTHER_SPECIFIED_HOUSEHOLD_MANAGEMENT_USING_THE_INTERNET: Activity.OTHER,\n",
    "    diary.ACT1_001.UNSPECIFIED_CHILDCARE: Activity.OTHER,\n",
    "    diary.ACT1_001.UNSPECIFIED_PHYSICAL_CARE_AND_SUPERVISION_OF_A_CHILD: Activity.OTHER,\n",
    "    diary.ACT1_001.FEEDING_THE_CHILD: Activity.OTHER,\n",
    "    diary.ACT1_001.OTHER_SPECIFIED_PHYSICAL_CARE_AND_SUPERVISION_OF_A_CHILD: Activity.OTHER,\n",
    "    diary.ACT1_001.TEACHING_THE_CHILD: Activity.OTHER,\n",
    "    diary.ACT1_001.READING__PLAYING_AND_TALKING_WITH_CHILD: Activity.OTHER,\n",
    "    diary.ACT1_001.ACCOMPANYING_CHILD: Activity.OTHER,\n",
    "    diary.ACT1_001.OTHER_SPECIFIED_CHILDCARE: Activity.OTHER,\n",
    "    diary.ACT1_001.UNSPECIFIED_HELP_TO_AN_ADULT_HOUSEHOLD_MEMBER: Activity.OTHER,\n",
    "    diary.ACT1_001.PHYSICAL_CARE_AND_SUPERVISION_OF_AN_ADULT_HOUSEHOLD_MEMBER: Activity.OTHER,\n",
    "    diary.ACT1_001.ACCOMPANYING_AN_ADULT_HOUSEHOLD_MEMBER: Activity.OTHER,\n",
    "    diary.ACT1_001.OTHER_SPECIFIED_HELP_TO_AN_ADULT_HOUSEHOLD_MEMBER: Activity.OTHER,\n",
    "    diary.ACT1_001.UNSPECIFIED_VOLUNTEER_WORK_AND_MEETINGS: Activity.OTHER,\n",
    "    diary.ACT1_001.UNSPECIFIED_ORGANISATIONAL_WORK: Activity.OTHER,\n",
    "    diary.ACT1_001.WORK_FOR_AN_ORGANISATION: Activity.OTHER,\n",
    "    diary.ACT1_001.VOLUNTEER_WORK_THROUGH_AN_ORGANISATION: Activity.OTHER,\n",
    "    diary.ACT1_001.OTHER_SPECIFIED_ORGANISATIONAL_WORK: Activity.OTHER,\n",
    "    diary.ACT1_001.UNSPECIFIED_INFORMAL_HELP: Activity.OTHER,\n",
    "    diary.ACT1_001.FOOD_MANAGEMENT_AS_HELP: Activity.OTHER,\n",
    "    diary.ACT1_001.HOUSEHOLD_UPKEEP_AS_HELP: Activity.OTHER,\n",
    "    diary.ACT1_001.GARDENING_AND_PET_CARE_AS_HELP: Activity.OTHER,\n",
    "    diary.ACT1_001.CONSTRUCTION_AND_REPAIRS_AS_HELP: Activity.OTHER,\n",
    "    diary.ACT1_001.SHOPPING_AND_SERVICES_AS_HELP: Activity.OTHER,\n",
    "    diary.ACT1_001.HELP_IN_EMPLOYMENT_AND_FARMING: Activity.OTHER,\n",
    "    diary.ACT1_001.UNSPECIFIED_CHILDCARE_AS_HELP: Activity.OTHER,\n",
    "    diary.ACT1_001.PHYSICAL_CARE_AND_SUPERVISION_OF_A_CHILD_AS_HELP: Activity.OTHER,\n",
    "    diary.ACT1_001.TEACHING_THE_CHILD_AS_HELP: Activity.OTHER,\n",
    "    diary.ACT1_001.READING__PLAYING_AND_TALKING_TO_THE_CHILD_AS_HELP: Activity.OTHER,\n",
    "    diary.ACT1_001.ACCOMPANYING_THE_CHILD_AS_HELP: Activity.OTHER,\n",
    "    diary.ACT1_001.OTHER_SPECIFIED_CHILDCARE_AS_HELP: Activity.OTHER,\n",
    "    diary.ACT1_001.UNSPECIFIED_HELP_TO_AN_ADULT_MEMBER_OF_ANOTHER_HOUSEHOLD: Activity.OTHER,\n",
    "    diary.ACT1_001.PHYSICAL_CARE_AND_SUPERVISION_OF_AN_ADULT_AS_HELP: Activity.OTHER,\n",
    "    diary.ACT1_001.ACCOMPANYING_AN_ADULT_AS_HELP: Activity.OTHER,\n",
    "    diary.ACT1_001.OTHER_SPECIFIED_HELP_TO_AN_ADULT_MEMBER_OF_ANOTHER_HOUSEHOLD: Activity.OTHER,\n",
    "    diary.ACT1_001.OTHER_SPECIFIED_INFORMAL_HELP: Activity.OTHER,\n",
    "    diary.ACT1_001.UNSPECIFIED_PARTICIPATORY_ACTIVITIES: Activity.OTHER,\n",
    "    diary.ACT1_001.MEETINGS: Activity.OTHER,\n",
    "    diary.ACT1_001.RELIGIOUS_ACTIVITIES: Activity.OTHER,\n",
    "    diary.ACT1_001.OTHER_SPECIFIED_PARTICIPATORY_ACTIVITIES: Activity.OTHER,\n",
    "    diary.ACT1_001.UNSPECIFIED_SOCIAL_LIFE_AND_ENTERTAINMENT: Activity.OTHER,\n",
    "    diary.ACT1_001.UNSPECIFIED_SOCIAL_LIFE: Activity.OTHER,\n",
    "    diary.ACT1_001.SOCIALISING_WITH_HOUSEHOLD_MEMBERS: Activity.OTHER,\n",
    "    diary.ACT1_001.VISITING_AND_RECEIVING_VISITORS: Activity.OTHER,\n",
    "    diary.ACT1_001.FEASTS: Activity.OTHER,\n",
    "    diary.ACT1_001.TELEPHONE_CONVERSATION: Activity.OTHER,\n",
    "    diary.ACT1_001.OTHER_SPECIFIED_SOCIAL_LIFE: Activity.OTHER,\n",
    "    diary.ACT1_001.UNSPECIFIED_ENTERTAINMENT_AND_CULTURE: Activity.OTHER,\n",
    "    diary.ACT1_001.CINEMA: Activity.OTHER,\n",
    "    diary.ACT1_001.UNSPECIFIED_THEATRE_OR_CONCERTS: Activity.OTHER,\n",
    "    diary.ACT1_001.PLAYS__MUSICALS_OR_PANTOMIMES: Activity.OTHER,\n",
    "    diary.ACT1_001.OPERA__OPERETTA_OR_LIGHT_OPERA: Activity.OTHER,\n",
    "    diary.ACT1_001.CONCERTS_OR_OTHER_PERFORMANCES_OF_CLASSICAL_MUSIC: Activity.OTHER,\n",
    "    diary.ACT1_001.LIVE_MUSIC_OTHER_THAN_CLASSICAL_CONCERTS__OPERA_AND_MUSICALS: Activity.OTHER,\n",
    "    diary.ACT1_001.DANCE_PERFORMANCES: Activity.OTHER,\n",
    "    diary.ACT1_001.OTHER_SPECIFIED_THEATRE_OR_CONCERTS: Activity.OTHER,\n",
    "    diary.ACT1_001.ART_EXHIBITIONS_AND_MUSEUMS: Activity.OTHER,\n",
    "    diary.ACT1_001.UNSPECIFIED_LIBRARY: Activity.OTHER,\n",
    "    diary.ACT1_001.BRWING_BKS_RCDS_AUDIO_VIDEO_CDS_VDS_FROM_LIBRARY: Activity.OTHER,\n",
    "    diary.ACT1_001.REFERENCE_TO_BKS_AND_OTHER_LIBRARY_MATERIALS_WITHIN_LIBRARY: Activity.OTHER,\n",
    "    diary.ACT1_001.USING_INTERNET_IN_THE_LIBRARY: Activity.OTHER,\n",
    "    diary.ACT1_001.USING_COMPUTERS_IN_THE_LIBRARY_OTHER_THAN_INTERNET_USE: Activity.OTHER,\n",
    "    diary.ACT1_001.READING_NEWSPAPERS_IN_A_LIBRARY: Activity.OTHER,\n",
    "    diary.ACT1_001.LISTENING_TO_MUSIC_IN_A_LIBRARY: Activity.OTHER,\n",
    "    diary.ACT1_001.OTHER_SPECIFIED_LIBRARY_ACTIVITIES: Activity.OTHER,\n",
    "    diary.ACT1_001.SPORTS_EVENTS: Activity.OTHER,\n",
    "    diary.ACT1_001.OTHER_SPECIFIED_ENTERTAINMENT_AND_CULTURE: Activity.OTHER,\n",
    "    diary.ACT1_001.VISITING_A_HISTORICAL_SITE: Activity.OTHER,\n",
    "    diary.ACT1_001.VISITING_A_WILDLIFE_SITE: Activity.OTHER,\n",
    "    diary.ACT1_001.VISITING_A_BOTANICAL_SITE: Activity.OTHER,\n",
    "    diary.ACT1_001.VISITING_A_LEISURE_PARK: Activity.OTHER,\n",
    "    diary.ACT1_001.VISITING_AN_URBAN_PARK__PLAYGROUND_OR_DESIGNATED_PLAY_AREA: Activity.OTHER,\n",
    "    diary.ACT1_001.OTHER_SPECIFIED_ENTERTAINMENT_OR_CULTURE: Activity.OTHER,\n",
    "    diary.ACT1_001.RESTING_TIME_OUT: Activity.OTHER,\n",
    "    diary.ACT1_001.UNSPECIFIED_SPORTS_AND_OUTDOOR_ACTIVITIES: Activity.OTHER,\n",
    "    diary.ACT1_001.UNSPECIFIED_PHYSICAL_EXERCISE: Activity.OTHER,\n",
    "    diary.ACT1_001.WALKING_AND_HIKING: Activity.OTHER,\n",
    "    diary.ACT1_001.TAKING_A_WALK_OR_HIKE_THAT_LASTS_AT_LEAST_2_MILES_OR_1_HOUR: Activity.OTHER,\n",
    "    diary.ACT1_001.OTHER_WALK_OR_HIKE: Activity.OTHER,\n",
    "    diary.ACT1_001.JOGGING_AND_RUNNING: Activity.OTHER,\n",
    "    diary.ACT1_001.BIKING__SKIING_AND_SKATING: Activity.OTHER,\n",
    "    diary.ACT1_001.BIKING: Activity.OTHER,\n",
    "    diary.ACT1_001.SKIING_OR_SKATING: Activity.OTHER,\n",
    "    diary.ACT1_001.UNSPECIFIED_BALL_GAMES: Activity.OTHER,\n",
    "    diary.ACT1_001.INDOOR_PAIRS_OR_DOUBLES_GAMES: Activity.OTHER,\n",
    "    diary.ACT1_001.INDOOR_TEAM_GAMES: Activity.OTHER,\n",
    "    diary.ACT1_001.OUTDOOR_PAIRS_OR_DOUBLES_GAMES: Activity.OTHER,\n",
    "    diary.ACT1_001.OUTDOOR_TEAM_GAMES: Activity.OTHER,\n",
    "    diary.ACT1_001.OTHER_SPECIFIED_BALL_GAMES: Activity.OTHER,\n",
    "    diary.ACT1_001.GYMNASTICS: Activity.OTHER,\n",
    "    diary.ACT1_001.FITNESS: Activity.OTHER,\n",
    "    diary.ACT1_001.UNSPECIFIED_WATER_SPORTS: Activity.OTHER,\n",
    "    diary.ACT1_001.SWIMMING: Activity.OTHER,\n",
    "    diary.ACT1_001.OTHER_SPECIFIED_WATER_SPORTS: Activity.OTHER,\n",
    "    diary.ACT1_001.OTHER_SPECIFIED_PHYSICAL_EXERCISE: Activity.OTHER,\n",
    "    diary.ACT1_001.UNSPECIFIED_PRODUCTIVE_EXERCISE: Activity.OTHER,\n",
    "    diary.ACT1_001.HUNTING_AND_FISHING: Activity.OTHER,\n",
    "    diary.ACT1_001.PICKING_BERRIES__MUSHROOM_AND_HERBS: Activity.OTHER,\n",
    "    diary.ACT1_001.OTHER_SPECIFIED_PRODUCTIVE_EXERCISE: Activity.OTHER,\n",
    "    diary.ACT1_001.UNSPECIFIED_SPORTS_RELATED_ACTIVITIES: Activity.OTHER,\n",
    "    diary.ACT1_001.ACTIVITIES_RELATED_TO_SPORTS: Activity.OTHER,\n",
    "    diary.ACT1_001.ACTIVITIES_RELATED_TO_PRODUCTIVE_EXERCISE: Activity.OTHER,\n",
    "    diary.ACT1_001.UNSPECIFIED_HOBBIES_AND_GAMES: Activity.OTHER,\n",
    "    diary.ACT1_001.UNSPECIFIED_ARTS: Activity.OTHER,\n",
    "    diary.ACT1_001.UNSPECIFIED_VISUAL_ARTS: Activity.OTHER,\n",
    "    diary.ACT1_001.PAINTING__DRAWING_OR_OTHER_GRAPHIC_ARTS: Activity.OTHER,\n",
    "    diary.ACT1_001.MAKING_VIDEOS__TAKING_PHOTOS_OR_RELATED_ACTIVITIES: Activity.OTHER,\n",
    "    diary.ACT1_001.OTHER_SPECIFIED_VISUAL_ARTS: Activity.OTHER,\n",
    "    diary.ACT1_001.UNSPECIFIED_PERFORMING_ARTS: Activity.OTHER,\n",
    "    diary.ACT1_001.SINGING_OR_OTHER_MUSICAL_ACTIVITIES: Activity.OTHER,\n",
    "    diary.ACT1_001.OTHER_SPECIFIED_PERFORMING_ARTS: Activity.OTHER,\n",
    "    diary.ACT1_001.LITERARY_ARTS: Activity.OTHER,\n",
    "    diary.ACT1_001.OTHER_SPECIFIED_ARTS: Activity.OTHER,\n",
    "    diary.ACT1_001.UNSPECIFIED_HOBBIES: Activity.OTHER,\n",
    "    diary.ACT1_001.COLLECTING: Activity.OTHER,\n",
    "    diary.ACT1_001.COMPUTING_PROGRAMMING: Activity.OTHER,\n",
    "    diary.ACT1_001.UNSPECIFIED_INFORMATION_BY_COMPUTING: Activity.OTHER,\n",
    "    diary.ACT1_001.INFORMATION_SEARCHING_ON_THE_INTERNET: Activity.OTHER,\n",
    "    diary.ACT1_001.OTHER_SPECIFIED_INFORMATION_BY_COMPUTING: Activity.OTHER,\n",
    "    diary.ACT1_001.UNSPECIFIED_COMMUNICATION_BY_COMPUTER: Activity.OTHER,\n",
    "    diary.ACT1_001.COMMUNICATION_ON_THE_INTERNET: Activity.OTHER,\n",
    "    diary.ACT1_001.OTHER_SPECIFIED_COMMUNICATION_BY_COMPUTING: Activity.OTHER,\n",
    "    diary.ACT1_001.UNSPECIFIED_OTHER_COMPUTING: Activity.OTHER,\n",
    "    diary.ACT1_001.UNSPECIFIED_INTERNET_USE: Activity.OTHER,\n",
    "    diary.ACT1_001.OTHER_SPECIFIED_COMPUTING: Activity.OTHER,\n",
    "    diary.ACT1_001.CORRESPONDENCE: Activity.OTHER,\n",
    "    diary.ACT1_001.OTHER_SPECIFIED_HOBBIES: Activity.OTHER,\n",
    "    diary.ACT1_001.UNSPECIFIED_GAMES: Activity.OTHER,\n",
    "    diary.ACT1_001.SOLO_GAMES_AND_PLAY: Activity.OTHER,\n",
    "    diary.ACT1_001.UNSPECIFIED_GAMES_AND_PLAY_WITH_OTHERS: Activity.OTHER,\n",
    "    diary.ACT1_001.BILLIARDS__POOL__SNOOKER_OR_PETANQUE: Activity.OTHER,\n",
    "    diary.ACT1_001.CHESS_AND_BRIDGE: Activity.OTHER,\n",
    "    diary.ACT1_001.OTHER_SPECIFIED_PARLOUR_GAMES_AND_PLAY: Activity.OTHER,\n",
    "    diary.ACT1_001.COMPUTER_GAMES: Activity.OTHER,\n",
    "    diary.ACT1_001.GAMBLING: Activity.OTHER,\n",
    "    diary.ACT1_001.OTHER_SPECIFIED_GAMES: Activity.OTHER,\n",
    "    diary.ACT1_001.UNSPECIFIED_MASS_MEDIA: Activity.OTHER,\n",
    "    diary.ACT1_001.UNSPECIFIED_READING: Activity.OTHER,\n",
    "    diary.ACT1_001.READING_PERIODICALS: Activity.OTHER,\n",
    "    diary.ACT1_001.READING_BOOKS: Activity.OTHER,\n",
    "    diary.ACT1_001.OTHER_SPECIFIED_READING: Activity.OTHER,\n",
    "    diary.ACT1_001.UNSPECIFIED_TV_WATCHING: Activity.OTHER,\n",
    "    diary.ACT1_001.WATCHING_A_FILM_ON_TV: Activity.OTHER,\n",
    "    diary.ACT1_001.WATCHING_SPORT_ON_TV: Activity.OTHER,\n",
    "    diary.ACT1_001.OTHER_SPECIFIED_TV_WATCHING: Activity.OTHER,\n",
    "    diary.ACT1_001.UNSPECIFIED_VIDEO_WATCHING: Activity.OTHER,\n",
    "    diary.ACT1_001.WATCHING_A_FILM_ON_VIDEO: Activity.OTHER,\n",
    "    diary.ACT1_001.WATCHING_SPORT_ON_VIDEO: Activity.OTHER,\n",
    "    diary.ACT1_001.OTHER_SPECIFIED_VIDEO_WATCHING: Activity.OTHER,\n",
    "    diary.ACT1_001.UNSPECIFIED_LISTENING_TO_RADIO_AND_MUSIC: Activity.OTHER,\n",
    "    diary.ACT1_001.UNSPECIFIED_RADIO_LISTENING: Activity.OTHER,\n",
    "    diary.ACT1_001.LISTENING_TO_MUSIC_ON_THE_RADIO: Activity.OTHER,\n",
    "    diary.ACT1_001.LISTENING_TO_SPORT_ON_THE_RADIO: Activity.OTHER,\n",
    "    diary.ACT1_001.OTHER_SPECIFIED_RADIO_LISTENING: Activity.OTHER,\n",
    "    diary.ACT1_001.LISTENING_TO_RECORDINGS: Activity.OTHER,\n",
    "    diary.ACT1_001.TRAVEL_RELATED_TO_UNSPECIFIED_TIME_USE: Activity.OTHER,\n",
    "    diary.ACT1_001.TRAVEL_RELATED_TO_PERSONAL_BUSINESS: Activity.OTHER,\n",
    "    diary.ACT1_001.TRAVEL_IN_THE_COURSE_OF_WORK: Activity.OTHER,\n",
    "    diary.ACT1_001.TRAVEL_TO_WORK_FROM_HOME_AND_BACK_ONLY: Activity.OTHER,\n",
    "    diary.ACT1_001.TRAVEL_TO_WORK_FROM_A_PLACE_OTHER_THAN_HOME: Activity.OTHER,\n",
    "    diary.ACT1_001.TRAVEL_RELATED_TO_EDUCATION: Activity.OTHER,\n",
    "    diary.ACT1_001.TRAVEL_ESCORTING_TO_FROM_EDUCATION: Activity.OTHER,\n",
    "    diary.ACT1_001.TRAVEL_RELATED_TO_HOUSEHOLD_CARE: Activity.OTHER,\n",
    "    diary.ACT1_001.TRAVEL_RELATED_TO_SHOPPING: Activity.OTHER,\n",
    "    diary.ACT1_001.TRAVEL_RELATED_TO_SERVICES: Activity.OTHER,\n",
    "    diary.ACT1_001.TRAVEL_ESCORTING_A_CHILD_OTHER_THAN_EDUCATION: Activity.OTHER,\n",
    "    diary.ACT1_001.TRAVEL_ESCORTING_AN_ADULT_OTHER_THAN_EDUCATION: Activity.OTHER,\n",
    "    diary.ACT1_001.TRAVEL_RELATED_TO_ORGANISATIONAL_WORK: Activity.OTHER,\n",
    "    diary.ACT1_001.TRAVEL_RELATED_TO_INFORMAL_HELP_TO_OTHER_HOUSEHOLDS: Activity.OTHER,\n",
    "    diary.ACT1_001.TRAVEL_RELATED_TO_RELIGIOUS_ACTIVITIES: Activity.OTHER,\n",
    "    diary.ACT1_001.TRAVEL_RLT_TO_PARTICIPATORY_ACTV_EXCEPT_REL_ACTV: Activity.OTHER,\n",
    "    diary.ACT1_001.TRAVEL_TO_VISIT_FRIENDS_RELATIVES_IN_THEIR_HOMES: Activity.OTHER,\n",
    "    diary.ACT1_001.TRAVEL_RELATED_TO_OTHER_SOCIAL_ACTIVITIES: Activity.OTHER,\n",
    "    diary.ACT1_001.TRAVEL_RELATED_TO_ENTERTAINMENT_AND_CULTURE: Activity.OTHER,\n",
    "    diary.ACT1_001.TRAVEL_RELATED_TO_PHYSICAL_EXERCISE: Activity.OTHER,\n",
    "    diary.ACT1_001.TRAVEL_RELATED_TO_HUNTING_AND_FISHING: Activity.OTHER,\n",
    "    diary.ACT1_001.TRAVEL_RELATED_TO_PRODUCTIVE_EXCS_EXPT_HUNTING_AND_FISHING: Activity.OTHER,\n",
    "    diary.ACT1_001.TRAVEL_RELATED_TO_GAMBLING: Activity.OTHER,\n",
    "    diary.ACT1_001.TRAVEL_RELATED_TO_HOBBIES_OTHER_THAN_GAMBLING: Activity.OTHER,\n",
    "    diary.ACT1_001.TRAVEL_TO_HOLIDAY_BASE: Activity.OTHER,\n",
    "    diary.ACT1_001.TRAVEL_FOR_DAY_TRIP_JUST_WALK: Activity.OTHER,\n",
    "    diary.ACT1_001.OTHER_SPECIFIED_TRAVEL: Activity.OTHER,\n",
    "    diary.ACT1_001.PUNCTUATING_ACTIVITY: Activity.OTHER,\n",
    "    diary.ACT1_001.FILLING_IN_THE_TIME_USE_DIARY: Activity.OTHER,\n",
    "    diary.ACT1_001.NO_MAIN_ACTIVITY__NO_IDEA_WHAT_IT_MIGHT_BE: Activity.UNKNOWN,\n",
    "    diary.ACT1_001.NO_MAIN_ACTIVITY__SOME_IDEA_WHAT_IT_MIGHT_BE: Activity.UNKNOWN,\n",
    "    diary.ACT1_001.ILLEGIBLE_ACTIVITY: Activity.UNKNOWN,\n",
    "    diary.ACT1_001.UNSPECIFIED_TIME_USE: Activity.UNKNOWN,\n",
    "    diary.ACT1_001.MISSING1: Activity.UNKNOWN\n",
    "}"
   ]
  },
  {
   "cell_type": "code",
   "execution_count": null,
   "metadata": {
    "collapsed": false
   },
   "outputs": [],
   "source": [
    "simple_ac_loc = ac_loc[['location', 'activity']].applymap(lambda val: location_map[val] if isinstance(val, diary.WHER_001) else activity_map[val])\n",
    "simple_ac_loc['activity'] = simple_ac_loc['activity'].astype('category', categories=[ac for ac in Activity])\n",
    "simple_ac_loc['location'] = simple_ac_loc['location'].astype('category', categories=[loc for loc in Location])"
   ]
  },
  {
   "cell_type": "code",
   "execution_count": null,
   "metadata": {
    "collapsed": false
   },
   "outputs": [],
   "source": [
    "simple_ac_loc.head()"
   ]
  },
  {
   "cell_type": "markdown",
   "metadata": {},
   "source": [
    "##  Handle Unknowns"
   ]
  },
  {
   "cell_type": "code",
   "execution_count": null,
   "metadata": {
    "collapsed": false
   },
   "outputs": [],
   "source": [
    "simple_ac_loc.isnull().any()"
   ]
  },
  {
   "cell_type": "markdown",
   "metadata": {},
   "source": [
    "There are no nans."
   ]
  },
  {
   "cell_type": "code",
   "execution_count": null,
   "metadata": {
    "collapsed": false
   },
   "outputs": [],
   "source": [
    "len(simple_ac_loc[(simple_ac_loc.activity == Activity.UNKNOWN) | (simple_ac_loc.location == Location.UNKNOWN)]) / len(simple_ac_loc)"
   ]
  },
  {
   "cell_type": "markdown",
   "metadata": {},
   "source": [
    "5.5% of all entries are missing."
   ]
  },
  {
   "cell_type": "code",
   "execution_count": null,
   "metadata": {
    "collapsed": false
   },
   "outputs": [],
   "source": [
    "filled_simple_ac_loc = simple_ac_loc.copy()"
   ]
  },
  {
   "cell_type": "code",
   "execution_count": null,
   "metadata": {
    "collapsed": false
   },
   "outputs": [],
   "source": [
    "filled_simple_ac_loc.replace(to_replace=[Location.UNKNOWN, Activity.UNKNOWN], value=np.nan, inplace=True)"
   ]
  },
  {
   "cell_type": "code",
   "execution_count": null,
   "metadata": {
    "collapsed": false
   },
   "outputs": [],
   "source": [
    "filled_simple_ac_loc.isnull().describe()"
   ]
  },
  {
   "cell_type": "markdown",
   "metadata": {},
   "source": [
    "Unknowns will be filled by forward fill. That is, whenever  an acticity/location is unknown it is expected that the last known activity/location is still valid. \n",
    "\n",
    "When doing that, it is important to not forward fill between diaries (all diaries are below each other). Hence, they must be grouped into diaries first and then forward filled. This will lead to the fact that not all Unknowns can be filled (the ones at the beginning of the day), but that is wanted.  "
   ]
  },
  {
   "cell_type": "code",
   "execution_count": null,
   "metadata": {
    "collapsed": false
   },
   "outputs": [],
   "source": [
    "filled_simple_ac_loc = filled_simple_ac_loc.groupby([filled_simple_ac_loc.index.get_level_values(0), \n",
    "                                                     filled_simple_ac_loc.index.get_level_values(1), \n",
    "                                                     filled_simple_ac_loc.index.get_level_values(2), \n",
    "                                                     filled_simple_ac_loc.index.get_level_values(3)]).fillna(method='ffill')"
   ]
  },
  {
   "cell_type": "code",
   "execution_count": null,
   "metadata": {
    "collapsed": false
   },
   "outputs": [],
   "source": [
    "filled_simple_ac_loc.isnull().describe()"
   ]
  },
  {
   "cell_type": "markdown",
   "metadata": {},
   "source": [
    "As expected, there are nans left."
   ]
  },
  {
   "cell_type": "code",
   "execution_count": null,
   "metadata": {
    "collapsed": false
   },
   "outputs": [],
   "source": [
    "(3021264 - 3017517), (3017517 - 2887519)"
   ]
  },
  {
   "cell_type": "code",
   "execution_count": null,
   "metadata": {
    "collapsed": false
   },
   "outputs": [],
   "source": [
    "(3021264 - 3018637), (3018637 - 2983086)"
   ]
  },
  {
   "cell_type": "markdown",
   "metadata": {},
   "source": [
    "129998  unknown locations could be forward filled, 3747 remain unknown. \n",
    "\n",
    "35551 unknown activities could be forward filled, 2627 remain unknown."
   ]
  },
  {
   "cell_type": "code",
   "execution_count": null,
   "metadata": {
    "collapsed": false
   },
   "outputs": [],
   "source": [
    "# TODO don't forward fill over too long durations, e.g. not more than 1-2h."
   ]
  },
  {
   "cell_type": "markdown",
   "metadata": {},
   "source": [
    "The remaining nans are filtered in the Filter section below."
   ]
  },
  {
   "cell_type": "markdown",
   "metadata": {},
   "source": [
    "## Map to People Model"
   ]
  },
  {
   "cell_type": "code",
   "execution_count": null,
   "metadata": {
    "collapsed": false
   },
   "outputs": [],
   "source": [
    "markov_states = pd.Series(index=ac_loc.index, dtype='category')\n",
    "markov_states.cat.add_categories([state for state in ppl.Activity], inplace=True)"
   ]
  },
  {
   "cell_type": "code",
   "execution_count": null,
   "metadata": {
    "collapsed": false
   },
   "outputs": [],
   "source": [
    "data = filled_simple_ac_loc # shorter alias\n",
    "mask_home = (data.location == Location.HOME) & (data.activity != Activity.SLEEP)\n",
    "mask_sleep = ((data.location == Location.HOME) | (data.location == Location.IMPLICIT)) & (data.activity == Activity.SLEEP)\n",
    "mask_other_home = (data.location == Location.OTHER_HOME) & (data.activity != Activity.SLEEP)\n",
    "mask_sleep_other_home = (data.location == Location.OTHER_HOME) & (data.activity == Activity.SLEEP)\n",
    "mask_not_at_home = ((data.location != Location.HOME) & \n",
    "                    (data.location != Location.OTHER_HOME) &\n",
    "                    (data.activity != Activity.SLEEP))\n",
    "mask_nan = pd.isnull(data.location) | pd.isnull(data.activity)"
   ]
  },
  {
   "cell_type": "code",
   "execution_count": null,
   "metadata": {
    "collapsed": false
   },
   "outputs": [],
   "source": [
    "markov_states[mask_home] = ppl.Activity.HOME\n",
    "markov_states[mask_sleep] = ppl.Activity.SLEEP_AT_HOME\n",
    "markov_states[mask_other_home] = ppl.Activity.OTHER_HOME\n",
    "markov_states[mask_sleep_other_home] = ppl.Activity.SLEEP_AT_OTHER_HOME\n",
    "markov_states[mask_not_at_home] = ppl.Activity.NOT_AT_HOME\n",
    "markov_states[mask_nan] = np.nan"
   ]
  },
  {
   "cell_type": "code",
   "execution_count": null,
   "metadata": {
    "collapsed": false
   },
   "outputs": [],
   "source": [
    "markov_states.isnull().describe()"
   ]
  },
  {
   "cell_type": "code",
   "execution_count": null,
   "metadata": {
    "collapsed": false
   },
   "outputs": [],
   "source": [
    "3021264 - 3015793"
   ]
  },
  {
   "cell_type": "markdown",
   "metadata": {},
   "source": [
    "5471 time steps are invalid."
   ]
  },
  {
   "cell_type": "code",
   "execution_count": null,
   "metadata": {
    "collapsed": false
   },
   "outputs": [],
   "source": [
    "markov_states.groupby(by=markov_states).count().sort_values()"
   ]
  },
  {
   "cell_type": "markdown",
   "metadata": {},
   "source": [
    "### Other Home\n",
    "\n",
    "Sorry for being nosy... but what exactly do you do  in other homes?\n",
    "\n",
    "Certainly there is more than this one occassion where people have slept in other people's home. So have they potentially  given the Location.IMPLICIT?"
   ]
  },
  {
   "cell_type": "code",
   "execution_count": null,
   "metadata": {
    "collapsed": false
   },
   "outputs": [],
   "source": [
    "109651 / len(simple_ac_loc)"
   ]
  },
  {
   "cell_type": "markdown",
   "metadata": {},
   "source": [
    "3.6% of the time is spent in other people's home."
   ]
  },
  {
   "cell_type": "code",
   "execution_count": null,
   "metadata": {
    "collapsed": false
   },
   "outputs": [],
   "source": [
    "len(simple_ac_loc[(simple_ac_loc.activity == Activity.SLEEP) & (simple_ac_loc.shift().location == Location.OTHER_HOME)])"
   ]
  },
  {
   "cell_type": "code",
   "execution_count": null,
   "metadata": {
    "collapsed": false
   },
   "outputs": [],
   "source": [
    "len(simple_ac_loc[(simple_ac_loc.activity.shift() == Activity.SLEEP) & (simple_ac_loc.location == Location.OTHER_HOME)])"
   ]
  },
  {
   "cell_type": "markdown",
   "metadata": {},
   "source": [
    "Clearly, people marked their location as IMPLICIT when they slept at other people's home. That makes it more difficult to extract their correct location.  Actually it's impossible, because if the status changed from (Location.OTHER_HOME, any Activity) to (Location.IMPLICIT, Activity.SLEEP), it could either be that this person has slept at other people's home, or that person return very quickly home from a neighbour.  The location at wakeup can bring more certainty but won't remove uncertainty entirely."
   ]
  },
  {
   "cell_type": "code",
   "execution_count": null,
   "metadata": {
    "collapsed": false
   },
   "outputs": [],
   "source": [
    "#TODO extract sleeping at other people's home"
   ]
  },
  {
   "cell_type": "markdown",
   "metadata": {},
   "source": [
    "## Filter"
   ]
  },
  {
   "cell_type": "code",
   "execution_count": null,
   "metadata": {
    "collapsed": false
   },
   "outputs": [],
   "source": [
    "filtered_participants = individual_data.copy()\n",
    "len(filtered_participants)"
   ]
  },
  {
   "cell_type": "markdown",
   "metadata": {},
   "source": [
    "###  Filter Participants that exist only in either one data set"
   ]
  },
  {
   "cell_type": "code",
   "execution_count": null,
   "metadata": {
    "collapsed": false
   },
   "outputs": [],
   "source": [
    "diary_particpants_index = pd.MultiIndex(labels=diary_data.index.labels[0:3],\n",
    "                                        levels=diary_data.index.levels[0:3],\n",
    "                                        names=['SN1', 'SN2', 'SN3'])"
   ]
  },
  {
   "cell_type": "code",
   "execution_count": null,
   "metadata": {
    "collapsed": false
   },
   "outputs": [],
   "source": [
    "participants_not_in_individual = diary_particpants_index.difference(individual_data.index)\n",
    "len(participants_not_in_individual)"
   ]
  },
  {
   "cell_type": "code",
   "execution_count": null,
   "metadata": {
    "collapsed": false
   },
   "outputs": [],
   "source": [
    "participants_not_in_diary = individual_data.index.difference(diary_particpants_index)\n",
    "len(participants_not_in_diary)"
   ]
  },
  {
   "cell_type": "code",
   "execution_count": null,
   "metadata": {
    "collapsed": false
   },
   "outputs": [],
   "source": [
    "filtered_participants = filtered_participants.reindex(filtered_participants.index.difference(participants_not_in_diary))\n",
    "assert len(filtered_participants) == 11664 - 1523"
   ]
  },
  {
   "cell_type": "markdown",
   "metadata": {},
   "source": [
    "### Filter  Participants with only one entry "
   ]
  },
  {
   "cell_type": "code",
   "execution_count": null,
   "metadata": {
    "collapsed": false
   },
   "outputs": [],
   "source": [
    "valid_mask = ac_loc.groupby([ac_loc.index.get_level_values(0), \n",
    "                             ac_loc.index.get_level_values(1), \n",
    "                             ac_loc.index.get_level_values(2)]).apply(lambda values: len(values) == 24 * 6 * 2)\n",
    "valid_mask = valid_mask.reindex(filtered_participants.index, fill_value=False)\n",
    "valid_mask.describe()"
   ]
  },
  {
   "cell_type": "code",
   "execution_count": null,
   "metadata": {
    "collapsed": false
   },
   "outputs": [],
   "source": [
    "10141 - 9997"
   ]
  },
  {
   "cell_type": "markdown",
   "metadata": {},
   "source": [
    "144 of remaining participants have only one entry and are filtered out."
   ]
  },
  {
   "cell_type": "code",
   "execution_count": null,
   "metadata": {
    "collapsed": false
   },
   "outputs": [],
   "source": [
    "filtered_participants = filtered_participants[valid_mask]\n",
    "assert len(filtered_participants) == 11664 - 1523 - 144"
   ]
  },
  {
   "cell_type": "markdown",
   "metadata": {},
   "source": [
    "### Filter NaNs"
   ]
  },
  {
   "cell_type": "code",
   "execution_count": null,
   "metadata": {
    "collapsed": false
   },
   "outputs": [],
   "source": [
    "nan_mask = markov_states.groupby(by=lambda index: (index[0], index[1], index[2])).apply(lambda values: values.isnull().any())\n",
    "nan_mask = nan_mask.reindex(filtered_participants.index, fill_value=True)\n",
    "nan_mask.describe()"
   ]
  },
  {
   "cell_type": "code",
   "execution_count": null,
   "metadata": {
    "collapsed": false
   },
   "outputs": [],
   "source": [
    "9997 - 9580"
   ]
  },
  {
   "cell_type": "markdown",
   "metadata": {},
   "source": [
    "417 diaries contain at least one invalid entry and their corresponding survey participants are hence removed."
   ]
  },
  {
   "cell_type": "code",
   "execution_count": null,
   "metadata": {
    "collapsed": false
   },
   "outputs": [],
   "source": [
    "filtered_participants = filtered_participants[~nan_mask]\n",
    "assert len(filtered_participants) == 11664 - 1523 - 144 - 417"
   ]
  },
  {
   "cell_type": "markdown",
   "metadata": {},
   "source": [
    "### Filtered Markov States"
   ]
  },
  {
   "cell_type": "code",
   "execution_count": null,
   "metadata": {
    "collapsed": false
   },
   "outputs": [],
   "source": [
    "diary_data_index = pd.MultiIndex(labels=diary_data.index.labels[0:3], \n",
    "                                 levels=diary_data.index.levels[0:3], \n",
    "                                 names=['SN1', 'SN2', 'SN3']).drop_duplicates()"
   ]
  },
  {
   "cell_type": "code",
   "execution_count": null,
   "metadata": {
    "collapsed": false
   },
   "outputs": [],
   "source": [
    "markov_mask = pd.Series(True, index=filtered_participants.index).reindex(diary_data_index, fill_value=False)"
   ]
  },
  {
   "cell_type": "code",
   "execution_count": null,
   "metadata": {
    "collapsed": false
   },
   "outputs": [],
   "source": [
    "filtered_markov_states = markov_states[markov_mask.reindex(markov_states.index, method='ffill')]"
   ]
  },
  {
   "cell_type": "code",
   "execution_count": null,
   "metadata": {
    "collapsed": false
   },
   "outputs": [],
   "source": [
    "filtered_markov_states.head()"
   ]
  },
  {
   "cell_type": "markdown",
   "metadata": {},
   "source": [
    "### Filter Weekends\n",
    "Lastly, let's create some masks for filtering weekdays/weekends."
   ]
  },
  {
   "cell_type": "code",
   "execution_count": null,
   "metadata": {
    "collapsed": false
   },
   "outputs": [],
   "source": [
    "weekday_mask = diary_data.DDAYW2 == diary.DDAYW2.WEEKDAY_MON___FRI\n",
    "weekday_mask = weekday_mask.reindex(filtered_markov_states.index, method='ffill')\n",
    "weekday_mask.describe()"
   ]
  },
  {
   "cell_type": "code",
   "execution_count": null,
   "metadata": {
    "collapsed": false
   },
   "outputs": [],
   "source": [
    "filtered_markov_states = filtered_markov_states[weekday_mask]"
   ]
  },
  {
   "cell_type": "markdown",
   "metadata": {},
   "source": [
    "## Create Plot"
   ]
  },
  {
   "cell_type": "code",
   "execution_count": null,
   "metadata": {
    "collapsed": false
   },
   "outputs": [],
   "source": [
    "def filter_participants(participants, participant_mask, timeseries):\n",
    "    less_participants = participants[participant_mask]\n",
    "    diary_data_index = pd.MultiIndex(labels=diary_data.index.labels[0:3], \n",
    "                                     levels=diary_data.index.levels[0:3], \n",
    "                                     names=['SN1', 'SN2', 'SN3']).drop_duplicates()\n",
    "    markov_mask = pd.Series(True, index=less_participants.index).reindex(diary_data_index, fill_value=False)\n",
    "    return timeseries[markov_mask.reindex(markov_states.index, method='ffill')]"
   ]
  },
  {
   "cell_type": "code",
   "execution_count": null,
   "metadata": {
    "collapsed": false
   },
   "outputs": [],
   "source": [
    "def anyone_home(entries):\n",
    "    return any(entry in [ppl.Activity.HOME, ppl.Activity.SLEEP_AT_HOME] for entry in entries)\n",
    "\n",
    "def percentage_anyone_home(entries):\n",
    "    return len([entry for entry in entries if entry == True]) / len(entries)\n",
    "\n",
    "def percentage_at_home(entries):\n",
    "    count_at_home = len([entry for entry in entries if entry in [ppl.Activity.HOME, ppl.Activity.SLEEP_AT_HOME]])\n",
    "    return count_at_home / len(entries)"
   ]
  },
  {
   "cell_type": "code",
   "execution_count": null,
   "metadata": {
    "collapsed": false,
    "scrolled": false
   },
   "outputs": [],
   "source": [
    "fig = plt.figure(figsize=(14, 7))\n",
    "\n",
    "for elem in individual.HHTYPE5:\n",
    "    participant_mask = filtered_participants.HHTYPE5 == elem\n",
    "    df = filter_participants(filtered_participants, participant_mask, filtered_markov_states)\n",
    "    df = df.groupby(df.index.get_level_values(4))\\\n",
    "        .apply(percentage_at_home)\n",
    "    plt.plot(range(len(df.index)), df.values, label=elem)\n",
    "plt.legend()\n",
    "    "
   ]
  },
  {
   "cell_type": "code",
   "execution_count": null,
   "metadata": {
    "collapsed": false
   },
   "outputs": [],
   "source": [
    "household_income_mapping = {\n",
    "    individual.GROSHINC.LESS_THAN_2_610_POUNDS: 'less than £2,610',\n",
    "    individual.GROSHINC.N55_000___80_000_POUNDS: '£55,000 and more',\n",
    "    individual.GROSHINC.N80_000_POUNDS_OR_MORE: '£55,000 and more',\n",
    "    individual.GROSHINC.DON_T_KNOW: np.nan,\n",
    "    individual.GROSHINC.REFUSE: np.nan,\n",
    "    individual.GROSHINC._GROSHINC__2_610_____5_210_POUNDS: 'between £2,610 and £5,210',\n",
    "    individual.GROSHINC._GROSHINC__5_210___10_430_POUNDS: 'between £5,210 and £10,430',\n",
    "    individual.GROSHINC.N10_430___15_640_POUNDS: 'between £10,430 and £15,640',\n",
    "    individual.GROSHINC.N15_640___20_860_POUNDS: 'between £15,640 and £20,860',\n",
    "    individual.GROSHINC.N20_860___33_800_POUNDS: 'between £20,860 and £33,800',\n",
    "    individual.GROSHINC.N33_800___41_000_POUNDS: 'between £33,800 and £41,000',\n",
    "    individual.GROSHINC.N41_000___46_000_POUNDS: 'between £41,000 and £46,000',\n",
    "    individual.GROSHINC.N46_000___55_000_POUNDS: 'between £46,000 and £55,000'\n",
    "}"
   ]
  },
  {
   "cell_type": "code",
   "execution_count": null,
   "metadata": {
    "collapsed": false
   },
   "outputs": [],
   "source": [
    "hh_income_of_participants = filtered_participants.GROSHINC.map(household_income_mapping)\n",
    "hh_income_of_participants.dropna(inplace=True)\n",
    "anyone_at_home_timeseries = pd.DataFrame(\n",
    "    index=filtered_markov_states.groupby(filtered_markov_states.index.get_level_values(4)).first().index\n",
    ")\n",
    "\n",
    "for elem in ['less than £2,610', 'between £2,610 and £5,210', 'between £5,210 and £10,430',\n",
    "             'between £10,430 and £15,640', 'between £15,640 and £20,860', 'between £20,860 and £33,800',\n",
    "             'between £33,800 and £41,000', 'between £41,000 and £46,000', 'between £46,000 and £55,000',\n",
    "             '£55,000 and more']:\n",
    "    print(elem)\n",
    "    participant_mask = hh_income_of_participants == elem\n",
    "    df = filter_participants(hh_income_of_participants, participant_mask, filtered_markov_states)\n",
    "    df = df.groupby([df.index.get_level_values(0), df.index.get_level_values(1), df.index.get_level_values(4)])\\\n",
    "           .apply(anyone_home)\n",
    "    df = df.groupby(df.index.get_level_values(2))\\\n",
    "        .apply(percentage_anyone_home)\n",
    "    anyone_at_home_timeseries[elem] = df"
   ]
  },
  {
   "cell_type": "code",
   "execution_count": null,
   "metadata": {
    "collapsed": false
   },
   "outputs": [],
   "source": [
    "fig = plt.figure(figsize=(14, 7))\n",
    "\n",
    "for elem in ['less than £2,610', 'between £2,610 and £5,210', 'between £5,210 and £10,430',\n",
    "             'between £10,430 and £15,640', 'between £15,640 and £20,860', 'between £20,860 and £33,800',\n",
    "             'between £33,800 and £41,000', 'between £41,000 and £46,000', 'between £46,000 and £55,000',\n",
    "             '£55,000 and more']:\n",
    "    plt.plot(range(len(anyone_at_home_timeseries.index)), anyone_at_home_timeseries[elem], label=elem)\n",
    "_ = plt.legend()\n",
    "_ = plt.ylabel('fraction of households with at least one person home')\n",
    "_ = plt.xlabel('time of the day')\n",
    "_ = plt.title(\"Yearly Household Income and People's presence in their homes\")\n",
    "_ = plt.xticks([144 / 4, 144 / 2, 144 * 3 / 4], ['06:00', '12:00', '18:00'])\n",
    "_ = plt.xlim(0, 143)\n",
    "\n",
    "fig.savefig('./build/peoples_presence_vs_houshold_income.png', dpi=100)"
   ]
  },
  {
   "cell_type": "code",
   "execution_count": null,
   "metadata": {
    "collapsed": false
   },
   "outputs": [],
   "source": []
  }
 ],
 "metadata": {
  "anaconda-cloud": {},
  "kernelspec": {
   "display_name": "Python [conda env:dev]",
   "language": "python",
   "name": "conda-env-dev-py"
  },
  "language_info": {
   "codemirror_mode": {
    "name": "ipython",
    "version": 3
   },
   "file_extension": ".py",
   "mimetype": "text/x-python",
   "name": "python",
   "nbconvert_exporter": "python",
   "pygments_lexer": "ipython3",
   "version": "3.6.0"
  }
 },
 "nbformat": 4,
 "nbformat_minor": 2
}
