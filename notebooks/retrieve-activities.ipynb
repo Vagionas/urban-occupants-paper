{
 "cells": [
  {
   "cell_type": "markdown",
   "metadata": {},
   "source": [
    "# Retrieve Activities\n",
    "\n",
    "This Jupyter notebook processes the [UK Time Use study data from 2000](https://discover.ukdataservice.ac.uk/catalogue?sn=4504) and brings it into a format readible by [people](https://github.com/timtroendle/people)."
   ]
  },
  {
   "cell_type": "code",
   "execution_count": null,
   "metadata": {
    "collapsed": false
   },
   "outputs": [],
   "source": [
    "from enum import Enum\n",
    "from pathlib import Path\n",
    "\n",
    "import pandas as pd\n",
    "import numpy as np\n",
    "import matplotlib.pyplot as plt\n",
    "\n",
    "from pytus2000 import read_diary_file, diary, read_individual_file, individual\n",
    "%matplotlib inline"
   ]
  },
  {
   "cell_type": "code",
   "execution_count": null,
   "metadata": {
    "collapsed": false
   },
   "outputs": [],
   "source": [
    "DATA_FOLDER_PATH = Path('./data/UKDA-4504-tab/')"
   ]
  },
  {
   "cell_type": "markdown",
   "metadata": {},
   "source": [
    "## Read Data"
   ]
  },
  {
   "cell_type": "code",
   "execution_count": null,
   "metadata": {
    "collapsed": false
   },
   "outputs": [],
   "source": [
    "diary_data = read_diary_file(DATA_FOLDER_PATH / 'tab' / 'diary_data_8.tab')\n",
    "diary_data.ACT1_001.head()"
   ]
  },
  {
   "cell_type": "code",
   "execution_count": null,
   "metadata": {
    "collapsed": false,
    "scrolled": false
   },
   "outputs": [],
   "source": [
    "individual_data = read_individual_file(DATA_FOLDER_PATH / 'tab' / 'Individual_data_5.tab')\n",
    "individual_data.Q1A.head()"
   ]
  },
  {
   "cell_type": "markdown",
   "metadata": {},
   "source": [
    "## Helper Functions"
   ]
  },
  {
   "cell_type": "code",
   "execution_count": null,
   "metadata": {
    "collapsed": false
   },
   "outputs": [],
   "source": [
    "def print_full(x):\n",
    "    pd.set_option('display.max_rows', len(x))\n",
    "    print(x)\n",
    "    pd.reset_option('display.max_rows')"
   ]
  },
  {
   "cell_type": "code",
   "execution_count": null,
   "metadata": {
    "collapsed": false
   },
   "outputs": [],
   "source": [
    "from datetime import datetime, timedelta\n",
    "\n",
    "def time_mapper(time_interval):\n",
    "    \"\"\"Maps the time interval as given in the study to hour and minute.\n",
    "    \n",
    "    e.g. '001' -> (4, 00)\n",
    "    e.g. '144' -> (3, 50)\n",
    "    e.g. 1     -> (4, 00)\n",
    "    \"\"\"\n",
    "    time_interval = int(time_interval)\n",
    "    if time_interval < 1 or time_interval > 144:\n",
    "        raise ValueError('Invalid time invertal {}. Must be between 1 and 144.'.format(time_interval))\n",
    "    time_since_four = timedelta(minutes=(int(time_interval) - 1) * 10)\n",
    "    four = datetime(2000, 6, 10, 4, 0) # date does not matter\n",
    "    time = four + time_since_four\n",
    "    return time.hour, time.minute\n",
    "\n",
    "assert time_mapper('001') == (4, 0)\n",
    "assert time_mapper('007') == (5, 0)\n",
    "assert time_mapper('144') == (3, 50)\n",
    "assert time_mapper(1) == (4, 0)\n",
    "assert time_mapper(7) == (5, 0)\n",
    "assert time_mapper(144) == (3, 50)"
   ]
  },
  {
   "cell_type": "markdown",
   "metadata": {},
   "source": [
    "## Transforming Activities and Locations into TimeSeries"
   ]
  },
  {
   "cell_type": "code",
   "execution_count": null,
   "metadata": {
    "collapsed": false
   },
   "outputs": [],
   "source": [
    "ac_loc = pd.DataFrame(\n",
    "    {\n",
    "        'activity': diary_data['ACT1_001'],\n",
    "        'location': diary_data['WHER_001'],\n",
    "        'secondary_activity': diary_data['ACT2_001'],\n",
    "        'hour': pd.Series([4] * len(diary_data), index=diary_data.index),\n",
    "        'minute': pd.Series([0] * len(diary_data), index=diary_data.index)\n",
    "    },\n",
    "    dtype='category'\n",
    ")\n",
    "ac_loc.info()"
   ]
  },
  {
   "cell_type": "code",
   "execution_count": null,
   "metadata": {
    "collapsed": false
   },
   "outputs": [],
   "source": [
    "ac_loc.head()"
   ]
  },
  {
   "cell_type": "code",
   "execution_count": null,
   "metadata": {
    "collapsed": false
   },
   "outputs": [],
   "source": [
    "for i in range(1, 144):\n",
    "    hour, minute = time_mapper(i + 1)\n",
    "    if np.isnan(hour) or np.isnan(minute) or hour < 0 or hour > 23 or minute < 0 or minute > 59:\n",
    "        msg = 'Something went wront. Interval {}, hour {}, minute {}'.format(i, hour, minute)\n",
    "        raise ValueError(msg)\n",
    "    next_frame = pd.DataFrame(\n",
    "        {\n",
    "            'activity' : diary_data['ACT1_{:0>3}'.format(i + 1)],\n",
    "            'location' : diary_data['WHER_{:0>3}'.format(i + 1)],\n",
    "            'secondary_activity' : diary_data['ACT2_{:0>3}'.format(i + 1)],\n",
    "            'hour' : pd.Series([hour] * len(diary_data), index=diary_data.index),\n",
    "            'minute' : pd.Series([minute] * len(diary_data), index=diary_data.index),\n",
    "        },\n",
    "        dtype='category'\n",
    "    )\n",
    "    ac_loc = ac_loc.append(next_frame, ignore_index=False)\n",
    "ac_loc.info()"
   ]
  },
  {
   "cell_type": "code",
   "execution_count": null,
   "metadata": {
    "collapsed": false
   },
   "outputs": [],
   "source": [
    "ac_loc['activity'] = ac_loc['activity'].astype('category', categories=[ac for ac in diary.ACT1_001])\n",
    "ac_loc['secondary_activity'] = ac_loc['secondary_activity'].astype('category', categories=[ac for ac in diary.ACT2_001])\n",
    "ac_loc['location'] = ac_loc['location'].astype('category', categories=[loc for loc in diary.WHER_001])\n",
    "ac_loc['hour'] = ac_loc['hour'].astype(np.int8)\n",
    "ac_loc['minute'] = ac_loc['minute'].astype(np.int8)\n",
    "ac_loc.info()"
   ]
  },
  {
   "cell_type": "code",
   "execution_count": null,
   "metadata": {
    "collapsed": false
   },
   "outputs": [],
   "source": [
    "ac_loc = ac_loc.set_index(['hour', 'minute'], drop=True, append=True)\n",
    "ac_loc.info()"
   ]
  },
  {
   "cell_type": "code",
   "execution_count": null,
   "metadata": {
    "collapsed": false
   },
   "outputs": [],
   "source": [
    "ac_loc = ac_loc.sort_index()"
   ]
  },
  {
   "cell_type": "code",
   "execution_count": null,
   "metadata": {
    "collapsed": false
   },
   "outputs": [],
   "source": [
    "ac_loc.head(15)"
   ]
  },
  {
   "cell_type": "markdown",
   "metadata": {},
   "source": [
    "### Slicing Example: Choose only adults"
   ]
  },
  {
   "cell_type": "code",
   "execution_count": null,
   "metadata": {
    "collapsed": false
   },
   "outputs": [],
   "source": [
    "mask = diary_data.DTYPE == diary.DTYPE.ADULT_DIARY\n",
    "mask.head()"
   ]
  },
  {
   "cell_type": "code",
   "execution_count": null,
   "metadata": {
    "collapsed": false
   },
   "outputs": [],
   "source": [
    "ac_loc_mask = mask.reindex(ac_loc.index, method='ffill')\n",
    "ac_loc_mask.head()"
   ]
  },
  {
   "cell_type": "code",
   "execution_count": null,
   "metadata": {
    "collapsed": false
   },
   "outputs": [],
   "source": [
    "ac_loc[ac_loc_mask].head()"
   ]
  },
  {
   "cell_type": "code",
   "execution_count": null,
   "metadata": {
    "collapsed": false
   },
   "outputs": [],
   "source": [
    "assert len(diary_data[mask]) * 144 == len(ac_loc[ac_loc_mask])"
   ]
  },
  {
   "cell_type": "markdown",
   "metadata": {},
   "source": [
    "## Analysing Activities and Locations"
   ]
  },
  {
   "cell_type": "markdown",
   "metadata": {},
   "source": [
    "How important is an activity in the data set? Let's have a look at the average time spent per day on certain activities."
   ]
  },
  {
   "cell_type": "code",
   "execution_count": null,
   "metadata": {
    "collapsed": false
   },
   "outputs": [],
   "source": [
    "print_full(ac_loc.groupby('activity').location.count().sort_values())"
   ]
  },
  {
   "cell_type": "code",
   "execution_count": null,
   "metadata": {
    "collapsed": false
   },
   "outputs": [],
   "source": [
    "print_full(ac_loc.groupby('location').activity.count().sort_values())"
   ]
  },
  {
   "cell_type": "markdown",
   "metadata": {},
   "source": [
    "## Defining and Mapping Locations"
   ]
  },
  {
   "cell_type": "markdown",
   "metadata": {},
   "source": [
    "What we are actually interested in is not so much activities, but mostly locations of people. So let's look at locations first."
   ]
  },
  {
   "cell_type": "code",
   "execution_count": null,
   "metadata": {
    "collapsed": false
   },
   "outputs": [],
   "source": [
    "class Location(Enum):\n",
    "    \"\"\"Simplified locations.\"\"\"\n",
    "    HOME = 1\n",
    "    OTHER_HOME = 2\n",
    "    WORK_OR_SCHOOL = 3\n",
    "    RESTO = 4\n",
    "    SPORTS_FACILITY = 5\n",
    "    ARTS_OR_CULTURAL_CENTRE = 6\n",
    "    OUTSIDE = 7\n",
    "    TRAVELLING = 8\n",
    "    UNKNOWN = 9\n",
    "    IMPLICIT = 10"
   ]
  },
  {
   "cell_type": "code",
   "execution_count": null,
   "metadata": {
    "collapsed": false
   },
   "outputs": [],
   "source": [
    "location_map = {\n",
    "    diary.WHER_001.MAIN_ACTVTY_EQUAL_SLEEPWORKSTUDY___NO_CODE_REQUIRED : Location.IMPLICIT,\n",
    "    diary.WHER_001._MISSING : Location.UNKNOWN,\n",
    "    diary.WHER_001._UNSPECIFIED_LOCATION : Location.UNKNOWN,\n",
    "    diary.WHER_001._UNSPECIFIED_LOCATION_NOT_TRAVELLING : Location.UNKNOWN,\n",
    "    diary.WHER_001._HOME : Location.HOME,\n",
    "    diary.WHER_001._SECOND_HOME_OR_WEEKEND_HOUSE : Location.OTHER_HOME,\n",
    "    diary.WHER_001._WORKING_PLACE_OR_SCHOOL : Location.WORK_OR_SCHOOL,\n",
    "    diary.WHER_001._OTHER_PEOPLE_S_HOME : Location.OTHER_HOME,\n",
    "    diary.WHER_001._RESTAURANT__CAFÉ_OR_PUB : Location.RESTO,\n",
    "    diary.WHER_001._SPORTS_FACILITY : Location.SPORTS_FACILITY,\n",
    "    diary.WHER_001._WHER_001__ARTS_OR_CULTURAL_CENTRE : Location.ARTS_OR_CULTURAL_CENTRE,\n",
    "    diary.WHER_001._THE_COUNTRY_COUNTRYSIDE__SEASIDE__BEACH_OR_COAST : Location.OUTSIDE,\n",
    "    diary.WHER_001._OTHER_SPECIFIED_LOCATION_NOT_TRAVELLING : Location.UNKNOWN,\n",
    "    diary.WHER_001._UNSPECIFIED_PRIVATE_TRANSPORT_MODE : Location.TRAVELLING,\n",
    "    diary.WHER_001._TRAVELLING_ON_FOOT : Location.TRAVELLING,\n",
    "    diary.WHER_001._TRAVELLING_BY_BICYCLE : Location.TRAVELLING,\n",
    "    diary.WHER_001._TRAVELLING_BY_MOPED__MOTORCYCLE_OR_MOTORBOAT : Location.TRAVELLING,\n",
    "    diary.WHER_001._TRAVELLING_BY_PASSENGER_CAR_AS_THE_DRIVER : Location.TRAVELLING,\n",
    "    diary.WHER_001._TRAVELLING_BY_PASSENGER_CAR_AS_A_PASSENGER : Location.TRAVELLING,\n",
    "    diary.WHER_001._TRAVELLING_BY_PASSENGER_CAR_DRIVER_STATUS_UNSPECIFIED : Location.TRAVELLING,\n",
    "    diary.WHER_001._TRAVELLING_BY_LORRY__OR_TRACTOR : Location.TRAVELLING,\n",
    "    diary.WHER_001._TRAVELLING_BY_VAN : Location.TRAVELLING,\n",
    "    diary.WHER_001._OTHER_SPECIFIED_PRIVATE_TRAVELLING_MODE : Location.TRAVELLING,\n",
    "    diary.WHER_001._UNSPECIFIED_PUBLIC_TRANSPORT_MODE : Location.TRAVELLING,\n",
    "    diary.WHER_001._TRAVELLING_BY_TAXI : Location.TRAVELLING,\n",
    "    diary.WHER_001._TRAVELLING_BY_BUS : Location.TRAVELLING,\n",
    "    diary.WHER_001._TRAVELLING_BY_TRAM_OR_UNDERGROUND : Location.TRAVELLING,\n",
    "    diary.WHER_001._TRAVELLING_BY_TRAIN : Location.TRAVELLING,\n",
    "    diary.WHER_001._TRAVELLING_BY_AEROPLANE : Location.TRAVELLING,\n",
    "    diary.WHER_001._TRAVELLING_BY_BOAT_OR_SHIP : Location.TRAVELLING,\n",
    "    diary.WHER_001._WHER_001__TRAVELLING_BY_COACH : Location.TRAVELLING,\n",
    "    diary.WHER_001._WAITING_FOR_PUBLIC_TRANSPORT : Location.TRAVELLING,\n",
    "    diary.WHER_001._OTHER_SPECIFIED_PUBLIC_TRANSPORT_MODE : Location.TRAVELLING,\n",
    "    diary.WHER_001._UNSPECIFIED_TRANSPORT_MODE : Location.TRAVELLING,\n",
    "    diary.WHER_001._ILLEGIBLE_LOCATION_OR_TRANSPORT_MODE : Location.UNKNOWN\n",
    "}"
   ]
  },
  {
   "cell_type": "markdown",
   "metadata": {},
   "source": [
    "Estimate the distribution of locations for a certain activity. How big is the share of the most common location of a certain activity?"
   ]
  },
  {
   "cell_type": "code",
   "execution_count": null,
   "metadata": {
    "collapsed": false
   },
   "outputs": [],
   "source": [
    "def share_of_activity_time_at_most_common_location(group):\n",
    "    locations = group.groupby('location').activity.count()\n",
    "    most_common_location = locations.max()\n",
    "    return most_common_location / locations.sum()"
   ]
  },
  {
   "cell_type": "code",
   "execution_count": null,
   "metadata": {
    "collapsed": false
   },
   "outputs": [],
   "source": [
    "def number_of_locations(group):\n",
    "    return len(group.location.unique())"
   ]
  },
  {
   "cell_type": "code",
   "execution_count": null,
   "metadata": {
    "collapsed": false,
    "scrolled": false
   },
   "outputs": [],
   "source": [
    "ac_loc.groupby('activity').apply(share_of_activity_time_at_most_common_location).hist()\n",
    "_ = plt.xlabel('Share of most common location for activity.')"
   ]
  },
  {
   "cell_type": "code",
   "execution_count": null,
   "metadata": {
    "collapsed": false
   },
   "outputs": [],
   "source": [
    "ac_loc.groupby('activity').apply(number_of_locations).hist()\n",
    "_ = plt.xlabel('Number of locations per activity.')"
   ]
  },
  {
   "cell_type": "markdown",
   "metadata": {},
   "source": [
    "Half of all activities are performed by 87% at the most common location. In average, an activity is performed to 78% at the most common location.\n",
    "\n",
    "Half of all activities are performed at 5 different locations or less. In average, there are 6.8 different locations per activity."
   ]
  },
  {
   "cell_type": "code",
   "execution_count": null,
   "metadata": {
    "collapsed": false
   },
   "outputs": [],
   "source": [
    "ac_simpleloc = ac_loc.applymap(lambda val: location_map[val] if isinstance(val, diary.WHER_001) else val)\n",
    "ac_simpleloc['activity'] = ac_simpleloc['activity'].astype('category', categories=[ac for ac in diary.ACT1_001])\n",
    "ac_simpleloc['location'] = ac_simpleloc['location'].astype('category', categories=[loc for loc in Location])"
   ]
  },
  {
   "cell_type": "code",
   "execution_count": null,
   "metadata": {
    "collapsed": false
   },
   "outputs": [],
   "source": [
    "ac_simpleloc.groupby('activity').apply(share_of_activity_time_at_most_common_location).hist()\n",
    "_ = plt.xlabel('Share of most common location for activity.')"
   ]
  },
  {
   "cell_type": "code",
   "execution_count": null,
   "metadata": {
    "collapsed": false
   },
   "outputs": [],
   "source": [
    "ac_simpleloc.groupby('activity').apply(number_of_locations).hist(bins=len(Location)-1)\n",
    "_ = plt.xlabel('Number of locations per activity.')"
   ]
  },
  {
   "cell_type": "markdown",
   "metadata": {},
   "source": [
    "With reduced locations, half of all activities are performed by 93% at the most common location. In average, an activity is performed to 85% at the most common location.\n",
    "\n",
    "Half of all activities are performed at 3 different locations or less. In average, there are 3.9 different locations per activity."
   ]
  },
  {
   "cell_type": "code",
   "execution_count": null,
   "metadata": {
    "collapsed": false
   },
   "outputs": [],
   "source": [
    "ac_simpleloc.groupby('location').activity.count().sort_values()"
   ]
  },
  {
   "cell_type": "markdown",
   "metadata": {},
   "source": [
    "## Defining and Mapping Activities"
   ]
  },
  {
   "cell_type": "code",
   "execution_count": null,
   "metadata": {
    "collapsed": false
   },
   "outputs": [],
   "source": [
    "class Activity(Enum):\n",
    "    SLEEP = 1\n",
    "    WORK_OR_STUDY = 2\n",
    "    OTHER = 3\n",
    "    UNKNOWN = 4"
   ]
  },
  {
   "cell_type": "code",
   "execution_count": null,
   "metadata": {
    "collapsed": false
   },
   "outputs": [],
   "source": [
    "activity_map = {\n",
    "    diary.ACT1_001.UNSPECIFIED_PERSONAL_CARE: Activity.OTHER,\n",
    "    diary.ACT1_001.UNSPECIFIED_SLEEP: Activity.SLEEP,\n",
    "    diary.ACT1_001.SLEEP: Activity.SLEEP,\n",
    "    diary.ACT1_001.SICK_IN_BED: Activity.SLEEP,\n",
    "    diary.ACT1_001.EATING: Activity.OTHER,\n",
    "    diary.ACT1_001.UNSPECIFIED_OTHER_PERSONAL_CARE: Activity.OTHER,\n",
    "    diary.ACT1_001.WASH_AND_DRESS: Activity.OTHER,\n",
    "    diary.ACT1_001.OTHER_SPECIFIED_PERSONAL_CARE: Activity.OTHER,\n",
    "    diary.ACT1_001.UNSPECIFIED_EMPLOYMENT: Activity.WORK_OR_STUDY,\n",
    "    diary.ACT1_001.WORKING_TIME_IN_MAIN_JOB: Activity.WORK_OR_STUDY,\n",
    "    diary.ACT1_001.COFFEE_AND_OTHER_BREAKS_IN_MAIN_JOB: Activity.OTHER,\n",
    "    diary.ACT1_001.WORKING_TIME_IN_SECOND_JOB: Activity.WORK_OR_STUDY,\n",
    "    diary.ACT1_001.COFFEE_AND_OTHER_BREAKS_IN_SECOND_JOB: Activity.OTHER,\n",
    "    diary.ACT1_001.UNSPECIFIED_ACTIVITIES_RELATED_TO_EMPLOYMENT: Activity.WORK_OR_STUDY,\n",
    "    diary.ACT1_001.LUNCH_BREAK: Activity.OTHER,\n",
    "    diary.ACT1_001.OTHER_SPECIFIED_ACTIVITIES_RELATED_TO_EMPLOYMENT: Activity.WORK_OR_STUDY,\n",
    "    diary.ACT1_001.ACTIVITIES_RELATED_TO_JOB_SEEKING: Activity.OTHER,\n",
    "    diary.ACT1_001.OTHER_SPECIFIED_ACTIVITIES_RELATED_TO_EMPLOYMENT2: Activity.WORK_OR_STUDY,\n",
    "    diary.ACT1_001.UNSPECIFIED_STUDY: Activity.WORK_OR_STUDY,\n",
    "    diary.ACT1_001.UNSPECIFIED_ACTIVITIES_RELATED_TO_SCHOOL_OR_UNIVERSITY: Activity.WORK_OR_STUDY,\n",
    "    diary.ACT1_001.CLASSES_AND_LECTURES: Activity.WORK_OR_STUDY,\n",
    "    diary.ACT1_001.HOMEWORK: Activity.OTHER,\n",
    "    diary.ACT1_001.OTHER_SPECIFIED_ACTIVITIES_RELATED_TO_SCHOOL_OR_UNIVERSITY: Activity.WORK_OR_STUDY,\n",
    "    diary.ACT1_001.FREE_TIME_STUDY: Activity.OTHER,\n",
    "    diary.ACT1_001.UNSPECIFIED_HOUSEHOLD_AND_FAMILY_CARE: Activity.OTHER,\n",
    "    diary.ACT1_001.UNSPECIFIED_FOOD_MANAGEMENT: Activity.OTHER,\n",
    "    diary.ACT1_001.FOOD_PREPARATION: Activity.OTHER,\n",
    "    diary.ACT1_001.BAKING: Activity.OTHER,\n",
    "    diary.ACT1_001.DISH_WASHING: Activity.OTHER,\n",
    "    diary.ACT1_001.PRESERVING: Activity.OTHER,\n",
    "    diary.ACT1_001.OTHER_SPECIFIED_FOOD_MANAGEMENT: Activity.OTHER,\n",
    "    diary.ACT1_001.UNSPECIFIED_HOUSEHOLD_UPKEEP: Activity.OTHER,\n",
    "    diary.ACT1_001.CLEANING_DWELLING: Activity.OTHER,\n",
    "    diary.ACT1_001.CLEANING_YARD: Activity.OTHER,\n",
    "    diary.ACT1_001.HEATING_AND_WATER: Activity.OTHER,\n",
    "    diary.ACT1_001.VARIOUS_ARRANGEMENTS: Activity.OTHER,\n",
    "    diary.ACT1_001.DISPOSAL_OF_WASTE: Activity.OTHER,\n",
    "    diary.ACT1_001.OTHER_SPECIFIED_HOUSEHOLD_UPKEEP: Activity.OTHER,\n",
    "    diary.ACT1_001.UNSPECIFIED_MAKING_AND_CARE_FOR_TEXTILES: Activity.OTHER,\n",
    "    diary.ACT1_001.LAUNDRY: Activity.OTHER,\n",
    "    diary.ACT1_001.IRONING: Activity.OTHER,\n",
    "    diary.ACT1_001.HANDICRAFT_AND_PRODUCING_TEXTILES: Activity.OTHER,\n",
    "    diary.ACT1_001.OTHER_SPECIFIED_MAKING_AND_CARE_FOR_TEXTILES: Activity.OTHER,\n",
    "    diary.ACT1_001.UNSPECIFIED_GARDENING_AND_PET_CARE: Activity.OTHER,\n",
    "    diary.ACT1_001.GARDENING: Activity.OTHER,\n",
    "    diary.ACT1_001.TENDING_DOMESTIC_ANIMALS: Activity.OTHER,\n",
    "    diary.ACT1_001.CARING_FOR_PETS: Activity.OTHER,\n",
    "    diary.ACT1_001.WALKING_THE_DOG: Activity.OTHER,\n",
    "    diary.ACT1_001.OTHER_SPECIFIED_GARDENING_AND_PET_CARE: Activity.OTHER,\n",
    "    diary.ACT1_001.UNSPECIFIED_CONSTRUCTION_AND_REPAIRS: Activity.OTHER,\n",
    "    diary.ACT1_001.HOUSE_CONSTRUCTION_AND_RENOVATION: Activity.OTHER,\n",
    "    diary.ACT1_001.REPAIRS_OF_DWELLING: Activity.OTHER,\n",
    "    diary.ACT1_001.UNSPECIFIED_MAKING__REPAIRING_AND_MAINTAINING_EQUIPMENT: Activity.OTHER,\n",
    "    diary.ACT1_001.WOODCRAFT__METAL_CRAFT__SCULPTURE_AND_POTTERY: Activity.OTHER,\n",
    "    diary.ACT1_001.OTHER_SPECIFIED_MAKING__REPAIRING_AND_MAINTAINING_EQUIPMENT: Activity.OTHER,\n",
    "    diary.ACT1_001.VEHICLE_MAINTENANCE: Activity.OTHER,\n",
    "    diary.ACT1_001.OTHER_SPECIFIED_CONSTRUCTION_AND_REPAIRS: Activity.OTHER,\n",
    "    diary.ACT1_001.UNSPECIFIED_SHOPPING_AND_SERVICES: Activity.OTHER,\n",
    "    diary.ACT1_001.UNSPECIFIED_SHOPPING: Activity.OTHER,\n",
    "    diary.ACT1_001.SHOPPING_MAINLY_FOR_FOOD: Activity.OTHER,\n",
    "    diary.ACT1_001.SHOPPING_MAINLY_FOR_CLOTHING: Activity.OTHER,\n",
    "    diary.ACT1_001.SHOPPING_MAINLY_RELATED_TO_ACCOMMODATION: Activity.OTHER,\n",
    "    diary.ACT1_001.SHOPPING_OR_BROWSING_AT_CAR_BOOT_SALES_OR_ANTIQUE_FAIRS: Activity.OTHER,\n",
    "    diary.ACT1_001.WINDOW_SHOPPING_OR_OTHER_SHOPPING_AS_LEISURE: Activity.OTHER,\n",
    "    diary.ACT1_001.OTHER_SPECIFIED_SHOPPING: Activity.OTHER,\n",
    "    diary.ACT1_001.COMMERCIAL_AND_ADMINISTRATIVE_SERVICES: Activity.OTHER,\n",
    "    diary.ACT1_001.PERSONAL_SERVICES: Activity.OTHER,\n",
    "    diary.ACT1_001.OTHER_SPECIFIED_SHOPPING_AND_SERVICES: Activity.OTHER,\n",
    "    diary.ACT1_001.HOUSEHOLD_MANAGEMENT_NOT_USING_THE_INTERNET: Activity.OTHER,\n",
    "    diary.ACT1_001.UNSPECIFIED_HOUSEHOLD_MANAGEMENT_USING_THE_INTERNET: Activity.OTHER,\n",
    "    diary.ACT1_001.SHPING_FORANDORDRING_UNSPEC_GDSANDSRVS_VIA_INTERNET: Activity.OTHER,\n",
    "    diary.ACT1_001.SHPING_FORANDORDRING_FOOD_VIA_THE_INTERNET: Activity.OTHER,\n",
    "    diary.ACT1_001.SHPING_FORANDORDRING_CLOTHING_VIA_THE_INTERNET: Activity.OTHER,\n",
    "    diary.ACT1_001.SHPING_FORANDORDRING_GDSANDSRV_RELATED_TO_ACC_VIA_INTERNET: Activity.OTHER,\n",
    "    diary.ACT1_001.SHPING_FORANDORDRING_MASS_MEDIA_VIA_THE_INTERNET: Activity.OTHER,\n",
    "    diary.ACT1_001.SHPING_FORANDORDRING_ENTERTAINMENT_VIA_THE_INTERNET: Activity.OTHER,\n",
    "    diary.ACT1_001.BANKING_AND_BILL_PAYING_VIA_THE_INTERNET: Activity.OTHER,\n",
    "    diary.ACT1_001.OTHER_SPECIFIED_HOUSEHOLD_MANAGEMENT_USING_THE_INTERNET: Activity.OTHER,\n",
    "    diary.ACT1_001.UNSPECIFIED_CHILDCARE: Activity.OTHER,\n",
    "    diary.ACT1_001.UNSPECIFIED_PHYSICAL_CARE_AND_SUPERVISION_OF_A_CHILD: Activity.OTHER,\n",
    "    diary.ACT1_001.FEEDING_THE_CHILD: Activity.OTHER,\n",
    "    diary.ACT1_001.OTHER_SPECIFIED_PHYSICAL_CARE_AND_SUPERVISION_OF_A_CHILD: Activity.OTHER,\n",
    "    diary.ACT1_001.TEACHING_THE_CHILD: Activity.OTHER,\n",
    "    diary.ACT1_001.READING__PLAYING_AND_TALKING_WITH_CHILD: Activity.OTHER,\n",
    "    diary.ACT1_001.ACCOMPANYING_CHILD: Activity.OTHER,\n",
    "    diary.ACT1_001.OTHER_SPECIFIED_CHILDCARE: Activity.OTHER,\n",
    "    diary.ACT1_001.UNSPECIFIED_HELP_TO_AN_ADULT_HOUSEHOLD_MEMBER: Activity.OTHER,\n",
    "    diary.ACT1_001.PHYSICAL_CARE_AND_SUPERVISION_OF_AN_ADULT_HOUSEHOLD_MEMBER: Activity.OTHER,\n",
    "    diary.ACT1_001.ACCOMPANYING_AN_ADULT_HOUSEHOLD_MEMBER: Activity.OTHER,\n",
    "    diary.ACT1_001.OTHER_SPECIFIED_HELP_TO_AN_ADULT_HOUSEHOLD_MEMBER: Activity.OTHER,\n",
    "    diary.ACT1_001.UNSPECIFIED_VOLUNTEER_WORK_AND_MEETINGS: Activity.OTHER,\n",
    "    diary.ACT1_001.UNSPECIFIED_ORGANISATIONAL_WORK: Activity.OTHER,\n",
    "    diary.ACT1_001.WORK_FOR_AN_ORGANISATION: Activity.OTHER,\n",
    "    diary.ACT1_001.VOLUNTEER_WORK_THROUGH_AN_ORGANISATION: Activity.OTHER,\n",
    "    diary.ACT1_001.OTHER_SPECIFIED_ORGANISATIONAL_WORK: Activity.OTHER,\n",
    "    diary.ACT1_001.UNSPECIFIED_INFORMAL_HELP: Activity.OTHER,\n",
    "    diary.ACT1_001.FOOD_MANAGEMENT_AS_HELP: Activity.OTHER,\n",
    "    diary.ACT1_001.HOUSEHOLD_UPKEEP_AS_HELP: Activity.OTHER,\n",
    "    diary.ACT1_001.GARDENING_AND_PET_CARE_AS_HELP: Activity.OTHER,\n",
    "    diary.ACT1_001.CONSTRUCTION_AND_REPAIRS_AS_HELP: Activity.OTHER,\n",
    "    diary.ACT1_001.SHOPPING_AND_SERVICES_AS_HELP: Activity.OTHER,\n",
    "    diary.ACT1_001.HELP_IN_EMPLOYMENT_AND_FARMING: Activity.OTHER,\n",
    "    diary.ACT1_001.UNSPECIFIED_CHILDCARE_AS_HELP: Activity.OTHER,\n",
    "    diary.ACT1_001.PHYSICAL_CARE_AND_SUPERVISION_OF_A_CHILD_AS_HELP: Activity.OTHER,\n",
    "    diary.ACT1_001.TEACHING_THE_CHILD_AS_HELP: Activity.OTHER,\n",
    "    diary.ACT1_001.READING__PLAYING_AND_TALKING_TO_THE_CHILD_AS_HELP: Activity.OTHER,\n",
    "    diary.ACT1_001.ACCOMPANYING_THE_CHILD_AS_HELP: Activity.OTHER,\n",
    "    diary.ACT1_001.OTHER_SPECIFIED_CHILDCARE_AS_HELP: Activity.OTHER,\n",
    "    diary.ACT1_001.UNSPECIFIED_HELP_TO_AN_ADULT_MEMBER_OF_ANOTHER_HOUSEHOLD: Activity.OTHER,\n",
    "    diary.ACT1_001.PHYSICAL_CARE_AND_SUPERVISION_OF_AN_ADULT_AS_HELP: Activity.OTHER,\n",
    "    diary.ACT1_001.ACCOMPANYING_AN_ADULT_AS_HELP: Activity.OTHER,\n",
    "    diary.ACT1_001.OTHER_SPECIFIED_HELP_TO_AN_ADULT_MEMBER_OF_ANOTHER_HOUSEHOLD: Activity.OTHER,\n",
    "    diary.ACT1_001.OTHER_SPECIFIED_INFORMAL_HELP: Activity.OTHER,\n",
    "    diary.ACT1_001.UNSPECIFIED_PARTICIPATORY_ACTIVITIES: Activity.OTHER,\n",
    "    diary.ACT1_001.MEETINGS: Activity.OTHER,\n",
    "    diary.ACT1_001.RELIGIOUS_ACTIVITIES: Activity.OTHER,\n",
    "    diary.ACT1_001.OTHER_SPECIFIED_PARTICIPATORY_ACTIVITIES: Activity.OTHER,\n",
    "    diary.ACT1_001.UNSPECIFIED_SOCIAL_LIFE_AND_ENTERTAINMENT: Activity.OTHER,\n",
    "    diary.ACT1_001.UNSPECIFIED_SOCIAL_LIFE: Activity.OTHER,\n",
    "    diary.ACT1_001.SOCIALISING_WITH_HOUSEHOLD_MEMBERS: Activity.OTHER,\n",
    "    diary.ACT1_001.VISITING_AND_RECEIVING_VISITORS: Activity.OTHER,\n",
    "    diary.ACT1_001.FEASTS: Activity.OTHER,\n",
    "    diary.ACT1_001.TELEPHONE_CONVERSATION: Activity.OTHER,\n",
    "    diary.ACT1_001.OTHER_SPECIFIED_SOCIAL_LIFE: Activity.OTHER,\n",
    "    diary.ACT1_001.UNSPECIFIED_ENTERTAINMENT_AND_CULTURE: Activity.OTHER,\n",
    "    diary.ACT1_001.CINEMA: Activity.OTHER,\n",
    "    diary.ACT1_001.UNSPECIFIED_THEATRE_OR_CONCERTS: Activity.OTHER,\n",
    "    diary.ACT1_001.PLAYS__MUSICALS_OR_PANTOMIMES: Activity.OTHER,\n",
    "    diary.ACT1_001.OPERA__OPERETTA_OR_LIGHT_OPERA: Activity.OTHER,\n",
    "    diary.ACT1_001.CONCERTS_OR_OTHER_PERFORMANCES_OF_CLASSICAL_MUSIC: Activity.OTHER,\n",
    "    diary.ACT1_001.LIVE_MUSIC_OTHER_THAN_CLASSICAL_CONCERTS__OPERA_AND_MUSICALS: Activity.OTHER,\n",
    "    diary.ACT1_001.DANCE_PERFORMANCES: Activity.OTHER,\n",
    "    diary.ACT1_001.OTHER_SPECIFIED_THEATRE_OR_CONCERTS: Activity.OTHER,\n",
    "    diary.ACT1_001.ART_EXHIBITIONS_AND_MUSEUMS: Activity.OTHER,\n",
    "    diary.ACT1_001.UNSPECIFIED_LIBRARY: Activity.OTHER,\n",
    "    diary.ACT1_001.BRWING_BKS_RCDS_AUDIO_VIDEO_CDS_VDS_FROM_LIBRARY: Activity.OTHER,\n",
    "    diary.ACT1_001.REFERENCE_TO_BKS_AND_OTHER_LIBRARY_MATERIALS_WITHIN_LIBRARY: Activity.OTHER,\n",
    "    diary.ACT1_001.USING_INTERNET_IN_THE_LIBRARY: Activity.OTHER,\n",
    "    diary.ACT1_001.USING_COMPUTERS_IN_THE_LIBRARY_OTHER_THAN_INTERNET_USE: Activity.OTHER,\n",
    "    diary.ACT1_001.READING_NEWSPAPERS_IN_A_LIBRARY: Activity.OTHER,\n",
    "    diary.ACT1_001.LISTENING_TO_MUSIC_IN_A_LIBRARY: Activity.OTHER,\n",
    "    diary.ACT1_001.OTHER_SPECIFIED_LIBRARY_ACTIVITIES: Activity.OTHER,\n",
    "    diary.ACT1_001.SPORTS_EVENTS: Activity.OTHER,\n",
    "    diary.ACT1_001.OTHER_SPECIFIED_ENTERTAINMENT_AND_CULTURE: Activity.OTHER,\n",
    "    diary.ACT1_001.VISITING_A_HISTORICAL_SITE: Activity.OTHER,\n",
    "    diary.ACT1_001.VISITING_A_WILDLIFE_SITE: Activity.OTHER,\n",
    "    diary.ACT1_001.VISITING_A_BOTANICAL_SITE: Activity.OTHER,\n",
    "    diary.ACT1_001.VISITING_A_LEISURE_PARK: Activity.OTHER,\n",
    "    diary.ACT1_001.VISITING_AN_URBAN_PARK__PLAYGROUND_OR_DESIGNATED_PLAY_AREA: Activity.OTHER,\n",
    "    diary.ACT1_001.OTHER_SPECIFIED_ENTERTAINMENT_OR_CULTURE: Activity.OTHER,\n",
    "    diary.ACT1_001.RESTING_TIME_OUT: Activity.OTHER,\n",
    "    diary.ACT1_001.UNSPECIFIED_SPORTS_AND_OUTDOOR_ACTIVITIES: Activity.OTHER,\n",
    "    diary.ACT1_001.UNSPECIFIED_PHYSICAL_EXERCISE: Activity.OTHER,\n",
    "    diary.ACT1_001.WALKING_AND_HIKING: Activity.OTHER,\n",
    "    diary.ACT1_001.TAKING_A_WALK_OR_HIKE_THAT_LASTS_AT_LEAST_2_MILES_OR_1_HOUR: Activity.OTHER,\n",
    "    diary.ACT1_001.OTHER_WALK_OR_HIKE: Activity.OTHER,\n",
    "    diary.ACT1_001.JOGGING_AND_RUNNING: Activity.OTHER,\n",
    "    diary.ACT1_001.BIKING__SKIING_AND_SKATING: Activity.OTHER,\n",
    "    diary.ACT1_001.BIKING: Activity.OTHER,\n",
    "    diary.ACT1_001.SKIING_OR_SKATING: Activity.OTHER,\n",
    "    diary.ACT1_001.UNSPECIFIED_BALL_GAMES: Activity.OTHER,\n",
    "    diary.ACT1_001.INDOOR_PAIRS_OR_DOUBLES_GAMES: Activity.OTHER,\n",
    "    diary.ACT1_001.INDOOR_TEAM_GAMES: Activity.OTHER,\n",
    "    diary.ACT1_001.OUTDOOR_PAIRS_OR_DOUBLES_GAMES: Activity.OTHER,\n",
    "    diary.ACT1_001.OUTDOOR_TEAM_GAMES: Activity.OTHER,\n",
    "    diary.ACT1_001.OTHER_SPECIFIED_BALL_GAMES: Activity.OTHER,\n",
    "    diary.ACT1_001.GYMNASTICS: Activity.OTHER,\n",
    "    diary.ACT1_001.FITNESS: Activity.OTHER,\n",
    "    diary.ACT1_001.UNSPECIFIED_WATER_SPORTS: Activity.OTHER,\n",
    "    diary.ACT1_001.SWIMMING: Activity.OTHER,\n",
    "    diary.ACT1_001.OTHER_SPECIFIED_WATER_SPORTS: Activity.OTHER,\n",
    "    diary.ACT1_001.OTHER_SPECIFIED_PHYSICAL_EXERCISE: Activity.OTHER,\n",
    "    diary.ACT1_001.UNSPECIFIED_PRODUCTIVE_EXERCISE: Activity.OTHER,\n",
    "    diary.ACT1_001.HUNTING_AND_FISHING: Activity.OTHER,\n",
    "    diary.ACT1_001.PICKING_BERRIES__MUSHROOM_AND_HERBS: Activity.OTHER,\n",
    "    diary.ACT1_001.OTHER_SPECIFIED_PRODUCTIVE_EXERCISE: Activity.OTHER,\n",
    "    diary.ACT1_001.UNSPECIFIED_SPORTS_RELATED_ACTIVITIES: Activity.OTHER,\n",
    "    diary.ACT1_001.ACTIVITIES_RELATED_TO_SPORTS: Activity.OTHER,\n",
    "    diary.ACT1_001.ACTIVITIES_RELATED_TO_PRODUCTIVE_EXERCISE: Activity.OTHER,\n",
    "    diary.ACT1_001.UNSPECIFIED_HOBBIES_AND_GAMES: Activity.OTHER,\n",
    "    diary.ACT1_001.UNSPECIFIED_ARTS: Activity.OTHER,\n",
    "    diary.ACT1_001.UNSPECIFIED_VISUAL_ARTS: Activity.OTHER,\n",
    "    diary.ACT1_001.PAINTING__DRAWING_OR_OTHER_GRAPHIC_ARTS: Activity.OTHER,\n",
    "    diary.ACT1_001.MAKING_VIDEOS__TAKING_PHOTOS_OR_RELATED_ACTIVITIES: Activity.OTHER,\n",
    "    diary.ACT1_001.OTHER_SPECIFIED_VISUAL_ARTS: Activity.OTHER,\n",
    "    diary.ACT1_001.UNSPECIFIED_PERFORMING_ARTS: Activity.OTHER,\n",
    "    diary.ACT1_001.SINGING_OR_OTHER_MUSICAL_ACTIVITIES: Activity.OTHER,\n",
    "    diary.ACT1_001.OTHER_SPECIFIED_PERFORMING_ARTS: Activity.OTHER,\n",
    "    diary.ACT1_001.LITERARY_ARTS: Activity.OTHER,\n",
    "    diary.ACT1_001.OTHER_SPECIFIED_ARTS: Activity.OTHER,\n",
    "    diary.ACT1_001.UNSPECIFIED_HOBBIES: Activity.OTHER,\n",
    "    diary.ACT1_001.COLLECTING: Activity.OTHER,\n",
    "    diary.ACT1_001.COMPUTING_PROGRAMMING: Activity.OTHER,\n",
    "    diary.ACT1_001.UNSPECIFIED_INFORMATION_BY_COMPUTING: Activity.OTHER,\n",
    "    diary.ACT1_001.INFORMATION_SEARCHING_ON_THE_INTERNET: Activity.OTHER,\n",
    "    diary.ACT1_001.OTHER_SPECIFIED_INFORMATION_BY_COMPUTING: Activity.OTHER,\n",
    "    diary.ACT1_001.UNSPECIFIED_COMMUNICATION_BY_COMPUTER: Activity.OTHER,\n",
    "    diary.ACT1_001.COMMUNICATION_ON_THE_INTERNET: Activity.OTHER,\n",
    "    diary.ACT1_001.OTHER_SPECIFIED_COMMUNICATION_BY_COMPUTING: Activity.OTHER,\n",
    "    diary.ACT1_001.UNSPECIFIED_OTHER_COMPUTING: Activity.OTHER,\n",
    "    diary.ACT1_001.UNSPECIFIED_INTERNET_USE: Activity.OTHER,\n",
    "    diary.ACT1_001.OTHER_SPECIFIED_COMPUTING: Activity.OTHER,\n",
    "    diary.ACT1_001.CORRESPONDENCE: Activity.OTHER,\n",
    "    diary.ACT1_001.OTHER_SPECIFIED_HOBBIES: Activity.OTHER,\n",
    "    diary.ACT1_001.UNSPECIFIED_GAMES: Activity.OTHER,\n",
    "    diary.ACT1_001.SOLO_GAMES_AND_PLAY: Activity.OTHER,\n",
    "    diary.ACT1_001.UNSPECIFIED_GAMES_AND_PLAY_WITH_OTHERS: Activity.OTHER,\n",
    "    diary.ACT1_001.BILLIARDS__POOL__SNOOKER_OR_PETANQUE: Activity.OTHER,\n",
    "    diary.ACT1_001.CHESS_AND_BRIDGE: Activity.OTHER,\n",
    "    diary.ACT1_001.OTHER_SPECIFIED_PARLOUR_GAMES_AND_PLAY: Activity.OTHER,\n",
    "    diary.ACT1_001.COMPUTER_GAMES: Activity.OTHER,\n",
    "    diary.ACT1_001.GAMBLING: Activity.OTHER,\n",
    "    diary.ACT1_001.OTHER_SPECIFIED_GAMES: Activity.OTHER,\n",
    "    diary.ACT1_001.UNSPECIFIED_MASS_MEDIA: Activity.OTHER,\n",
    "    diary.ACT1_001.UNSPECIFIED_READING: Activity.OTHER,\n",
    "    diary.ACT1_001.READING_PERIODICALS: Activity.OTHER,\n",
    "    diary.ACT1_001.READING_BOOKS: Activity.OTHER,\n",
    "    diary.ACT1_001.OTHER_SPECIFIED_READING: Activity.OTHER,\n",
    "    diary.ACT1_001.UNSPECIFIED_TV_WATCHING: Activity.OTHER,\n",
    "    diary.ACT1_001.WATCHING_A_FILM_ON_TV: Activity.OTHER,\n",
    "    diary.ACT1_001.WATCHING_SPORT_ON_TV: Activity.OTHER,\n",
    "    diary.ACT1_001.OTHER_SPECIFIED_TV_WATCHING: Activity.OTHER,\n",
    "    diary.ACT1_001.UNSPECIFIED_VIDEO_WATCHING: Activity.OTHER,\n",
    "    diary.ACT1_001.WATCHING_A_FILM_ON_VIDEO: Activity.OTHER,\n",
    "    diary.ACT1_001.WATCHING_SPORT_ON_VIDEO: Activity.OTHER,\n",
    "    diary.ACT1_001.OTHER_SPECIFIED_VIDEO_WATCHING: Activity.OTHER,\n",
    "    diary.ACT1_001.UNSPECIFIED_LISTENING_TO_RADIO_AND_MUSIC: Activity.OTHER,\n",
    "    diary.ACT1_001.UNSPECIFIED_RADIO_LISTENING: Activity.OTHER,\n",
    "    diary.ACT1_001.LISTENING_TO_MUSIC_ON_THE_RADIO: Activity.OTHER,\n",
    "    diary.ACT1_001.LISTENING_TO_SPORT_ON_THE_RADIO: Activity.OTHER,\n",
    "    diary.ACT1_001.OTHER_SPECIFIED_RADIO_LISTENING: Activity.OTHER,\n",
    "    diary.ACT1_001.LISTENING_TO_RECORDINGS: Activity.OTHER,\n",
    "    diary.ACT1_001.TRAVEL_RELATED_TO_UNSPECIFIED_TIME_USE: Activity.OTHER,\n",
    "    diary.ACT1_001.TRAVEL_RELATED_TO_PERSONAL_BUSINESS: Activity.OTHER,\n",
    "    diary.ACT1_001.TRAVEL_IN_THE_COURSE_OF_WORK: Activity.OTHER,\n",
    "    diary.ACT1_001.TRAVEL_TO_WORK_FROM_HOME_AND_BACK_ONLY: Activity.OTHER,\n",
    "    diary.ACT1_001.TRAVEL_TO_WORK_FROM_A_PLACE_OTHER_THAN_HOME: Activity.OTHER,\n",
    "    diary.ACT1_001.TRAVEL_RELATED_TO_EDUCATION: Activity.OTHER,\n",
    "    diary.ACT1_001.TRAVEL_ESCORTING_TO_FROM_EDUCATION: Activity.OTHER,\n",
    "    diary.ACT1_001.TRAVEL_RELATED_TO_HOUSEHOLD_CARE: Activity.OTHER,\n",
    "    diary.ACT1_001.TRAVEL_RELATED_TO_SHOPPING: Activity.OTHER,\n",
    "    diary.ACT1_001.TRAVEL_RELATED_TO_SERVICES: Activity.OTHER,\n",
    "    diary.ACT1_001.TRAVEL_ESCORTING_A_CHILD_OTHER_THAN_EDUCATION: Activity.OTHER,\n",
    "    diary.ACT1_001.TRAVEL_ESCORTING_AN_ADULT_OTHER_THAN_EDUCATION: Activity.OTHER,\n",
    "    diary.ACT1_001.TRAVEL_RELATED_TO_ORGANISATIONAL_WORK: Activity.OTHER,\n",
    "    diary.ACT1_001.TRAVEL_RELATED_TO_INFORMAL_HELP_TO_OTHER_HOUSEHOLDS: Activity.OTHER,\n",
    "    diary.ACT1_001.TRAVEL_RELATED_TO_RELIGIOUS_ACTIVITIES: Activity.OTHER,\n",
    "    diary.ACT1_001.TRAVEL_RLT_TO_PARTICIPATORY_ACTV_EXCEPT_REL_ACTV: Activity.OTHER,\n",
    "    diary.ACT1_001.TRAVEL_TO_VISIT_FRIENDS_RELATIVES_IN_THEIR_HOMES: Activity.OTHER,\n",
    "    diary.ACT1_001.TRAVEL_RELATED_TO_OTHER_SOCIAL_ACTIVITIES: Activity.OTHER,\n",
    "    diary.ACT1_001.TRAVEL_RELATED_TO_ENTERTAINMENT_AND_CULTURE: Activity.OTHER,\n",
    "    diary.ACT1_001.TRAVEL_RELATED_TO_PHYSICAL_EXERCISE: Activity.OTHER,\n",
    "    diary.ACT1_001.TRAVEL_RELATED_TO_HUNTING_AND_FISHING: Activity.OTHER,\n",
    "    diary.ACT1_001.TRAVEL_RELATED_TO_PRODUCTIVE_EXCS_EXPT_HUNTING_AND_FISHING: Activity.OTHER,\n",
    "    diary.ACT1_001.TRAVEL_RELATED_TO_GAMBLING: Activity.OTHER,\n",
    "    diary.ACT1_001.TRAVEL_RELATED_TO_HOBBIES_OTHER_THAN_GAMBLING: Activity.OTHER,\n",
    "    diary.ACT1_001.TRAVEL_TO_HOLIDAY_BASE: Activity.OTHER,\n",
    "    diary.ACT1_001.TRAVEL_FOR_DAY_TRIP_JUST_WALK: Activity.OTHER,\n",
    "    diary.ACT1_001.OTHER_SPECIFIED_TRAVEL: Activity.OTHER,\n",
    "    diary.ACT1_001.PUNCTUATING_ACTIVITY: Activity.OTHER,\n",
    "    diary.ACT1_001.FILLING_IN_THE_TIME_USE_DIARY: Activity.OTHER,\n",
    "    diary.ACT1_001.NO_MAIN_ACTIVITY__NO_IDEA_WHAT_IT_MIGHT_BE: Activity.UNKNOWN,\n",
    "    diary.ACT1_001.NO_MAIN_ACTIVITY__SOME_IDEA_WHAT_IT_MIGHT_BE: Activity.UNKNOWN,\n",
    "    diary.ACT1_001.ILLEGIBLE_ACTIVITY: Activity.UNKNOWN,\n",
    "    diary.ACT1_001.UNSPECIFIED_TIME_USE: Activity.UNKNOWN,\n",
    "    diary.ACT1_001.MISSING1: Activity.UNKNOWN\n",
    "}"
   ]
  },
  {
   "cell_type": "code",
   "execution_count": null,
   "metadata": {
    "collapsed": false
   },
   "outputs": [],
   "source": [
    "simple_ac_loc = ac_loc[['location', 'activity']].applymap(lambda val: location_map[val] if isinstance(val, diary.WHER_001) else activity_map[val])\n",
    "simple_ac_loc['activity'] = simple_ac_loc['activity'].astype('category', categories=[ac for ac in Activity])\n",
    "simple_ac_loc['location'] = simple_ac_loc['location'].astype('category', categories=[loc for loc in Location])"
   ]
  },
  {
   "cell_type": "code",
   "execution_count": null,
   "metadata": {
    "collapsed": false
   },
   "outputs": [],
   "source": [
    "simple_ac_loc.head()"
   ]
  },
  {
   "cell_type": "markdown",
   "metadata": {},
   "source": [
    "## Define Markov States"
   ]
  },
  {
   "cell_type": "code",
   "execution_count": null,
   "metadata": {
    "collapsed": false
   },
   "outputs": [],
   "source": [
    "class SimpleMarkov(Enum):\n",
    "    HOME = 1\n",
    "    SLEEP_AT_HOME = 2\n",
    "    OTHER_HOME = 3\n",
    "    WORK_OR_SCHOOL = 4\n",
    "    RESTO = 5\n",
    "    SPORTS_FACILITY = 6\n",
    "    ARTS_OR_CULTURAL_CENTRE = 7\n",
    "    OUTSIDE = 8\n",
    "    TRAVELLING = 9"
   ]
  },
  {
   "cell_type": "code",
   "execution_count": null,
   "metadata": {
    "collapsed": false
   },
   "outputs": [],
   "source": [
    "markov_states = pd.Series(index=ac_loc.index, dtype='category')\n",
    "markov_states.cat.add_categories([state for state in SimpleMarkov], inplace=True)"
   ]
  },
  {
   "cell_type": "code",
   "execution_count": null,
   "metadata": {
    "collapsed": false
   },
   "outputs": [],
   "source": [
    "mask_home = simple_ac_loc.location == Location.HOME\n",
    "mask_sleep = simple_ac_loc.activity == Activity.SLEEP\n",
    "mask_other_home = simple_ac_loc.location == Location.OTHER_HOME\n",
    "mask_work = (simple_ac_loc.location == Location.WORK_OR_SCHOOL) | (simple_ac_loc.activity == Activity.WORK_OR_STUDY)\n",
    "mask_resto = simple_ac_loc.location == Location.RESTO\n",
    "mask_sport = simple_ac_loc.location == Location.SPORTS_FACILITY\n",
    "mask_arts = simple_ac_loc.location == Location.ARTS_OR_CULTURAL_CENTRE\n",
    "mask_outside = simple_ac_loc.location == Location.OUTSIDE\n",
    "mask_travelling = simple_ac_loc.location == Location.TRAVELLING"
   ]
  },
  {
   "cell_type": "code",
   "execution_count": null,
   "metadata": {
    "collapsed": false
   },
   "outputs": [],
   "source": [
    "markov_states[mask_home] = SimpleMarkov.HOME\n",
    "markov_states[mask_sleep] = SimpleMarkov.SLEEP_AT_HOME\n",
    "markov_states[mask_other_home] = SimpleMarkov.OTHER_HOME\n",
    "markov_states[mask_outside] = SimpleMarkov.OUTSIDE\n",
    "markov_states[mask_resto] = SimpleMarkov.RESTO\n",
    "markov_states[mask_sport] = SimpleMarkov.SPORTS_FACILITY\n",
    "markov_states[mask_travelling] = SimpleMarkov.TRAVELLING\n",
    "markov_states[mask_work] = SimpleMarkov.WORK_OR_SCHOOL\n",
    "markov_states[mask_arts] = SimpleMarkov.ARTS_OR_CULTURAL_CENTRE"
   ]
  },
  {
   "cell_type": "code",
   "execution_count": null,
   "metadata": {
    "collapsed": false
   },
   "outputs": [],
   "source": [
    "markov_states.describe()"
   ]
  },
  {
   "cell_type": "code",
   "execution_count": null,
   "metadata": {
    "collapsed": false
   },
   "outputs": [],
   "source": [
    "len(markov_states)"
   ]
  },
  {
   "cell_type": "code",
   "execution_count": null,
   "metadata": {
    "collapsed": false
   },
   "outputs": [],
   "source": [
    "markov_states.groupby(by=markov_states).count().sort_values()"
   ]
  },
  {
   "cell_type": "markdown",
   "metadata": {},
   "source": [
    "### Example Days"
   ]
  },
  {
   "cell_type": "code",
   "execution_count": null,
   "metadata": {
    "collapsed": false
   },
   "outputs": [],
   "source": [
    "from itertools import groupby\n",
    "\n",
    "def day_overview(time_series, day_index):\n",
    "    day = time_series.loc[day_index]\n",
    "    activities = []\n",
    "    duration = []\n",
    "    for key, times in groupby(day.index, lambda time_index: day.loc[time_index]):\n",
    "        times = list(times)\n",
    "        hours = [index[0] for index in times]\n",
    "        minutes = [index[1] for index in times]\n",
    "        activities.append(key)\n",
    "        duration.append('From {:0>2}:{:0>2} till {:0>2}:{:0>2}'.format(hours[0], minutes[0], hours[-1], minutes[-1]))\n",
    "    print(pd.Series(index=activities, data=duration))"
   ]
  },
  {
   "cell_type": "markdown",
   "metadata": {},
   "source": [
    "#### (1, 227, 1, 2)"
   ]
  },
  {
   "cell_type": "code",
   "execution_count": null,
   "metadata": {
    "collapsed": false
   },
   "outputs": [],
   "source": [
    "record = (1, 227, 1, 2)"
   ]
  },
  {
   "cell_type": "code",
   "execution_count": null,
   "metadata": {
    "collapsed": false
   },
   "outputs": [],
   "source": [
    "day_overview(markov_states, record)"
   ]
  },
  {
   "cell_type": "markdown",
   "metadata": {},
   "source": [
    "It's akward that there seem to be two times episodes in which the person is travelling from home to home. Let's look at the original data."
   ]
  },
  {
   "cell_type": "code",
   "execution_count": null,
   "metadata": {
    "collapsed": false
   },
   "outputs": [],
   "source": [
    "day_overview(ac_loc.activity, (1, 227, 1, 2))"
   ]
  },
  {
   "cell_type": "code",
   "execution_count": null,
   "metadata": {
    "collapsed": false
   },
   "outputs": [],
   "source": [
    "day_overview(ac_loc.location, (1, 227, 1, 2))"
   ]
  },
  {
   "cell_type": "code",
   "execution_count": null,
   "metadata": {
    "collapsed": false
   },
   "outputs": [],
   "source": [
    "day_overview(ac_loc.secondary_activity, (1, 227, 1, 2))"
   ]
  },
  {
   "cell_type": "markdown",
   "metadata": {},
   "source": [
    "Looking at the original data, one can see that the mapping is correct. The person did not give destinations for the two shopping trips, but instead only states travelling during the time."
   ]
  },
  {
   "cell_type": "markdown",
   "metadata": {},
   "source": [
    "#### (1, 249, 3, 1)"
   ]
  },
  {
   "cell_type": "code",
   "execution_count": null,
   "metadata": {
    "collapsed": false
   },
   "outputs": [],
   "source": [
    "record = (1, 249, 3, 1)"
   ]
  },
  {
   "cell_type": "code",
   "execution_count": null,
   "metadata": {
    "collapsed": false
   },
   "outputs": [],
   "source": [
    "day_overview(markov_states, record)"
   ]
  },
  {
   "cell_type": "markdown",
   "metadata": {},
   "source": [
    "This is a straightforward record."
   ]
  },
  {
   "cell_type": "markdown",
   "metadata": {},
   "source": [
    "#### (8, 75, 1, 2)"
   ]
  },
  {
   "cell_type": "code",
   "execution_count": null,
   "metadata": {
    "collapsed": false
   },
   "outputs": [],
   "source": [
    "record = (8, 75, 1, 2)"
   ]
  },
  {
   "cell_type": "code",
   "execution_count": null,
   "metadata": {
    "collapsed": false
   },
   "outputs": [],
   "source": [
    "day_overview(markov_states, record)"
   ]
  },
  {
   "cell_type": "markdown",
   "metadata": {},
   "source": [
    "Two things are noteworthy here: \n",
    "\n",
    "* The repeating travels from home to home.\n",
    "* The NaNs."
   ]
  },
  {
   "cell_type": "code",
   "execution_count": null,
   "metadata": {
    "collapsed": false
   },
   "outputs": [],
   "source": [
    "day_overview(ac_loc.location, record)"
   ]
  },
  {
   "cell_type": "code",
   "execution_count": null,
   "metadata": {
    "collapsed": false
   },
   "outputs": [],
   "source": [
    "day_overview(ac_loc.activity, record)"
   ]
  },
  {
   "cell_type": "code",
   "execution_count": null,
   "metadata": {
    "collapsed": false
   },
   "outputs": [],
   "source": [
    "day_overview(ac_loc.secondary_activity, record)"
   ]
  },
  {
   "cell_type": "markdown",
   "metadata": {
    "collapsed": false
   },
   "source": [
    "Some conclusions:\n",
    "\n",
    "* shopping is not properly covered as there is no location for shopping\n",
    "* walks, and walking the dog aren't explicitely covered, but simply covered by a list of home/travel/home. Should be fine.\n",
    "* NaNs should be filtered out, if not able to solve."
   ]
  },
  {
   "cell_type": "markdown",
   "metadata": {},
   "source": [
    "## Filter"
   ]
  },
  {
   "cell_type": "code",
   "execution_count": null,
   "metadata": {
    "collapsed": false
   },
   "outputs": [],
   "source": [
    "filtered_participants = individual_data.copy()\n",
    "len(filtered_participants)"
   ]
  },
  {
   "cell_type": "markdown",
   "metadata": {},
   "source": [
    "###  Filter Participants that exist only in either one data set"
   ]
  },
  {
   "cell_type": "code",
   "execution_count": null,
   "metadata": {
    "collapsed": false
   },
   "outputs": [],
   "source": [
    "diary_particpants_index = pd.MultiIndex(labels=diary_data.index.labels[0:3],\n",
    "                                        levels=diary_data.index.levels[0:3],\n",
    "                                        names=['SN1', 'SN2', 'SN3'])"
   ]
  },
  {
   "cell_type": "code",
   "execution_count": null,
   "metadata": {
    "collapsed": false
   },
   "outputs": [],
   "source": [
    "participants_not_in_individual = diary_particpants_index.difference(individual_data.index)\n",
    "len(participants_not_in_individual)"
   ]
  },
  {
   "cell_type": "code",
   "execution_count": null,
   "metadata": {
    "collapsed": false
   },
   "outputs": [],
   "source": [
    "participants_not_in_diary = individual_data.index.difference(diary_particpants_index)\n",
    "len(participants_not_in_diary)"
   ]
  },
  {
   "cell_type": "code",
   "execution_count": null,
   "metadata": {
    "collapsed": false
   },
   "outputs": [],
   "source": [
    "filtered_participants = filtered_participants.reindex(filtered_participants.index.difference(participants_not_in_diary))\n",
    "assert len(filtered_participants) == 11664 - 1523"
   ]
  },
  {
   "cell_type": "markdown",
   "metadata": {},
   "source": [
    "### Filter  Participants with only one entry "
   ]
  },
  {
   "cell_type": "code",
   "execution_count": null,
   "metadata": {
    "collapsed": false
   },
   "outputs": [],
   "source": [
    "valid_mask = ac_loc.groupby([ac_loc.index.get_level_values(0), \n",
    "                             ac_loc.index.get_level_values(1), \n",
    "                             ac_loc.index.get_level_values(2)]).apply(lambda values: len(values) == 24 * 6 * 2)\n",
    "valid_mask = valid_mask.reindex(filtered_participants.index, fill_value=False)\n",
    "valid_mask.describe()"
   ]
  },
  {
   "cell_type": "code",
   "execution_count": null,
   "metadata": {
    "collapsed": false
   },
   "outputs": [],
   "source": [
    "10141 - 9997"
   ]
  },
  {
   "cell_type": "markdown",
   "metadata": {},
   "source": [
    "144 of remaining participants have only one entry and are filtered out."
   ]
  },
  {
   "cell_type": "code",
   "execution_count": null,
   "metadata": {
    "collapsed": false
   },
   "outputs": [],
   "source": [
    "filtered_participants = filtered_participants[valid_mask]\n",
    "assert len(filtered_participants) == 11664 - 1523 - 144"
   ]
  },
  {
   "cell_type": "markdown",
   "metadata": {},
   "source": [
    "### Filter NaNs"
   ]
  },
  {
   "cell_type": "code",
   "execution_count": null,
   "metadata": {
    "collapsed": false
   },
   "outputs": [],
   "source": [
    "nan_mask = markov_states.groupby(by=lambda index: (index[0], index[1], index[2])).apply(lambda values: values.isnull().any())\n",
    "nan_mask = nan_mask.reindex(filtered_participants.index, fill_value=True)\n",
    "nan_mask.describe()"
   ]
  },
  {
   "cell_type": "code",
   "execution_count": null,
   "metadata": {
    "collapsed": false
   },
   "outputs": [],
   "source": [
    "9997 - 8036"
   ]
  },
  {
   "cell_type": "markdown",
   "metadata": {},
   "source": [
    "8036 out of the remaining participants don't have two valid diaries."
   ]
  },
  {
   "cell_type": "code",
   "execution_count": null,
   "metadata": {
    "collapsed": false
   },
   "outputs": [],
   "source": [
    "filtered_participants = filtered_participants[~nan_mask]\n",
    "assert len(filtered_participants) == 11664 - 1523 - 144 - 8036"
   ]
  },
  {
   "cell_type": "markdown",
   "metadata": {},
   "source": [
    "### Filter Adults"
   ]
  },
  {
   "cell_type": "code",
   "execution_count": null,
   "metadata": {
    "collapsed": false
   },
   "outputs": [],
   "source": [
    "adult_mask = diary_data.groupby([diary_data.index.get_level_values(0), \n",
    "                                 diary_data.index.get_level_values(1), \n",
    "                                 diary_data.index.get_level_values(2)]).DTYPE.apply(lambda values: values[0] == diary.DTYPE.ADULT_DIARY)\n",
    "adult_mask = adult_mask.reindex(filtered_participants.index, fill_value=False)\n",
    "adult_mask.describe()"
   ]
  },
  {
   "cell_type": "code",
   "execution_count": null,
   "metadata": {
    "collapsed": false
   },
   "outputs": [],
   "source": [
    "1961 - 1767"
   ]
  },
  {
   "cell_type": "markdown",
   "metadata": {},
   "source": [
    "194 of the remaining participants are childrean and are filtered out."
   ]
  },
  {
   "cell_type": "code",
   "execution_count": null,
   "metadata": {
    "collapsed": false
   },
   "outputs": [],
   "source": [
    "filtered_participants = filtered_participants[adult_mask]\n",
    "assert len(filtered_participants) == 11664 - 1523 - 144 - 8036 - 194"
   ]
  },
  {
   "cell_type": "markdown",
   "metadata": {},
   "source": [
    "### Filter Working Population"
   ]
  },
  {
   "cell_type": "code",
   "execution_count": null,
   "metadata": {
    "collapsed": false
   },
   "outputs": [],
   "source": [
    "work_mask = filtered_participants.ECONACT == individual.ECONACT.ECON_ACTIVE___IN_EMPLOYMENT\n",
    "work_mask.describe()"
   ]
  },
  {
   "cell_type": "code",
   "execution_count": null,
   "metadata": {
    "collapsed": false
   },
   "outputs": [],
   "source": [
    "1767 - 928"
   ]
  },
  {
   "cell_type": "markdown",
   "metadata": {},
   "source": [
    "839 of the remaining participants don't have work and are filtered out."
   ]
  },
  {
   "cell_type": "code",
   "execution_count": null,
   "metadata": {
    "collapsed": false
   },
   "outputs": [],
   "source": [
    "filtered_participants = filtered_participants[work_mask]\n",
    "assert len(filtered_participants) == 11664 - 1523 - 144 - 8036 - 194 - 839"
   ]
  },
  {
   "cell_type": "markdown",
   "metadata": {},
   "source": [
    "### Filtered Markov States"
   ]
  },
  {
   "cell_type": "code",
   "execution_count": null,
   "metadata": {
    "collapsed": false
   },
   "outputs": [],
   "source": [
    "diary_data_index = pd.MultiIndex(labels=diary_data.index.labels[0:3], \n",
    "                                 levels=diary_data.index.levels[0:3], \n",
    "                                 names=['SN1', 'SN2', 'SN3']).drop_duplicates()"
   ]
  },
  {
   "cell_type": "code",
   "execution_count": null,
   "metadata": {
    "collapsed": false
   },
   "outputs": [],
   "source": [
    "markov_mask = pd.Series(True, index=filtered_participants.index).reindex(diary_data_index, fill_value=False)"
   ]
  },
  {
   "cell_type": "code",
   "execution_count": null,
   "metadata": {
    "collapsed": false
   },
   "outputs": [],
   "source": [
    "assert len(markov_mask[markov_mask == True]) == 928"
   ]
  },
  {
   "cell_type": "code",
   "execution_count": null,
   "metadata": {
    "collapsed": false
   },
   "outputs": [],
   "source": [
    "filtered_markov_states = markov_states[markov_mask.reindex(markov_states.index, method='ffill')]\n",
    "assert len(filtered_markov_states) == 928 * 2 * 24 * 6"
   ]
  },
  {
   "cell_type": "code",
   "execution_count": null,
   "metadata": {
    "collapsed": false
   },
   "outputs": [],
   "source": [
    "filtered_markov_states.head()"
   ]
  },
  {
   "cell_type": "markdown",
   "metadata": {},
   "source": [
    "### Filter Weekends\n",
    "Lastly, let's remove all weekend days to end up with only weekdays."
   ]
  },
  {
   "cell_type": "code",
   "execution_count": null,
   "metadata": {
    "collapsed": false
   },
   "outputs": [],
   "source": [
    "weekday_mask = diary_data.DDAYW2 == diary.DDAYW2.WEEKDAY_MON___FRI\n",
    "weekday_mask = weekday_mask.reindex(filtered_markov_states.index, method='ffill')\n",
    "weekday_mask.describe()"
   ]
  },
  {
   "cell_type": "code",
   "execution_count": null,
   "metadata": {
    "collapsed": false
   },
   "outputs": [],
   "source": [
    "filtered_markov_states = filtered_markov_states[weekday_mask]\n",
    "assert len(filtered_markov_states) == 928 * 24 * 6"
   ]
  },
  {
   "cell_type": "markdown",
   "metadata": {},
   "source": [
    "## Create Markov Chain"
   ]
  },
  {
   "cell_type": "code",
   "execution_count": null,
   "metadata": {
    "collapsed": false
   },
   "outputs": [],
   "source": [
    "import pykov\n",
    "from collections import OrderedDict"
   ]
  },
  {
   "cell_type": "code",
   "execution_count": null,
   "metadata": {
    "collapsed": false
   },
   "outputs": [],
   "source": [
    "markov_table = filtered_markov_states.unstack(level=[0, 1, 2, 3])\n",
    "markov_table.head()"
   ]
  },
  {
   "cell_type": "code",
   "execution_count": null,
   "metadata": {
    "collapsed": false
   },
   "outputs": [],
   "source": [
    "def markov_chain(hour, minute, markov_table):\n",
    "    chain_elements = [((current_state, next_state), probability(current_state, next_state, hour, minute, markov_table)) \n",
    "                      for current_state in SimpleMarkov \n",
    "                      for next_state in SimpleMarkov]\n",
    "    return pykov.Chain(OrderedDict(chain_elements))\n",
    "            \n",
    "def probability(current_state, next_state, hour, minute, markov_table):\n",
    "    current_vector = markov_table.ix[hour].ix[minute]\n",
    "    if current_state in current_vector.unique():\n",
    "        next_hour, next_minute = next_time_stamp(hour, minute)\n",
    "        next_vector = markov_table.ix[next_hour].ix[next_minute]\n",
    "        next_instances = len(next_vector[(current_vector == current_state) & \n",
    "                                         (next_vector == next_state)])\n",
    "        current_instances = len(current_vector[current_vector == current_state])\n",
    "        return next_instances / current_instances\n",
    "    else:\n",
    "        return 0\n",
    "    \n",
    "def next_time_stamp(hour, minute):\n",
    "    if minute == 50:\n",
    "        return hour + 1, 0\n",
    "    else:\n",
    "        return hour, minute + 10"
   ]
  },
  {
   "cell_type": "code",
   "execution_count": null,
   "metadata": {
    "collapsed": false
   },
   "outputs": [],
   "source": [
    "def chain_repr(self):\n",
    "    lines = []\n",
    "    lines.append('<table>')\n",
    "    lines.append('    <tr>')\n",
    "    lines.append('        <th>From</th>')\n",
    "    lines.append('        <th>To</th>')\n",
    "    lines.append('        <th>Probability</th>')\n",
    "    lines.append('    </tr>')\n",
    "    for element in self:\n",
    "        lines.append('    <tr>')\n",
    "        lines.append('        <td>{}</td>'.format(element[0]))\n",
    "        lines.append('        <td>{}</td>'.format(element[1]))\n",
    "        lines.append('        <td>{}</td>'.format(self[element]))\n",
    "        lines.append('    </tr>')\n",
    "    lines.append('</table>')\n",
    "    lines = [line + '\\n' for line in lines]\n",
    "    return ''.join(lines)"
   ]
  },
  {
   "cell_type": "code",
   "execution_count": null,
   "metadata": {
    "collapsed": false
   },
   "outputs": [],
   "source": [
    "pykov.Chain._repr_html_ = chain_repr"
   ]
  },
  {
   "cell_type": "code",
   "execution_count": null,
   "metadata": {
    "collapsed": false
   },
   "outputs": [],
   "source": [
    "markov_chain(0, 0, markov_table)"
   ]
  },
  {
   "cell_type": "code",
   "execution_count": null,
   "metadata": {
    "collapsed": false
   },
   "outputs": [],
   "source": [
    "markov_chain(14, 0, markov_table)"
   ]
  }
 ],
 "metadata": {
  "anaconda-cloud": {},
  "kernelspec": {
   "display_name": "Python [conda env:dev]",
   "language": "python",
   "name": "conda-env-dev-py"
  },
  "language_info": {
   "codemirror_mode": {
    "name": "ipython",
    "version": 3
   },
   "file_extension": ".py",
   "mimetype": "text/x-python",
   "name": "python",
   "nbconvert_exporter": "python",
   "pygments_lexer": "ipython3",
   "version": "3.5.2"
  }
 },
 "nbformat": 4,
 "nbformat_minor": 2
}
