{
 "cells": [
  {
   "cell_type": "code",
   "execution_count": null,
   "metadata": {},
   "outputs": [],
   "source": [
    "from pathlib import Path\n",
    "from datetime import datetime, timedelta\n",
    "import tempfile\n",
    "import zipfile\n",
    "import io\n",
    "\n",
    "import pandas as pd\n",
    "import sqlalchemy\n",
    "import requests_cache\n",
    "import requests\n",
    "import geopandas as gpd\n",
    "\n",
    "import matplotlib.pyplot as plt\n",
    "import seaborn as sns\n",
    "sns.set_context(\"notebook\", font_scale=1.25, rc={\"lines.linewidth\": 2.5})\n",
    "%matplotlib inline"
   ]
  },
  {
   "cell_type": "code",
   "execution_count": null,
   "metadata": {},
   "outputs": [],
   "source": [
    "PATH_TO_RESULT_FILE = Path('./build/haringey-scenario-lsoa-results.db').absolute()\n",
    "\n",
    "LONDON_BOUNDARY_FILE_URL = 'https://files.datapress.com/london/dataset/statistical-gis-boundary-files-london/2016-10-03T13:52:28/statistical-gis-boundaries-london.zip'\n",
    "LSOA_SHAPE_FILE_PATH = Path('./statistical-gis-boundaries-london/ESRI/LSOA_2011_London_gen_MHW.shp')\n",
    "BUILD_FOLDER = Path('./build')\n",
    "BUILD_FOLDER.mkdir(parents=True, exist_ok=True)"
   ]
  },
  {
   "cell_type": "code",
   "execution_count": null,
   "metadata": {},
   "outputs": [],
   "source": [
    "disk_engine = sqlalchemy.create_engine('sqlite:///{}'.format(PATH_TO_RESULT_FILE))\n",
    "requests_cache.install_cache((BUILD_FOLDER / 'cache').as_posix())"
   ]
  },
  {
   "cell_type": "code",
   "execution_count": null,
   "metadata": {},
   "outputs": [],
   "source": [
    "def timedelta_from_iso_string(timedelta_as_string):\n",
    "    t = datetime.strptime(timedelta_as_string,\"PT%MM%SS\")\n",
    "    return timedelta(hours=t.hour, minutes=t.minute, seconds=t.second)\n",
    "\n",
    "assert timedelta_from_iso_string('PT19M43S') == timedelta(minutes=19) + timedelta(seconds=43)"
   ]
  },
  {
   "cell_type": "markdown",
   "metadata": {},
   "source": [
    "## Read Metadata"
   ]
  },
  {
   "cell_type": "code",
   "execution_count": null,
   "metadata": {},
   "outputs": [],
   "source": [
    "metadata = pd.read_sql_query('SELECT * FROM metadata', disk_engine, index_col='key', parse_dates=True)"
   ]
  },
  {
   "cell_type": "code",
   "execution_count": null,
   "metadata": {},
   "outputs": [],
   "source": [
    "metadata"
   ]
  },
  {
   "cell_type": "code",
   "execution_count": null,
   "metadata": {},
   "outputs": [],
   "source": [
    "metadata = dict(zip(metadata.index, [value[0] for value in metadata.values]))"
   ]
  },
  {
   "cell_type": "code",
   "execution_count": null,
   "metadata": {},
   "outputs": [],
   "source": [
    "simulation_duration = timedelta_from_iso_string(metadata['durationOfSimulation'])"
   ]
  },
  {
   "cell_type": "markdown",
   "metadata": {},
   "source": [
    "## Dwellings"
   ]
  },
  {
   "cell_type": "code",
   "execution_count": null,
   "metadata": {},
   "outputs": [],
   "source": [
    "dwellings = pd.read_sql_query('SELECT * FROM dwellings', disk_engine, index_col='index')"
   ]
  },
  {
   "cell_type": "code",
   "execution_count": null,
   "metadata": {},
   "outputs": [],
   "source": [
    "dwellings.head()"
   ]
  },
  {
   "cell_type": "markdown",
   "metadata": {},
   "source": [
    "## People"
   ]
  },
  {
   "cell_type": "code",
   "execution_count": null,
   "metadata": {},
   "outputs": [],
   "source": [
    "people = pd.read_sql_query('SELECT * FROM people', disk_engine, index_col='index')\n",
    "people.head()"
   ]
  },
  {
   "cell_type": "code",
   "execution_count": null,
   "metadata": {},
   "outputs": [],
   "source": [
    "dwellings['householdSize'] = people.groupby('dwellingId').size()"
   ]
  },
  {
   "cell_type": "markdown",
   "metadata": {},
   "source": [
    "## Thermal Power"
   ]
  },
  {
   "cell_type": "code",
   "execution_count": null,
   "metadata": {},
   "outputs": [],
   "source": [
    "thermal_power = pd.read_sql_query('SELECT * FROM thermalPower', disk_engine, index_col='timestamp', parse_dates=True)\n",
    "thermal_power.index = pd.to_datetime(thermal_power.index * 1000 * 1000)\n",
    "thermal_power.index.name = 'datetime'\n",
    "thermal_power = thermal_power.pivot(columns='id')\n",
    "thermal_power.columns = thermal_power.columns.droplevel(0)\n",
    "thermal_power.name = 'thermal power'"
   ]
  },
  {
   "cell_type": "code",
   "execution_count": null,
   "metadata": {},
   "outputs": [],
   "source": [
    "dwellings['average_power'] = thermal_power.mean()"
   ]
  },
  {
   "cell_type": "code",
   "execution_count": null,
   "metadata": {},
   "outputs": [],
   "source": [
    "ax = thermal_power\\\n",
    "    .groupby(axis=1, by=lambda id: dwellings.loc[id, 'region'])\\\n",
    "    .mean()['2005-01-01']\\\n",
    "    .plot(figsize=(14, 7), legend=None)\n",
    "_ = plt.ylabel('average thermal power per household [W]')\n",
    "_ = plt.title('Average of thermal power per household in different LSOA')\n",
    "fig = ax.get_figure()\n",
    "fig.savefig((BUILD_FOLDER / 'thermal_power_per_lsoa.png').as_posix())"
   ]
  },
  {
   "cell_type": "code",
   "execution_count": null,
   "metadata": {},
   "outputs": [],
   "source": [
    "r = requests.get(LONDON_BOUNDARY_FILE_URL)\n",
    "z = zipfile.ZipFile(io.BytesIO(r.content))\n",
    "with tempfile.TemporaryDirectory(prefix='london-boundary-files') as tmpdir:\n",
    "    z.extractall(path=tmpdir)\n",
    "    lsoa_file = Path(tmpdir) / LSOA_SHAPE_FILE_PATH\n",
    "    lsoa_data = gpd.read_file(lsoa_file.as_posix())\n",
    "lsoa_data = lsoa_data[lsoa_data.LAD11NM == 'Haringey']"
   ]
  },
  {
   "cell_type": "code",
   "execution_count": null,
   "metadata": {},
   "outputs": [],
   "source": [
    "lsoa_data.head()"
   ]
  },
  {
   "cell_type": "code",
   "execution_count": null,
   "metadata": {},
   "outputs": [],
   "source": [
    "import geopandasplotting as gpdplt"
   ]
  },
  {
   "cell_type": "code",
   "execution_count": null,
   "metadata": {},
   "outputs": [],
   "source": [
    "ax = gpdplt.plot_dataframe(\n",
    "    lsoa_data.join(dwellings.groupby('region').average_power.mean(), on='LSOA11CD'),\n",
    "    column='average_power',\n",
    "    categorical=False, \n",
    "    linewidth=0.2, \n",
    "    legend=True,\n",
    "    figsize=(14, 7),\n",
    "    cmap='viridis'\n",
    ")\n",
    "_ = plt.title(\"Average Thermal Power per Household in different LSOAs [W]\")\n",
    "_ = plt.xticks([])\n",
    "_ = plt.yticks([])\n",
    "fig = ax.get_figure()\n",
    "fig.savefig((BUILD_FOLDER / 'thermal_power_lsoa_choropleth.png').as_posix())"
   ]
  },
  {
   "cell_type": "code",
   "execution_count": null,
   "metadata": {},
   "outputs": [],
   "source": [
    "max_power_lsoa = dwellings.groupby('region').average_power.mean().max()\n",
    "min_power_lsoa = dwellings.groupby('region').average_power.mean().min()\n",
    "print(max_power_lsoa/min_power_lsoa)"
   ]
  },
  {
   "cell_type": "markdown",
   "metadata": {},
   "source": [
    "There is a range of roughly 8% difference between the lsoa with the highest energy consumption and the lsoa with the lowest energy consumption."
   ]
  },
  {
   "cell_type": "code",
   "execution_count": null,
   "metadata": {},
   "outputs": [],
   "source": [
    "fig = plt.figure(figsize=(7, 7))\n",
    "sns.violinplot(data=dwellings.groupby('region').average_power.mean(), jitter=True)\n",
    "_ = plt.ylabel('average thermal power per household [W]')\n",
    "_ = plt.xticks([])\n",
    "_ = plt.title(\"Distribution of average thermal power per household among LSOAs\")\n",
    "fig.savefig((BUILD_FOLDER / \"distributation-average-power.png\").as_posix())"
   ]
  },
  {
   "cell_type": "code",
   "execution_count": null,
   "metadata": {},
   "outputs": [],
   "source": [
    "fig = plt.figure(figsize=(14, 7))\n",
    "sns.boxplot(data=dwellings, x='householdSize', y='average_power')\n",
    "_ = plt.ylabel(\"average thermal power per household [W]\")\n",
    "_ = plt.xlabel(\"household size\")\n",
    "_ = plt.title(\"Average thermal power per household for different household sizes\")\n",
    "fig.savefig((BUILD_FOLDER / \"thermal-power-vs-household-size.png\").as_posix())"
   ]
  },
  {
   "cell_type": "code",
   "execution_count": null,
   "metadata": {},
   "outputs": [],
   "source": []
  }
 ],
 "metadata": {
  "anaconda-cloud": {},
  "kernelspec": {
   "display_name": "Python [conda env:ktp-paper]",
   "language": "python",
   "name": "conda-env-ktp-paper-py"
  },
  "language_info": {
   "codemirror_mode": {
    "name": "ipython",
    "version": 3
   },
   "file_extension": ".py",
   "mimetype": "text/x-python",
   "name": "python",
   "nbconvert_exporter": "python",
   "pygments_lexer": "ipython3",
   "version": "3.6.0"
  }
 },
 "nbformat": 4,
 "nbformat_minor": 2
}
