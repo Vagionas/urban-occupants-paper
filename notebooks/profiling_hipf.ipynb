{
 "cells": [
  {
   "cell_type": "code",
   "execution_count": null,
   "metadata": {},
   "outputs": [],
   "source": [
    "import os\n",
    "import sys\n",
    "import itertools\n",
    "from collections import namedtuple\n",
    "module_path = os.path.abspath(os.path.join('../'))\n",
    "if module_path not in sys.path:\n",
    "    sys.path.append(module_path)\n",
    "    \n",
    "import pandas as pd\n",
    "import numpy as np"
   ]
  },
  {
   "cell_type": "code",
   "execution_count": null,
   "metadata": {},
   "outputs": [],
   "source": [
    "from ktp.synthpop import fit_hipf"
   ]
  },
  {
   "cell_type": "code",
   "execution_count": null,
   "metadata": {},
   "outputs": [],
   "source": [
    "HouseholdType = namedtuple('HouseholdType', ['household_ids', 'a', 'alpha', 'weights'])\n",
    "\n",
    "\n",
    "def household_types():\n",
    "    household_types = []\n",
    "    household_types.append(HouseholdType(\n",
    "        household_ids=range(1, 23),\n",
    "        a=True,\n",
    "        alpha=[True, False, False],\n",
    "        weights=[1.33, 1.28, 1.18]\n",
    "    ))\n",
    "    household_types.append(HouseholdType(\n",
    "        household_ids=range(23, 44),\n",
    "        a=True,\n",
    "        alpha=[True, False],\n",
    "        weights=[1.61, 1.61, 1.50]\n",
    "    ))\n",
    "    household_types.append(HouseholdType(\n",
    "        household_ids=range(44, 65),\n",
    "        a=True,\n",
    "        alpha=[False, False, False],\n",
    "        weights=[0.92, 0.75, 0.54]\n",
    "    ))\n",
    "    household_types.append(HouseholdType(\n",
    "        household_ids=range(65, 81),\n",
    "        a=False,\n",
    "        alpha=[False, False],\n",
    "        weights=[0.45, 0.38, 0.28]\n",
    "    ))\n",
    "    household_types.append(HouseholdType(\n",
    "        household_ids=range(81, 97),\n",
    "        a=False,\n",
    "        alpha=[True, False, False],\n",
    "        weights=[0.62, 0.66, 0.68]\n",
    "    ))\n",
    "    household_types.append(HouseholdType(\n",
    "        household_ids=range(97, 109),\n",
    "        a=False,\n",
    "        alpha=[False],\n",
    "        weights=[0.48, 0.38, 0.26]\n",
    "    ))\n",
    "    household_types.append(HouseholdType(\n",
    "        household_ids=range(109, 120),\n",
    "        a=True,\n",
    "        alpha=[False, False],\n",
    "        weights=[0.97, 0.75, 0.49]\n",
    "    ))\n",
    "    household_types.append(HouseholdType(\n",
    "        household_ids=range(120, 129),\n",
    "        a=True,\n",
    "        alpha=[False],\n",
    "        weights=[1.01, 0.75, 0.45]\n",
    "    ))\n",
    "    household_types.append(HouseholdType(\n",
    "        household_ids=range(129, 137),\n",
    "        a=False,\n",
    "        alpha=[True, True, False],\n",
    "        weights=[0.82, 1.00, 1.30]\n",
    "    ))\n",
    "    household_types.append(HouseholdType(\n",
    "        household_ids=range(137, 145),\n",
    "        a=True,\n",
    "        alpha=[True, True, False],\n",
    "        weights=[1.73, 1.95, 2.24]\n",
    "    ))\n",
    "    household_types.append(HouseholdType(\n",
    "        household_ids=range(145, 152),\n",
    "        a=False,\n",
    "        alpha=[True, False],\n",
    "        weights=[0.75, 0.82, 0.87]\n",
    "    ))\n",
    "    household_types.append(HouseholdType(\n",
    "        household_ids=range(152, 159),\n",
    "        a=False,\n",
    "        alpha=[False, False, False],\n",
    "        weights=[0.43, 0.38, 0.31]\n",
    "    ))\n",
    "    household_types.append(HouseholdType(\n",
    "        household_ids=range(159, 165),\n",
    "        a=True,\n",
    "        alpha=[True],\n",
    "        weights=[2.35, 2.76, 3.27]\n",
    "    ))\n",
    "    household_types.append(HouseholdType(\n",
    "        household_ids=range(165, 171),\n",
    "        a=True,\n",
    "        alpha=[True, True],\n",
    "        weights=[2.25, 2.75, 3.58]\n",
    "    ))\n",
    "    household_types.append(HouseholdType(\n",
    "        household_ids=range(171, 174),\n",
    "        a=False,\n",
    "        alpha=[True],\n",
    "        weights=[1.11, 1.41, 1.89]\n",
    "    ))\n",
    "    household_types.append(HouseholdType(\n",
    "        household_ids=range(174, 176),\n",
    "        a=True,\n",
    "        alpha=[True, True, True],\n",
    "        weights=[2.14, 2.74, 3.92]\n",
    "    ))\n",
    "    household_types.append(HouseholdType(\n",
    "        household_ids=range(176, 177),\n",
    "        a=False,\n",
    "        alpha=[True, True],\n",
    "        weights=[1.06, 1.40, 2.07]\n",
    "    ))\n",
    "    return household_types\n",
    "\n",
    "\n",
    "def reference_sample(household_types):\n",
    "    id_tuples = itertools.chain(*(itertools.product(ht.household_ids, range(1, len(ht.alpha) + 1))\n",
    "                                  for ht in household_types))\n",
    "    index = pd.MultiIndex.from_tuples(list(id_tuples), names=['household_id', 'person_id'])\n",
    "    ref_sample = pd.DataFrame(index=index, columns=['a', 'alpha'])\n",
    "    for ht in household_types:\n",
    "        ref_sample.ix[ht.household_ids[0]: ht.household_ids[-1], 'a'] = ht.a\n",
    "        for p, alpha in enumerate(ht.alpha):\n",
    "            ref_sample.loc[\n",
    "                (slice(ht.household_ids[0], ht.household_ids[-1]), p + 1),\n",
    "                'alpha'\n",
    "            ] = alpha\n",
    "    return ref_sample"
   ]
  },
  {
   "cell_type": "code",
   "execution_count": null,
   "metadata": {},
   "outputs": [],
   "source": [
    "ref_sample = reference_sample(household_types())"
   ]
  },
  {
   "cell_type": "code",
   "execution_count": null,
   "metadata": {},
   "outputs": [],
   "source": [
    "%%timeit\n",
    "weights = fit_hipf(\n",
    "        reference_sample=ref_sample,\n",
    "        controls_individuals={'alpha': {True: 227, False: 207}},\n",
    "        controls_households={'a': {True: 145, False: 45}},\n",
    "        maxiter=1\n",
    ")"
   ]
  },
  {
   "cell_type": "code",
   "execution_count": null,
   "metadata": {},
   "outputs": [],
   "source": [
    "80/1570"
   ]
  },
  {
   "cell_type": "code",
   "execution_count": null,
   "metadata": {},
   "outputs": [],
   "source": [
    "1570/80"
   ]
  },
  {
   "cell_type": "code",
   "execution_count": null,
   "metadata": {},
   "outputs": [],
   "source": [
    "72/23"
   ]
  },
  {
   "cell_type": "code",
   "execution_count": null,
   "metadata": {},
   "outputs": [],
   "source": [
    "1570/23"
   ]
  },
  {
   "cell_type": "code",
   "execution_count": null,
   "metadata": {},
   "outputs": [],
   "source": [
    "pd.Series([['a', 'b'], ['c', 'd', 'e']] * 2)"
   ]
  },
  {
   "cell_type": "code",
   "execution_count": null,
   "metadata": {},
   "outputs": [],
   "source": [
    "from functools import reduce\n",
    "from itertools import chain\n",
    "\n",
    "categories = pd.Series([['a', 'b'], ['c', 'd', 'e']] * 1000)\n",
    "\n",
    "%timeit list(chain.from_iterable(categories.values))"
   ]
  },
  {
   "cell_type": "code",
   "execution_count": null,
   "metadata": {},
   "outputs": [],
   "source": [
    "list(chain.from_iterable(categories.values))"
   ]
  },
  {
   "cell_type": "code",
   "execution_count": null,
   "metadata": {},
   "outputs": [],
   "source": [
    "\n",
    "sum([pd.Series([0, 1, 2]), pd.Series([0, 1, 2])])"
   ]
  },
  {
   "cell_type": "code",
   "execution_count": null,
   "metadata": {},
   "outputs": [],
   "source": [
    "from functools import reduce"
   ]
  },
  {
   "cell_type": "code",
   "execution_count": null,
   "metadata": {},
   "outputs": [],
   "source": [
    "reduce(lambda x, y: x == y, [2, 2, 2, 2], True)"
   ]
  },
  {
   "cell_type": "code",
   "execution_count": null,
   "metadata": {},
   "outputs": [],
   "source": [
    "reduce?"
   ]
  },
  {
   "cell_type": "code",
   "execution_count": null,
   "metadata": {},
   "outputs": [],
   "source": []
  },
  {
   "cell_type": "code",
   "execution_count": null,
   "metadata": {},
   "outputs": [],
   "source": [
    "len(ref_sample.index.levels)"
   ]
  },
  {
   "cell_type": "code",
   "execution_count": null,
   "metadata": {},
   "outputs": [],
   "source": []
  }
 ],
 "metadata": {
  "anaconda-cloud": {},
  "kernelspec": {
   "display_name": "Python [conda env:dev]",
   "language": "python",
   "name": "conda-env-dev-py"
  },
  "language_info": {
   "codemirror_mode": {
    "name": "ipython",
    "version": 3
   },
   "file_extension": ".py",
   "mimetype": "text/x-python",
   "name": "python",
   "nbconvert_exporter": "python",
   "pygments_lexer": "ipython3",
   "version": "3.6.0"
  }
 },
 "nbformat": 4,
 "nbformat_minor": 2
}
