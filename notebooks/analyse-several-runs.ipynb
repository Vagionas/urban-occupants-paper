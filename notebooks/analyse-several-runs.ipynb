{
 "cells": [
  {
   "cell_type": "markdown",
   "metadata": {},
   "source": [
    "# Analysis of several Haringey simulation"
   ]
  },
  {
   "cell_type": "code",
   "execution_count": null,
   "metadata": {},
   "outputs": [],
   "source": [
    "import os\n",
    "import sys\n",
    "from pathlib import Path\n",
    "import math\n",
    "\n",
    "import numpy as np\n",
    "import pandas as pd\n",
    "import sqlalchemy\n",
    "import pytz\n",
    "import requests_cache\n",
    "import matplotlib.pyplot as plt\n",
    "import seaborn as sns\n",
    "sns.set_context(\"notebook\", font_scale=1.25, rc={\"lines.linewidth\": 2.5})\n",
    "%matplotlib inline\n",
    "\n",
    "module_path = os.path.abspath(os.path.join('../'))\n",
    "if module_path not in sys.path:\n",
    "    sys.path.append(module_path)\n",
    "import ktp.census"
   ]
  },
  {
   "cell_type": "code",
   "execution_count": null,
   "metadata": {},
   "outputs": [],
   "source": [
    "# settings\n",
    "NAME = \"all-run-results\"\n",
    "SPATIAL_RESOLUTION = ktp.census.GeographicalLayer.WARD\n",
    "PATHS_TO_RESULT_FILES = {'age': Path('./build/haringey-scenario-lsoa-age/haringey-scenario-lsoa-age-results.db'),\n",
    "                         'economic': Path('./build/haringey-scenario-lsoa-economic/haringey-scenario-lsoa-economic-results.db')}"
   ]
  },
  {
   "cell_type": "code",
   "execution_count": null,
   "metadata": {},
   "outputs": [],
   "source": [
    "CACHE_FOLDER_PATH = Path('./build/')\n",
    "BUILD_FOLDER_PATH = Path('./build/') / NAME\n",
    "BUILD_FOLDER_PATH.mkdir(parents=True, exist_ok=True)\n",
    "TUS_DATA_FOLDER_PATH = Path('./data/UKDA-4504-tab/')"
   ]
  },
  {
   "cell_type": "code",
   "execution_count": null,
   "metadata": {},
   "outputs": [],
   "source": [
    "requests_cache.install_cache((CACHE_FOLDER_PATH / 'web-cache').as_posix())"
   ]
  },
  {
   "cell_type": "markdown",
   "metadata": {},
   "source": [
    "## Read Data"
   ]
  },
  {
   "cell_type": "code",
   "execution_count": null,
   "metadata": {},
   "outputs": [],
   "source": [
    "householdTypes = ktp.census.read_household_type_data(SPATIAL_RESOLUTION)\n",
    "age_structure = ktp.census.read_age_structure_data(SPATIAL_RESOLUTION)\n",
    "qualification_data = ktp.census.read_qualification_level_data(SPATIAL_RESOLUTION)\n",
    "economic_activity_data = ktp.census.read_economic_activity_data(SPATIAL_RESOLUTION)"
   ]
  },
  {
   "cell_type": "code",
   "execution_count": null,
   "metadata": {},
   "outputs": [],
   "source": [
    "AGE_MAP = {\n",
    "    ktp.types.AgeStructure.AGE_0_TO_4: 2.5,\n",
    "    ktp.types.AgeStructure.AGE_5_TO_7: 6.5,\n",
    "    ktp.types.AgeStructure.AGE_8_TO_9: 9,\n",
    "    ktp.types.AgeStructure.AGE_10_TO_14: 12.5,\n",
    "    ktp.types.AgeStructure.AGE_15: 15.5,\n",
    "    ktp.types.AgeStructure.AGE_16_TO_17: 17,\n",
    "    ktp.types.AgeStructure.AGE_18_TO_19: 19,\n",
    "    ktp.types.AgeStructure.AGE_20_TO_24: 22.5,\n",
    "    ktp.types.AgeStructure.AGE_25_TO_29: 27.5,\n",
    "    ktp.types.AgeStructure.AGE_30_TO_44: 37.5,\n",
    "    ktp.types.AgeStructure.AGE_45_TO_59: 52.5,\n",
    "    ktp.types.AgeStructure.AGE_60_TO_64: 62.5,\n",
    "    ktp.types.AgeStructure.AGE_65_TO_74: 70,\n",
    "    ktp.types.AgeStructure.AGE_75_TO_84: 80,\n",
    "    ktp.types.AgeStructure.AGE_85_TO_89: 87.5,\n",
    "    ktp.types.AgeStructure.AGE_90_AND_OVER: 95 # FIXME\n",
    "}\n",
    "\n",
    "def meanAge(age_structure):\n",
    "    age_structure_num = age_structure.copy()\n",
    "    for col in age_structure:\n",
    "        age_structure_num[col] = age_structure[col] * AGE_MAP[col]\n",
    "    return age_structure_num.sum(axis=1) / age_structure.sum(axis=1)\n",
    "    \n",
    "    \n",
    "def percent_highest_qualification(qualification_data):\n",
    "    return qualification_data[ktp.types.Qualification.LEVEL_45] / qualification_data.sum(axis=1)\n",
    "\n",
    "\n",
    "def percent_economic_active(economic_activity_data):\n",
    "    total_active = economic_activity_data[[ktp.types.EconomicActivity.EMPLOYEE_PART_TIME, \n",
    "                                           ktp.types.EconomicActivity.EMPLOYEE_FULL_TIME,\n",
    "                                           ktp.types.EconomicActivity.SELF_EMPLOYED, \n",
    "                                           ktp.types.EconomicActivity.ACTIVE_FULL_TIME_STUDENT]].sum(axis=1)\n",
    "    return total_active / economic_activity_data.sum(axis=1) "
   ]
  },
  {
   "cell_type": "code",
   "execution_count": null,
   "metadata": {},
   "outputs": [],
   "source": [
    "def load_thermal_power(name, path_to_file):\n",
    "    disk_engine = sqlalchemy.create_engine('sqlite:///{}'.format(path_to_file))\n",
    "    \n",
    "    thermal_power = pd.read_sql_query('SELECT * FROM thermalPower', disk_engine, index_col='timestamp', parse_dates=True)\n",
    "    thermal_power.index = pd.to_datetime(thermal_power.index * 1000 * 1000)\n",
    "    thermal_power.index.name = 'datetime'\n",
    "    thermal_power = thermal_power.pivot(columns='id')\n",
    "    thermal_power.columns = thermal_power.columns.droplevel(0)\n",
    "    thermal_power.name = 'thermal power'\n",
    "    dwellings = pd.read_sql_query('SELECT * FROM dwellings', disk_engine, index_col='index')\n",
    "    mean_thermal_power = thermal_power\\\n",
    "        .groupby(axis=1, by=lambda dwellingId: dwellings.loc[dwellingId, 'region'])\\\n",
    "        .mean()\n",
    "    mean_thermal_power['run'] = name\n",
    "    mean_thermal_power.reset_index(inplace=True)\n",
    "    return mean_thermal_power.set_index(['run', 'datetime'])\n",
    "    \n",
    "    \n",
    "def generate_derived_results(name, thermal_power):\n",
    "    geo_data = ktp.census.read_haringey_shape_file(SPATIAL_RESOLUTION)\n",
    "    geo_data['average_power'] = thermal_power.mean()\n",
    "    geo_data['number_households'] = householdTypes.sum(axis=1)\n",
    "    geo_data['number citizens'] = age_structure.sum(axis=1)\n",
    "    geo_data['avg household size'] = age_structure.sum(axis=1)/householdTypes.sum(axis=1)\n",
    "    geo_data['avg age'] = meanAge(age_structure)\n",
    "    geo_data['percent highest qual'] = percent_highest_qualification(qualification_data)\n",
    "    geo_data['percent economic act'] = percent_economic_active(economic_activity_data)\n",
    "    geo_data['run'] = name\n",
    "    return geo_data"
   ]
  },
  {
   "cell_type": "code",
   "execution_count": null,
   "metadata": {},
   "outputs": [],
   "source": [
    "thermal_power = pd.concat(load_thermal_power(name, path) for name, path in PATHS_TO_RESULT_FILES.items())"
   ]
  },
  {
   "cell_type": "code",
   "execution_count": null,
   "metadata": {},
   "outputs": [],
   "source": [
    "all_results = pd.concat(generate_derived_results(name, thermal_power.loc[name, :]) \n",
    "                        for name in PATHS_TO_RESULT_FILES.keys())"
   ]
  },
  {
   "cell_type": "markdown",
   "metadata": {},
   "source": [
    "## Plot Data"
   ]
  },
  {
   "cell_type": "code",
   "execution_count": null,
   "metadata": {},
   "outputs": [],
   "source": [
    "fig = plt.figure(figsize=(14, 7))\n",
    "plt.title('Average thermal power per {} for different runs'.format(SPATIAL_RESOLUTION))\n",
    "long_form_thermal_power = thermal_power.copy().unstack().unstack().reset_index()\\\n",
    "    .rename(columns={0: 'thermal_power', 'level_0': 'region'})\n",
    "\n",
    "number_results = len(PATHS_TO_RESULT_FILES.keys())\n",
    "for i, name in enumerate(PATHS_TO_RESULT_FILES.keys()):\n",
    "    if i == 0:\n",
    "        ax = plt.subplot(number_results, 1, i + 1)\n",
    "        first_ax = ax\n",
    "    else:\n",
    "        ax = plt.subplot(number_results, 1, i + 1, sharex=first_ax)\n",
    "    sns.tsplot(long_form_thermal_power[long_form_thermal_power.run == name], \n",
    "           time='datetime',\n",
    "           unit='region',\n",
    "           value='thermal_power',\n",
    "           err_style='unit_points',\n",
    "           ci=100,\n",
    "           color=sns.color_palette()[i])\n",
    "    plt.setp(ax.get_xticklabels(), visible=False)\n",
    "    plt.xlabel('')\n",
    "    plt.ylabel('thermal power [W]')\n",
    "    plt.title(name)\n",
    "fig.savefig((BUILD_FOLDER_PATH / 'thermal_power.png').as_posix())"
   ]
  },
  {
   "cell_type": "code",
   "execution_count": null,
   "metadata": {},
   "outputs": [],
   "source": [
    "fig = plt.figure(figsize=(7, 7))\n",
    "sns.violinplot(data=all_results, x='run', y='average_power', legend=True)\n",
    "_ = plt.ylabel('average thermal power per household [W]')\n",
    "_ = plt.title(\"Distribution of average thermal power per household among {}\".format(SPATIAL_RESOLUTION))\n",
    "fig.savefig((BUILD_FOLDER_PATH / \"distributation-average-power.png\").as_posix())"
   ]
  },
  {
   "cell_type": "code",
   "execution_count": null,
   "metadata": {},
   "outputs": [],
   "source": [
    "fig = sns.pairplot(\n",
    "    data=all_results,\n",
    "    y_vars=['average_power'],\n",
    "    x_vars=['avg household size', 'avg age', \n",
    "            'percent highest qual', 'percent economic act'],\n",
    "    hue='run')\n",
    "fig.savefig((BUILD_FOLDER_PATH / 'pairwise-distributions.png').as_posix())"
   ]
  },
  {
   "cell_type": "code",
   "execution_count": null,
   "metadata": {},
   "outputs": [],
   "source": []
  }
 ],
 "metadata": {
  "kernelspec": {
   "display_name": "Python [conda env:ktp-paper]",
   "language": "python",
   "name": "conda-env-ktp-paper-py"
  },
  "language_info": {
   "codemirror_mode": {
    "name": "ipython",
    "version": 3
   },
   "file_extension": ".py",
   "mimetype": "text/x-python",
   "name": "python",
   "nbconvert_exporter": "python",
   "pygments_lexer": "ipython3",
   "version": "3.6.0"
  }
 },
 "nbformat": 4,
 "nbformat_minor": 2
}
