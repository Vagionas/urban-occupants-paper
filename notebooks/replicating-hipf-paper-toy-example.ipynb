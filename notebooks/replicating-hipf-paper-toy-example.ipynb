{
 "cells": [
  {
   "cell_type": "code",
   "execution_count": 1,
   "metadata": {
    "collapsed": true
   },
   "outputs": [],
   "source": [
    "import itertools\n",
    "from collections import namedtuple\n",
    "import math\n",
    "\n",
    "import pandas as pd\n",
    "import numpy as np"
   ]
  },
  {
   "cell_type": "markdown",
   "metadata": {},
   "source": [
    "# Replication of the toy example of the HIPF paper\n",
    "\n",
    "This notebook successfully replicates the Hierarchical Iterative Proportional Fitting (HIPF) algorithm on a toy example. Both the algorithm and the toy example are taken from the original paper on HIPF: \n",
    "\n",
    "> Müller and Axhausen 2011: \"Hierarchical IPF: Generating a synthetic population for Switzerland\""
   ]
  },
  {
   "cell_type": "markdown",
   "metadata": {},
   "source": [
    "## Fixture and expected output\n",
    "\n",
    "In the following, the input data and expected output data is prepared."
   ]
  },
  {
   "cell_type": "code",
   "execution_count": 2,
   "metadata": {
    "collapsed": false
   },
   "outputs": [],
   "source": [
    "HouseholdType = namedtuple('HouseholdType', ['household_ids', 'a', 'alpha', 'expansion_factors'])\n",
    "household_types = []\n",
    "household_types.append(HouseholdType(\n",
    "    household_ids=range(1, 23), \n",
    "    a=True,\n",
    "    alpha=[True, False, False],\n",
    "    expansion_factors=[1.37, 1.36, 1.33, 1.28]\n",
    "))\n",
    "household_types.append(HouseholdType(\n",
    "    household_ids=range(23, 44), \n",
    "    a=True,\n",
    "    alpha=[True, False],\n",
    "    expansion_factors=[1.37, 1.57, 1.61, 1.61]\n",
    "))\n",
    "household_types.append(HouseholdType(\n",
    "    household_ids=range(44, 65), \n",
    "    a=True,\n",
    "    alpha=[False, False, False],\n",
    "    expansion_factors=[1.37, 0.94, 0.92, 0.75]\n",
    "))\n",
    "household_types.append(HouseholdType(\n",
    "    household_ids=range(65, 81), \n",
    "    a=False,\n",
    "    alpha=[False, False],\n",
    "    expansion_factors=[0.64, 0.44, 0.45, 0.38]\n",
    "))\n",
    "household_types.append(HouseholdType(\n",
    "    household_ids=range(81, 97), \n",
    "    a=False,\n",
    "    alpha=[True, False, False],\n",
    "    expansion_factors=[0.64, 0.64, 0.62, 0.66]\n",
    "))\n",
    "household_types.append(HouseholdType(\n",
    "    household_ids=range(97, 109), \n",
    "    a=False,\n",
    "    alpha=[False],\n",
    "    expansion_factors=[0.64, 0.44, 0.48, 0.38]\n",
    "))\n",
    "household_types.append(HouseholdType(\n",
    "    household_ids=range(109, 120), \n",
    "    a=True,\n",
    "    alpha=[False, False],\n",
    "    expansion_factors=[1.37, 0.94, 0.97, 0.75]\n",
    "))\n",
    "household_types.append(HouseholdType(\n",
    "    household_ids=range(120, 129), \n",
    "    a=True,\n",
    "    alpha=[False],\n",
    "    expansion_factors=[1.37, 0.94, 1.01, 0.75]\n",
    "))\n",
    "household_types.append(HouseholdType(\n",
    "    household_ids=range(129, 137), \n",
    "    a=False,\n",
    "    alpha=[True, True, False],\n",
    "    expansion_factors=[0.64, 0.83, 0.82, 1.00]\n",
    "))\n",
    "household_types.append(HouseholdType(\n",
    "    household_ids=range(137, 145), \n",
    "    a=True,\n",
    "    alpha=[True, True, False],\n",
    "    expansion_factors=[1.37, 1.77, 1.73, 1.95]\n",
    "))\n",
    "household_types.append(HouseholdType(\n",
    "    household_ids=range(145, 152), \n",
    "    a=False,\n",
    "    alpha=[True, False],\n",
    "    expansion_factors=[0.64, 0.74, 0.75, 0.82]\n",
    "))\n",
    "household_types.append(HouseholdType(\n",
    "    household_ids=range(152, 159), \n",
    "    a=False,\n",
    "    alpha=[False, False, False],\n",
    "    expansion_factors=[0.64, 0.44, 0.43, 0.38]\n",
    "))\n",
    "household_types.append(HouseholdType(\n",
    "    household_ids=range(159, 165), \n",
    "    a=True,\n",
    "    alpha=[True],\n",
    "    expansion_factors=[1.37, 2.19, 2.35, 2.76]\n",
    "))\n",
    "household_types.append(HouseholdType(\n",
    "    household_ids=range(165, 171), \n",
    "    a=True,\n",
    "    alpha=[True, True],\n",
    "    expansion_factors=[1.37, 2.19, 2.25, 2.75]\n",
    "))\n",
    "household_types.append(HouseholdType(\n",
    "    household_ids=range(171, 174), \n",
    "    a=False,\n",
    "    alpha=[True],\n",
    "    expansion_factors=[0.64, 1.03, 1.11, 1.41]\n",
    "))\n",
    "household_types.append(HouseholdType(\n",
    "    household_ids=range(174, 176), \n",
    "    a=True,\n",
    "    alpha=[True, True, True],\n",
    "    expansion_factors=[1.37, 2.19, 2.14, 2.74]\n",
    "))\n",
    "household_types.append(HouseholdType(\n",
    "    household_ids=range(176, 177), \n",
    "    a=False,\n",
    "    alpha=[True, True],\n",
    "    expansion_factors=[0.64, 1.03, 1.06, 1.40]\n",
    "))"
   ]
  },
  {
   "cell_type": "code",
   "execution_count": 3,
   "metadata": {
    "collapsed": false
   },
   "outputs": [],
   "source": [
    "id_tuples = itertools.chain(*(itertools.product(ht.household_ids, range(1, len(ht.alpha) + 1)) \n",
    "                              for ht in household_types))\n",
    "index = pd.MultiIndex.from_tuples(list(id_tuples), names=['household_id', 'person_id'])\n",
    "ref_sample = pd.DataFrame(index=index, columns=['a', 'alpha'])\n",
    "for ht in household_types:\n",
    "    ref_sample.ix[ht.household_ids[0]: ht.household_ids[-1], 'a'] = ht.a\n",
    "    for p, alpha in enumerate(ht.alpha):\n",
    "        ref_sample.loc[(slice(ht.household_ids[0], ht.household_ids[-1]), p + 1), 'alpha'] = alpha"
   ]
  },
  {
   "cell_type": "code",
   "execution_count": 4,
   "metadata": {
    "collapsed": false
   },
   "outputs": [],
   "source": [
    "assert ref_sample.groupby(ref_sample.index.get_level_values(0)).a.count().count() == 176"
   ]
  },
  {
   "cell_type": "code",
   "execution_count": 5,
   "metadata": {
    "collapsed": false
   },
   "outputs": [
    {
     "data": {
      "text/html": [
       "<div>\n",
       "<table border=\"1\" class=\"dataframe\">\n",
       "  <thead>\n",
       "    <tr style=\"text-align: right;\">\n",
       "      <th></th>\n",
       "      <th></th>\n",
       "      <th>a</th>\n",
       "      <th>alpha</th>\n",
       "    </tr>\n",
       "    <tr>\n",
       "      <th>household_id</th>\n",
       "      <th>person_id</th>\n",
       "      <th></th>\n",
       "      <th></th>\n",
       "    </tr>\n",
       "  </thead>\n",
       "  <tbody>\n",
       "    <tr>\n",
       "      <th rowspan=\"3\" valign=\"top\">1</th>\n",
       "      <th>1</th>\n",
       "      <td>True</td>\n",
       "      <td>True</td>\n",
       "    </tr>\n",
       "    <tr>\n",
       "      <th>2</th>\n",
       "      <td>True</td>\n",
       "      <td>False</td>\n",
       "    </tr>\n",
       "    <tr>\n",
       "      <th>3</th>\n",
       "      <td>True</td>\n",
       "      <td>False</td>\n",
       "    </tr>\n",
       "    <tr>\n",
       "      <th rowspan=\"2\" valign=\"top\">2</th>\n",
       "      <th>1</th>\n",
       "      <td>True</td>\n",
       "      <td>True</td>\n",
       "    </tr>\n",
       "    <tr>\n",
       "      <th>2</th>\n",
       "      <td>True</td>\n",
       "      <td>False</td>\n",
       "    </tr>\n",
       "  </tbody>\n",
       "</table>\n",
       "</div>"
      ],
      "text/plain": [
       "                           a  alpha\n",
       "household_id person_id             \n",
       "1            1          True   True\n",
       "             2          True  False\n",
       "             3          True  False\n",
       "2            1          True   True\n",
       "             2          True  False"
      ]
     },
     "execution_count": 5,
     "metadata": {},
     "output_type": "execute_result"
    }
   ],
   "source": [
    "ref_sample.head()"
   ]
  },
  {
   "cell_type": "code",
   "execution_count": 6,
   "metadata": {
    "collapsed": false
   },
   "outputs": [
    {
     "data": {
      "text/html": [
       "<div>\n",
       "<table border=\"1\" class=\"dataframe\">\n",
       "  <thead>\n",
       "    <tr style=\"text-align: right;\">\n",
       "      <th></th>\n",
       "      <th>0</th>\n",
       "      <th>1</th>\n",
       "      <th>4</th>\n",
       "      <th>5</th>\n",
       "      <th>10</th>\n",
       "    </tr>\n",
       "    <tr>\n",
       "      <th>household_id</th>\n",
       "      <th></th>\n",
       "      <th></th>\n",
       "      <th></th>\n",
       "      <th></th>\n",
       "      <th></th>\n",
       "    </tr>\n",
       "  </thead>\n",
       "  <tbody>\n",
       "    <tr>\n",
       "      <th>1</th>\n",
       "      <td>1.0</td>\n",
       "      <td>1.37</td>\n",
       "      <td>1.36</td>\n",
       "      <td>1.33</td>\n",
       "      <td>1.28</td>\n",
       "    </tr>\n",
       "    <tr>\n",
       "      <th>2</th>\n",
       "      <td>1.0</td>\n",
       "      <td>1.37</td>\n",
       "      <td>1.36</td>\n",
       "      <td>1.33</td>\n",
       "      <td>1.28</td>\n",
       "    </tr>\n",
       "    <tr>\n",
       "      <th>3</th>\n",
       "      <td>1.0</td>\n",
       "      <td>1.37</td>\n",
       "      <td>1.36</td>\n",
       "      <td>1.33</td>\n",
       "      <td>1.28</td>\n",
       "    </tr>\n",
       "    <tr>\n",
       "      <th>4</th>\n",
       "      <td>1.0</td>\n",
       "      <td>1.37</td>\n",
       "      <td>1.36</td>\n",
       "      <td>1.33</td>\n",
       "      <td>1.28</td>\n",
       "    </tr>\n",
       "    <tr>\n",
       "      <th>5</th>\n",
       "      <td>1.0</td>\n",
       "      <td>1.37</td>\n",
       "      <td>1.36</td>\n",
       "      <td>1.33</td>\n",
       "      <td>1.28</td>\n",
       "    </tr>\n",
       "  </tbody>\n",
       "</table>\n",
       "</div>"
      ],
      "text/plain": [
       "               0     1     4     5     10\n",
       "household_id                             \n",
       "1             1.0  1.37  1.36  1.33  1.28\n",
       "2             1.0  1.37  1.36  1.33  1.28\n",
       "3             1.0  1.37  1.36  1.33  1.28\n",
       "4             1.0  1.37  1.36  1.33  1.28\n",
       "5             1.0  1.37  1.36  1.33  1.28"
      ]
     },
     "execution_count": 6,
     "metadata": {},
     "output_type": "execute_result"
    }
   ],
   "source": [
    "expected_expansion_factors = pd.DataFrame(\n",
    "    index=ref_sample.groupby(ref_sample.index.get_level_values(0)).count().index.get_level_values(0), \n",
    "    columns=[0, 1, 4, 5, 10], \n",
    "    dtype=np.float64\n",
    ")\n",
    "expected_expansion_factors[0] = 1.\n",
    "for ht in household_types:\n",
    "    for household_id in ht.household_ids:\n",
    "        expected_expansion_factors.ix[household_id, 1] = ht.expansion_factors[0]\n",
    "        expected_expansion_factors.ix[household_id, 4] = ht.expansion_factors[1]\n",
    "        expected_expansion_factors.ix[household_id, 5] = ht.expansion_factors[2]\n",
    "        expected_expansion_factors.ix[household_id, 10] = ht.expansion_factors[3]\n",
    "expected_expansion_factors.head()"
   ]
  },
  {
   "cell_type": "markdown",
   "metadata": {},
   "source": [
    "### Test helper"
   ]
  },
  {
   "cell_type": "code",
   "execution_count": 7,
   "metadata": {
    "collapsed": true
   },
   "outputs": [],
   "source": [
    "from pandas.util.testing import assert_series_equal\n",
    "\n",
    "def assert_expansion_factors_equal(expected_expansion_factors, expansion_factors):\n",
    "    assert_series_equal(expected_expansion_factors, expansion_factors, check_less_precise=1)"
   ]
  },
  {
   "cell_type": "markdown",
   "metadata": {},
   "source": [
    "## Running HIPF"
   ]
  },
  {
   "cell_type": "code",
   "execution_count": 8,
   "metadata": {
    "collapsed": false
   },
   "outputs": [],
   "source": [
    "expansion_factors = pd.DataFrame(\n",
    "    index=ref_sample.groupby(ref_sample.index.get_level_values(0)).count().index.get_level_values(0), \n",
    "    data=1.0, \n",
    "    columns=[0], \n",
    "    dtype=np.float64\n",
    ")"
   ]
  },
  {
   "cell_type": "code",
   "execution_count": 9,
   "metadata": {
    "collapsed": false
   },
   "outputs": [
    {
     "data": {
      "text/html": [
       "<div>\n",
       "<table border=\"1\" class=\"dataframe\">\n",
       "  <thead>\n",
       "    <tr style=\"text-align: right;\">\n",
       "      <th></th>\n",
       "      <th>0</th>\n",
       "    </tr>\n",
       "    <tr>\n",
       "      <th>household_id</th>\n",
       "      <th></th>\n",
       "    </tr>\n",
       "  </thead>\n",
       "  <tbody>\n",
       "    <tr>\n",
       "      <th>1</th>\n",
       "      <td>1.0</td>\n",
       "    </tr>\n",
       "    <tr>\n",
       "      <th>2</th>\n",
       "      <td>1.0</td>\n",
       "    </tr>\n",
       "    <tr>\n",
       "      <th>3</th>\n",
       "      <td>1.0</td>\n",
       "    </tr>\n",
       "    <tr>\n",
       "      <th>4</th>\n",
       "      <td>1.0</td>\n",
       "    </tr>\n",
       "    <tr>\n",
       "      <th>5</th>\n",
       "      <td>1.0</td>\n",
       "    </tr>\n",
       "  </tbody>\n",
       "</table>\n",
       "</div>"
      ],
      "text/plain": [
       "                0\n",
       "household_id     \n",
       "1             1.0\n",
       "2             1.0\n",
       "3             1.0\n",
       "4             1.0\n",
       "5             1.0"
      ]
     },
     "execution_count": 9,
     "metadata": {},
     "output_type": "execute_result"
    }
   ],
   "source": [
    "expansion_factors.head()"
   ]
  },
  {
   "cell_type": "code",
   "execution_count": 10,
   "metadata": {
    "collapsed": false
   },
   "outputs": [],
   "source": [
    "assert_expansion_factors_equal(expected_expansion_factors[0], expansion_factors[0])"
   ]
  },
  {
   "cell_type": "markdown",
   "metadata": {},
   "source": [
    "### First Iteration"
   ]
  },
  {
   "cell_type": "code",
   "execution_count": 11,
   "metadata": {
    "collapsed": true
   },
   "outputs": [],
   "source": [
    "def fit_households(expansion_factors, total_car):\n",
    "    new_expansion_factors = expansion_factors.copy()\n",
    "    for household_id in expansion_factors.index:\n",
    "        ah = ref_sample.loc[(household_id, 1), 'a']\n",
    "        mask = ref_sample.groupby(ref_sample.index.get_level_values(0)).a.first() == ah\n",
    "        new_expansion_factors[household_id] = total_car[ah] / expansion_factors[mask].sum()\n",
    "    return new_expansion_factors"
   ]
  },
  {
   "cell_type": "code",
   "execution_count": 12,
   "metadata": {
    "collapsed": false
   },
   "outputs": [],
   "source": [
    "total_car = pd.Series(index=[True, False], data=[145, 45])\n",
    "expansion_factors[1] = fit_households(expansion_factors[0], total_car)"
   ]
  },
  {
   "cell_type": "code",
   "execution_count": 13,
   "metadata": {
    "collapsed": false
   },
   "outputs": [],
   "source": [
    "assert_expansion_factors_equal(expected_expansion_factors[1], expansion_factors[1])"
   ]
  },
  {
   "cell_type": "markdown",
   "metadata": {},
   "source": [
    "### Second Iteration"
   ]
  },
  {
   "cell_type": "code",
   "execution_count": 14,
   "metadata": {
    "collapsed": true
   },
   "outputs": [],
   "source": [
    "def expand_expansion_factors_to_person(expansion_factors):\n",
    "    person_expansion_factors = expansion_factors.copy()\n",
    "    person_expansion_factors = pd.DataFrame(person_expansion_factors)\n",
    "    person_expansion_factors['person_id'] = 1\n",
    "    person_expansion_factors.set_index('person_id', append=True, inplace=True)\n",
    "    person_expansion_factors = person_expansion_factors.reindex(ref_sample.index)\n",
    "    person_expansion_factors.fillna(method='ffill', inplace=True)\n",
    "    return person_expansion_factors[expansion_factors.name]"
   ]
  },
  {
   "cell_type": "code",
   "execution_count": 15,
   "metadata": {
    "collapsed": false,
    "scrolled": false
   },
   "outputs": [],
   "source": [
    "expansion_factors_p = expand_expansion_factors_to_person(expansion_factors[1])"
   ]
  },
  {
   "cell_type": "code",
   "execution_count": 16,
   "metadata": {
    "collapsed": false
   },
   "outputs": [
    {
     "data": {
      "text/plain": [
       "household_id  person_id\n",
       "1             1            1.367925\n",
       "              2            1.367925\n",
       "              3            1.367925\n",
       "2             1            1.367925\n",
       "              2            1.367925\n",
       "Name: 1, dtype: float64"
      ]
     },
     "execution_count": 16,
     "metadata": {},
     "output_type": "execute_result"
    }
   ],
   "source": [
    "expansion_factors_p.head()"
   ]
  },
  {
   "cell_type": "code",
   "execution_count": 17,
   "metadata": {
    "collapsed": false
   },
   "outputs": [],
   "source": [
    "assert math.isclose(expansion_factors_p.sum() - 8.27, 434, abs_tol=0.01)\n",
    "assert math.isclose(expansion_factors_p[ref_sample.alpha == True].sum() + 85.18, 227, abs_tol=0.01)"
   ]
  },
  {
   "cell_type": "markdown",
   "metadata": {},
   "source": [
    "### Third Iteration"
   ]
  },
  {
   "cell_type": "code",
   "execution_count": 18,
   "metadata": {
    "collapsed": true
   },
   "outputs": [],
   "source": [
    "def fit_person(expansion_factors, total_employment):\n",
    "    new_expansion_factors = expansion_factors.copy()\n",
    "    for person_id in expansion_factors.index:\n",
    "        alphah = ref_sample.loc[person_id, 'alpha']\n",
    "        mask = ref_sample.alpha == alphah\n",
    "        new_expansion_factors.loc[person_id] = expansion_factors_p.loc[person_id] * total_employment[alphah] / expansion_factors[mask].sum()\n",
    "    return new_expansion_factors"
   ]
  },
  {
   "cell_type": "code",
   "execution_count": 19,
   "metadata": {
    "collapsed": false
   },
   "outputs": [],
   "source": [
    "total_employment = {True: 227, False: 207}\n",
    "new_expansion_factors_p = fit_person(expansion_factors_p, total_employment)"
   ]
  },
  {
   "cell_type": "code",
   "execution_count": 20,
   "metadata": {
    "collapsed": true
   },
   "outputs": [],
   "source": [
    "assert math.isclose(new_expansion_factors_p.sum(), 434, abs_tol=0.01)\n",
    "assert math.isclose(new_expansion_factors_p[ref_sample.alpha == True].sum(), 227, abs_tol=0.01)"
   ]
  },
  {
   "cell_type": "markdown",
   "metadata": {},
   "source": [
    "### Forth Iteration"
   ]
  },
  {
   "cell_type": "code",
   "execution_count": 21,
   "metadata": {
    "collapsed": true
   },
   "outputs": [],
   "source": [
    "def aggregate_person_expansion_factors_to_household(person_expansion_factors):\n",
    "    return person_expansion_factors.groupby(person_expansion_factors.index.get_level_values(0)).mean()"
   ]
  },
  {
   "cell_type": "code",
   "execution_count": 22,
   "metadata": {
    "collapsed": false
   },
   "outputs": [],
   "source": [
    "expansion_factors[4] = aggregate_person_expansion_factors_to_household(new_expansion_factors_p)\n",
    "assert_expansion_factors_equal(expected_expansion_factors[4], expansion_factors[4])"
   ]
  },
  {
   "cell_type": "markdown",
   "metadata": {},
   "source": [
    "### Fifth Iteration"
   ]
  },
  {
   "cell_type": "code",
   "execution_count": 23,
   "metadata": {
    "collapsed": true
   },
   "outputs": [],
   "source": [
    "from itertools import filterfalse\n",
    "\n",
    "from numpy.polynomial import Polynomial\n",
    "\n",
    "\n",
    "def rescale_expansion_factors(expansion_factors):\n",
    "    largest_household_size = ref_sample.groupby(ref_sample.index.get_level_values(0)).alpha.count().max()\n",
    "    Fp = [expansion_factors[ref_sample.groupby(ref_sample.index.get_level_values(0)).alpha.count() == p].sum()\n",
    "          for p in range(0, largest_household_size + 1)]\n",
    "    polynom = [(190 / 434 * p - 1) * Fp[p] for p in range(0, largest_household_size + 1)]\n",
    "    roots = Polynomial(polynom).roots()\n",
    "    dx = list(filter(lambda x: np.real(x) > 0, filterfalse(lambda x: np.iscomplex(x), roots)))\n",
    "    assert len(dx) == 1\n",
    "    d = np.real(dx[0])\n",
    "    c = 190 / sum([Fp[p] * d ** p for p in range(1, largest_household_size + 1)])\n",
    "    fhprime_by_fh = {p: c * d ** p for p in range(1, largest_household_size + 1)}\n",
    "    \n",
    "    new_expansion_factors = expansion_factors.copy()\n",
    "    for household_id in expansion_factors.index:\n",
    "        household_size = ref_sample.groupby(ref_sample.index.get_level_values(0)).alpha.count()[household_id]\n",
    "        new_expansion_factors[household_id] = fhprime_by_fh[household_size] * expansion_factors[household_id]\n",
    "    return new_expansion_factors\n",
    "    "
   ]
  },
  {
   "cell_type": "code",
   "execution_count": 24,
   "metadata": {
    "collapsed": false
   },
   "outputs": [],
   "source": [
    "expansion_factors[5] = rescale_expansion_factors(expansion_factors[4])\n",
    "assert_expansion_factors_equal(expected_expansion_factors[5], expansion_factors[5])"
   ]
  },
  {
   "cell_type": "markdown",
   "metadata": {},
   "source": [
    "### Iteration 6-10"
   ]
  },
  {
   "cell_type": "code",
   "execution_count": 25,
   "metadata": {
    "collapsed": true
   },
   "outputs": [],
   "source": [
    "expansion_factors[6] = fit_households(expansion_factors[5], total_car)\n",
    "expansion_factors_p = expand_expansion_factors_to_person(expansion_factors[6])\n",
    "new_expansion_factors_p = fit_person(expansion_factors_p, total_employment)\n",
    "expansion_factors[9] = aggregate_person_expansion_factors_to_household(new_expansion_factors_p)\n",
    "expansion_factors[10] = rescale_expansion_factors(expansion_factors[9])"
   ]
  },
  {
   "cell_type": "code",
   "execution_count": 26,
   "metadata": {
    "collapsed": false
   },
   "outputs": [],
   "source": [
    "assert_expansion_factors_equal(expected_expansion_factors[10], expected_expansion_factors[10])"
   ]
  }
 ],
 "metadata": {
  "anaconda-cloud": {},
  "kernelspec": {
   "display_name": "Python [conda env:dev]",
   "language": "python",
   "name": "conda-env-dev-py"
  },
  "language_info": {
   "codemirror_mode": {
    "name": "ipython",
    "version": 3
   },
   "file_extension": ".py",
   "mimetype": "text/x-python",
   "name": "python",
   "nbconvert_exporter": "python",
   "pygments_lexer": "ipython3",
   "version": "3.6.0"
  }
 },
 "nbformat": 4,
 "nbformat_minor": 2
}
